{
 "cells": [
  {
   "cell_type": "code",
   "execution_count": 1,
   "metadata": {},
   "outputs": [
    {
     "data": {
      "text/plain": [
       "OrderedDict([('weight_ih_l0',\n",
       "              tensor([[ 0.2669, -0.1143, -0.2236],\n",
       "                      [ 0.2863, -0.0159,  0.2775],\n",
       "                      [-0.0579,  0.1331, -0.2472],\n",
       "                      [-0.0735,  0.3968, -0.1894],\n",
       "                      [-0.3651, -0.1891,  0.1048]])),\n",
       "             ('weight_hh_l0',\n",
       "              tensor([[ 0.3537, -0.1262,  0.2965, -0.1904,  0.2846],\n",
       "                      [ 0.2995,  0.2498,  0.2219,  0.0893,  0.0326],\n",
       "                      [-0.3502, -0.0288,  0.1137,  0.1069, -0.0950],\n",
       "                      [ 0.1848,  0.1391, -0.2094, -0.2717,  0.2391],\n",
       "                      [ 0.2323,  0.0424,  0.1715, -0.3682,  0.1796]])),\n",
       "             ('bias_ih_l0',\n",
       "              tensor([-0.4060, -0.3463, -0.0566,  0.3072, -0.3330])),\n",
       "             ('bias_hh_l0',\n",
       "              tensor([-0.2907,  0.0621, -0.0864,  0.2655,  0.1133]))])"
      ]
     },
     "execution_count": 1,
     "metadata": {},
     "output_type": "execute_result"
    }
   ],
   "source": [
    "import torch\n",
    "import torch.nn as nn\n",
    "rnn = nn.RNN(input_size=3, hidden_size=5)\n",
    "rnn.state_dict()\n"
   ]
  }
 ],
 "metadata": {
  "kernelspec": {
   "display_name": "torch",
   "language": "python",
   "name": "python3"
  },
  "language_info": {
   "codemirror_mode": {
    "name": "ipython",
    "version": 3
   },
   "file_extension": ".py",
   "mimetype": "text/x-python",
   "name": "python",
   "nbconvert_exporter": "python",
   "pygments_lexer": "ipython3",
   "version": "3.12.8"
  },
  "orig_nbformat": 4
 },
 "nbformat": 4,
 "nbformat_minor": 2
}
