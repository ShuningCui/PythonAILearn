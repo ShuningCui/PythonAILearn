{
 "cells": [
  {
   "cell_type": "code",
   "execution_count": 1,
   "metadata": {},
   "outputs": [],
   "source": [
    "import numpy as np\n",
    "import torch\n",
    "import torch.nn as nn\n",
    "import torch.nn.functional as F\n",
    "import torch.optim as optim\n",
    "\n",
    "from torch.utils.data import DataLoader, Dataset\n",
    "from torchvision.transforms import Compose, ToTensor, Normalize\n",
    "from torchvision import datasets"
   ]
  },
  {
   "cell_type": "code",
   "execution_count": 2,
   "metadata": {},
   "outputs": [],
   "source": [
    "mean = torch.tensor(0.1307)\n",
    "std = torch.tensor(0.3081)\n",
    "compose = Compose([ToTensor(), Normalize(mean,std)])\n",
    "train_dataset = datasets.MNIST('./data', train=True, transform=compose, download=False)\n",
    "test_dataset =  datasets.MNIST('./data', train=False, transform=compose, download=False)\n",
    "train_loader = DataLoader(train_dataset, batch_size=1000, shuffle=True)\n",
    "test_loader = DataLoader(test_dataset, batch_size=1000)"
   ]
  },
  {
   "cell_type": "code",
   "execution_count": 3,
   "metadata": {},
   "outputs": [],
   "source": [
    "def mini_batch_train(data_loader,model,optimizer,loss_fn):\n",
    "    mini_batch_losses = []\n",
    "    for x_batch, y_batch in data_loader:\n",
    "        # 置为训练状态\n",
    "        model.train()\n",
    "        # Step 1 - 前向计算预测值\n",
    "        yhat = model(x_batch)\n",
    "        # Step 2 - 计算损失\n",
    "        mini_batch_loss = loss_fn(yhat, y_batch)\n",
    "        # Step 3 - 计算梯度\n",
    "        mini_batch_loss.backward()\n",
    "        # Step 4 - 参数更新\n",
    "        optimizer.step()\n",
    "        optimizer.zero_grad()\n",
    "\n",
    "        mini_batch_losses.append(mini_batch_loss.item())\n",
    "                  \n",
    "    loss = np.mean(mini_batch_losses)\n",
    "    return loss"
   ]
  },
  {
   "cell_type": "code",
   "execution_count": 4,
   "metadata": {},
   "outputs": [],
   "source": [
    "def mini_batch_val(data_loader,model,loss_fn):\n",
    "    mini_batch_losses = []\n",
    "    for x_batch, y_batch in data_loader:\n",
    "        # 置为验证状态\n",
    "        model.eval()\n",
    "        # Step 1 - 前向计算预测值\n",
    "        yhat = model(x_batch)\n",
    "        # Step 2 - 计算损失\n",
    "        mini_batch_loss = loss_fn(yhat, y_batch)\n",
    "        mini_batch_losses.append(mini_batch_loss.item())\n",
    "                  \n",
    "    loss = np.mean(mini_batch_losses)\n",
    "    return loss"
   ]
  },
  {
   "cell_type": "code",
   "execution_count": 5,
   "metadata": {},
   "outputs": [],
   "source": [
    "def train(model, train_loader, test_loader, loss_fn, optimizer, epochs):\n",
    "    # 指定随机数种子，可以再现数据\n",
    "    np.random.seed(23)\n",
    "    torch.manual_seed(23)\n",
    "\n",
    "    # 循环轮数计数\n",
    "    total_epochs = 0\n",
    "\n",
    "    losses = []  # 每轮训练的损失\n",
    "    val_losses = [] #  每轮验证数据的损失\n",
    "\n",
    "    for epoch in range(epochs):\n",
    "        model.train()\n",
    "        total_epochs += 1\n",
    "\n",
    "        # 进入mini-batch的内循环\n",
    "        loss = mini_batch_train(train_loader,model,optimizer,loss_fn)\n",
    "        losses.append(loss)\n",
    "\n",
    "        # 验证数据集（验证不需要计算梯度）\n",
    "        with torch.no_grad():\n",
    "            # 验证集的 mini_batch\n",
    "            val_loss = mini_batch_val(test_loader,model,loss_fn)\n",
    "            val_losses.append(val_loss)\n",
    "    \n",
    "    return losses, val_losses"
   ]
  },
  {
   "cell_type": "code",
   "execution_count": 6,
   "metadata": {},
   "outputs": [],
   "source": [
    "class CNN(nn.Module):\n",
    "    def __init__(self, n_feature, p=0.0):\n",
    "        super().__init__()\n",
    "        self.n_feature = n_feature\n",
    "        self.p = p\n",
    "        # Creates the convolution layers\n",
    "        self.conv1 = nn.Conv2d(in_channels=1, out_channels=n_feature, kernel_size=3, padding=1)\n",
    "        self.conv2 = nn.Conv2d(in_channels=n_feature, out_channels=n_feature, kernel_size=3,padding=1)\n",
    "        \n",
    "        self.fc1 = nn.Linear(n_feature*7*7, 392)\n",
    "        self.fc2 = nn.Linear(392, 196)\n",
    "        self.fc3 = nn.Linear(196, 98)\n",
    "        self.fc4 = nn.Linear(98, 10)\n",
    "        # Creates dropout layers\n",
    "        self.drop = nn.Dropout(self.p)\n",
    "\n",
    "    def featurizer(self, x):\n",
    "        # Featurizer\n",
    "        # First convolutional block\n",
    "        # 1@28x28 -> n_feature@28x28 -> n_feature@14x14\n",
    "        x = self.conv1(x)\n",
    "        x = F.relu(x)\n",
    "        x = F.max_pool2d(x, kernel_size=2)\n",
    "        # Second convolutional block\n",
    "        # n_feature@14x14 -> n_feature@14x14 -> n_feature@7x7\n",
    "        x = self.conv2(x)\n",
    "        x = F.relu(x)\n",
    "        x = F.max_pool2d(x, kernel_size=2)\n",
    "       \n",
    "        x = nn.Flatten()(x)\n",
    "        return x\n",
    "\n",
    "    def classifier(self, x):\n",
    "        \n",
    "        if self.p > 0:\n",
    "            x = self.drop(x)\n",
    "        x = self.fc1(x)\n",
    "        x = F.relu(x)\n",
    "        if self.p > 0:\n",
    "            x = self.drop(x)\n",
    "        x = self.fc2(x)\n",
    "        x = F.relu(x)\n",
    "        if self.p > 0:\n",
    "            x = self.drop(x)\n",
    "        x = self.fc3(x)\n",
    "        x = F.relu(x)\n",
    "        if self.p > 0:\n",
    "            x = self.drop(x)\n",
    "        x = self.fc4(x)\n",
    "        return x\n",
    "\n",
    "    def forward(self, x):\n",
    "        x = self.featurizer(x)\n",
    "        x = self.classifier(x)\n",
    "        return x"
   ]
  },
  {
   "cell_type": "code",
   "execution_count": 7,
   "metadata": {},
   "outputs": [],
   "source": [
    "model = CNN(16, 0.3)\n",
    "lr = 3e-4\n",
    "epochs = 50\n",
    "loss_fn = nn.CrossEntropyLoss()\n",
    "optimizer = torch.optim.Adam(model.parameters(), lr=lr)\n",
    "train_loss, val_loss = train(model, train_loader, test_loader, loss_fn, optimizer, epochs)"
   ]
  },
  {
   "cell_type": "code",
   "execution_count": 8,
   "metadata": {},
   "outputs": [
    {
     "data": {
      "image/png": "[encoded data removed]",
      "text/plain": [
       "<Figure size 1000x400 with 1 Axes>"
      ]
     },
     "metadata": {},
     "output_type": "display_data"
    }
   ],
   "source": [
    "import matplotlib.pyplot as plt\n",
    "from matplotlib.colors import ListedColormap\n",
    "\n",
    "plt.style.use('fivethirtyeight')\n",
    "def plot_losses():\n",
    "    fig = plt.figure(figsize=(10, 4))\n",
    "    plt.plot(train_loss, label='Training Loss', c='b')\n",
    "    plt.plot(val_loss, label='Validation Loss', c='r')\n",
    "    plt.yscale('log')\n",
    "    plt.xlabel('Epochs')\n",
    "    plt.ylabel('Loss')\n",
    "    plt.legend()\n",
    "    plt.tight_layout()\n",
    "    return fig\n",
    "\n",
    "fig=plot_losses()"
   ]
  },
  {
   "cell_type": "code",
   "execution_count": 9,
   "metadata": {},
   "outputs": [],
   "source": [
    "def correct(model, x, y):\n",
    "        model.eval()\n",
    "        yhat = model(x)\n",
    "        _, predicted = torch.max(yhat, 1)\n",
    "        n_samples, n_dims = yhat.shape\n",
    "        result = []\n",
    "        for c in range(n_dims):\n",
    "            n_class = (y == c).sum().item()\n",
    "            n_correct = (predicted[y == c] == c).sum().item()\n",
    "            result.append((n_correct, n_class))\n",
    "        \n",
    "        return torch.tensor(result)"
   ]
  },
  {
   "cell_type": "code",
   "execution_count": 10,
   "metadata": {},
   "outputs": [
    {
     "data": {
      "text/plain": [
       "tensor([ 9932, 10000])"
      ]
     },
     "execution_count": 10,
     "metadata": {},
     "output_type": "execute_result"
    }
   ],
   "source": [
    "results = [correct(model, x, y) for i, (x, y) in enumerate(test_loader)]\n",
    "results = torch.stack(results, axis=0)\n",
    "results = results.sum(axis=0)\n",
    "results.sum(axis=0)"
   ]
  }
 ],
 "metadata": {
  "kernelspec": {
   "display_name": "Python 3",
   "language": "python",
   "name": "python3"
  },
  "language_info": {
   "codemirror_mode": {
    "name": "ipython",
    "version": 3
   },
   "file_extension": ".py",
   "mimetype": "text/x-python",
   "name": "python",
   "nbconvert_exporter": "python",
   "pygments_lexer": "ipython3",
   "version": "3.11.4"
  },
  "orig_nbformat": 4
 },
 "nbformat": 4,
 "nbformat_minor": 2
}
