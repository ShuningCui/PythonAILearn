{
 "cells": [
  {
   "cell_type": "code",
   "execution_count": null,
   "id": "2c2fe706",
   "metadata": {},
   "outputs": [],
   "source": [
    "import torch\n",
    "import torch.nn as nn\n",
    "import torch.nn.functional as F\n",
    "import torch.optim as optim\n",
    "import PIL.Image as Image\n",
    "import numpy as np\n",
    "\n",
    "from torchvision.transforms import ToTensor, Resize, Compose\n",
    "from torch.utils.data import DataLoader, Dataset\n",
    "from pathlib import Path\n",
    "from matplotlib import pyplot as plt\n",
    "from torchmetrics.image import StructuralSimilarityIndexMeasure\n"
   ]
  },
  {
   "cell_type": "code",
   "execution_count": null,
   "id": "4806ea80",
   "metadata": {},
   "outputs": [],
   "source": [
    "class ImageFile(Dataset):\n",
    "    def __init__(self, image_path, transform=None):\n",
    "        self.image_path = Path(image_path)\n",
    "        self.transform = transform\n",
    "        image_extensions = ('*.jpg', '*.jpeg', '*.png', '*.gif')\n",
    "        self.image_files = [file for ext in image_extensions \n",
    "                            for file in self.image_path.glob(ext)]\n",
    "    \n",
    "    def __len__(self):\n",
    "        return len(self.image_files)\n",
    "\n",
    "    def __getitem__(self, idx):\n",
    "        image_file = self.image_files[idx]\n",
    "        image = Image.open(image_file).convert('RGB')\n",
    "        if self.transform:\n",
    "            image = self.transform(image)\n",
    "        return image, image"
   ]
  },
  {
   "cell_type": "code",
   "execution_count": null,
   "id": "9c14f736",
   "metadata": {},
   "outputs": [],
   "source": [
    "transform = Compose([\n",
    "    Resize((64,64)),\n",
    "    ToTensor(),\n",
    "])\n",
    "image_path = '/opt/data/private/datasets/AnimeFace'"
   ]
  },
  {
   "cell_type": "code",
   "execution_count": null,
   "id": "5ab3ccaa",
   "metadata": {},
   "outputs": [],
   "source": [
    "ImageDataset = ImageFile(image_path=image_path, transform=transform)\n",
    "train_loader = DataLoader(ImageDataset, batch_size=256, shuffle=True)"
   ]
  },
  {
   "cell_type": "code",
   "execution_count": null,
   "id": "2c4adcb2",
   "metadata": {},
   "outputs": [],
   "source": [
    "fig, ax = plt.subplots(1, 10)\n",
    "for i in range(10):\n",
    "    train = ImageDataset[i][0].permute(1, 2, 0).numpy()\n",
    "    ax[i].imshow(train)\n",
    "    ax[i].axis('off')"
   ]
  },
  {
   "cell_type": "markdown",
   "id": "4f6e0821",
   "metadata": {},
   "source": [
    "images, _ = next(iter(train_loader))\n",
    "print(images.shape)  # Should print torch.Size([32, 3, 64, 64])"
   ]
  },
  {
   "cell_type": "markdown",
   "id": "6ec8401f",
   "metadata": {},
   "source": [
    "fig, ax = plt.subplots(1, 10)\n",
    "for i in range(10):\n",
    "    ax[i].imshow(images[i].permute(1, 2, 0).numpy())\n",
    "    ax[i].axis('off')"
   ]
  },
  {
   "cell_type": "markdown",
   "id": "4971183a",
   "metadata": {},
   "source": [
    "x = images[0]\n",
    "x.max(), x.min(), x.mean(), x.std()  # Check the tensor values"
   ]
  },
  {
   "cell_type": "markdown",
   "id": "833f33b5",
   "metadata": {},
   "source": [
    "**输入图像维度**：假设输入图像的维度为\\(W\\times H\\times C\\)，其中\\(W\\)是图像的宽度，\\(H\\)是图像的高度，\\(C\\)是图像的通道数。\n",
    "- **卷积核维度**：设卷积核的大小为\\(K\\times K\\)，卷积核的数量为\\(N\\)（即输出通道数）。\n",
    "- **填充（Padding）**：通常用\\(P\\)表示在图像周围填充的像素数。如果是对称填充，那么在宽度和高度方向上都分别填充\\(P\\)个像素。\n",
    "- **步幅（Stride）**：用\\(S\\)表示，它指的是卷积核在图像上滑动的步长。\n",
    "\n",
    "经过卷积操作后，输出特征图的维度计算公式如下：\n",
    "\n",
    "- **输出宽度**：$ W_{out}=\\lfloor\\frac{W + 2P - K}{S}\\rfloor + 1 $\n",
    "- **输出高度**：$ H_{out}=\\lfloor\\frac{H + 2P - K}{S}\\rfloor + 1 $\n",
    "- **输出通道数**：$ C_{out}=N $\n"
   ]
  },
  {
   "cell_type": "code",
   "execution_count": null,
   "id": "7115e6fc",
   "metadata": {},
   "outputs": [],
   "source": [
    "class Encoder(nn.Module):\n",
    "    def __init__(self, in_channels=3):\n",
    "        super().__init__()\n",
    "        self.con_block = nn.Sequential(\n",
    "            # 3@64x64 -> 64@32x32\n",
    "            nn.Conv2d(in_channels, 64, kernel_size=4, stride=2, padding=1),\n",
    "            nn.ReLU(),\n",
    "            nn.BatchNorm2d(64),\n",
    "            # 64@32x32 -> 128@16x16\n",
    "            nn.Conv2d(64, 128, kernel_size=4, stride=2, padding=1),\n",
    "            nn.ReLU(),\n",
    "            nn.BatchNorm2d(128),\n",
    "            # 128@16x16 -> 256@8x8\n",
    "            nn.Conv2d(128, 256, kernel_size=4, stride=2, padding=1),\n",
    "            nn.ReLU(),\n",
    "            nn.BatchNorm2d(256),\n",
    "            # 256@8x8 -> 512@4x4\n",
    "            nn.Conv2d(256, 512, kernel_size=4, stride=2, padding=1),\n",
    "            nn.ReLU(),\n",
    "            nn.BatchNorm2d(512),\n",
    "            # 512@4x4 -> 1024@1x1\n",
    "            nn.Conv2d(512, 1024, kernel_size=4, stride=2, padding=0),\n",
    "            nn.ReLU(),\n",
    "            nn.BatchNorm2d(1024),\n",
    "        )\n",
    "        self.fc_block = nn.Sequential(\n",
    "            nn.Linear(1024, 512),\n",
    "            nn.ReLU(),\n",
    "            nn.Linear(512, 256),\n",
    "        )\n",
    "    \n",
    "    def forward(self, x):\n",
    "        x = self.con_block(x)\n",
    "        # shape: (batch_size, 1024, 1, 1)\n",
    "        x = x.flatten(start_dim=1)\n",
    "        # shape: (batch_size, 1024)\n",
    "        x = self.fc_block(x)\n",
    "        # shape: (batch_size, 256)\n",
    "        return x       "
   ]
  },
  {
   "cell_type": "markdown",
   "id": "3bc99aa6",
   "metadata": {},
   "source": [
    "encoder = Encoder(in_channels=3)\n",
    "images_encoded = encoder(images)\n",
    "images_encoded.shape  # Should print torch.Size([32, 256])"
   ]
  },
  {
   "cell_type": "markdown",
   "id": "a98d71e8",
   "metadata": {},
   "source": [
    "反卷积（也称为转置卷积）是卷积的逆操作，其维度变化公式与卷积类似，但计算方式略有不同。以下是二维反卷积的维度变化公式：\n",
    "- **输入特征图维度**：假设输入特征图的维度为\\(W\\times H\\times C\\)，其中\\(W\\)是特征图的宽度，\\(H\\)是特征图的高度，\\(C\\)是特征图的通道数。\n",
    "- **卷积核维度**：设卷积核的大小为\\(K\\times K\\)，卷积核的数量为\\(N\\)（即输出通道数）。\n",
    "- **填充（Padding）**：通常用\\(P\\)表示在特征图周围填充的像素数。如果是对称填充，那么在宽度和高度方向上都分别填充\\(P\\)个像素。需要注意的是，在反卷积中，填充的效果与卷积相反，它会减少输出的尺寸。\n",
    "- **步幅（Stride）**：用\\(S\\)表示，它指的是卷积核在特征图上滑动的步长。\n",
    "\n",
    "经过反卷积操作后，输出图像的维度计算公式如下：\n",
    "\n",
    "- **输出宽度**：$W_{out}=(W - 1)\\times S - 2P + K$\n",
    "- **输出高度**：$H_{out}=(H - 1)\\times S - 2P + K$\n",
    "- **输出通道数**：$C_{out}=N$\n"
   ]
  },
  {
   "cell_type": "code",
   "execution_count": null,
   "id": "41967517",
   "metadata": {},
   "outputs": [],
   "source": [
    "class Decoder(nn.Module):\n",
    "    def __init__(self, out_channels=3):\n",
    "        super().__init__()\n",
    "        self.fc_block = nn.Sequential(\n",
    "            # shape: (batch_size, 256) -> (batch_size, 2048)\n",
    "            nn.Linear(256, 512),\n",
    "            nn.ReLU(),\n",
    "            # shape: (batch_size, 512) -> (batch_size, 1024)\n",
    "            nn.Linear(512, 1024),\n",
    "            nn.ReLU(),\n",
    "        )\n",
    "        self.con_block = nn.Sequential(\n",
    "            # 2048@1x1 -> 1024@4x4\n",
    "            nn.ConvTranspose2d(1024, 512, kernel_size=4, stride=1, padding=0),\n",
    "            nn.ReLU(),\n",
    "            nn.BatchNorm2d(512),\n",
    "            # 1024@4x4 -> 512@8x8\n",
    "            nn.ConvTranspose2d(512, 256, kernel_size=4, stride=2, padding=1),\n",
    "            nn.ReLU(),\n",
    "            nn.BatchNorm2d(256),\n",
    "            # 512@8x8 -> 256@16x16\n",
    "            nn.ConvTranspose2d(256, 128, kernel_size=4, stride=2, padding=1),\n",
    "            nn.ReLU(),\n",
    "            nn.BatchNorm2d(128),\n",
    "            # 256@16x16 -> 128@32x32\n",
    "            nn.ConvTranspose2d(128, 64, kernel_size=4, stride=2, padding=1),\n",
    "            nn.ReLU(),\n",
    "            nn.BatchNorm2d(64),\n",
    "            # 128@32x32 -> 64@64x64\n",
    "            nn.ConvTranspose2d(64, out_channels, kernel_size=4, stride=2, padding=1),\n",
    "            nn.ReLU(),\n",
    "            nn.BatchNorm2d(out_channels),\n",
    "        )\n",
    "    \n",
    "    def forward(self, x):\n",
    "        x = self.fc_block(x)\n",
    "        # shape: (batch_size, 1024)\n",
    "        x = x.view(-1, 1024, 1, 1)\n",
    "        # shape: (batch_size, 1024, 1, 1)\n",
    "        x = self.con_block(x)\n",
    "        # shape: (batch_size, out_channels, 64, 64)\n",
    "        return F.tanh(x)\n"
   ]
  },
  {
   "cell_type": "markdown",
   "id": "02a9a044",
   "metadata": {},
   "source": [
    "decoder = Decoder(out_channels=3)\n",
    "images_decoded = decoder(images_encoded)\n",
    "images_decoded.shape  # Should print torch.Size([32, 3, 64, 64])"
   ]
  },
  {
   "cell_type": "markdown",
   "id": "fdead405",
   "metadata": {},
   "source": [
    "fig, ax = plt.subplots(1, 10)\n",
    "for i in range(10):\n",
    "    ax[i].imshow((images_decoded[i].permute(1, 2, 0).detach().numpy()+1)/2)\n",
    "    ax[i].axis('off')"
   ]
  },
  {
   "cell_type": "code",
   "execution_count": null,
   "id": "9dfae010",
   "metadata": {},
   "outputs": [],
   "source": [
    "class AutoEncoder(nn.Module):\n",
    "    def __init__(self, in_channels=3, out_channels=3):\n",
    "        super().__init__()\n",
    "        self.encoder = Encoder(in_channels=in_channels)\n",
    "        self.decoder = Decoder(out_channels=out_channels)\n",
    "    \n",
    "    def forward(self, x):\n",
    "        x = self.encoder(x)\n",
    "        x = self.decoder(x)\n",
    "        return x"
   ]
  },
  {
   "cell_type": "code",
   "execution_count": null,
   "id": "21896022",
   "metadata": {},
   "outputs": [],
   "source": [
    "class SSIMLoss(nn.Module):\n",
    "    def __init__(self):\n",
    "        super().__init__()\n",
    "        self.ssim = StructuralSimilarityIndexMeasure(data_range=1.0)\n",
    "    \n",
    "    def forward(self, x, y):\n",
    "        return 1 - self.ssim(x, y)"
   ]
  },
  {
   "cell_type": "code",
   "execution_count": null,
   "id": "759b5d13",
   "metadata": {},
   "outputs": [],
   "source": [
    "def mini_batch_train(data_loader,model,optimizer,loss_fn,device='cuda'):\n",
    "    mini_batch_losses = []\n",
    "    for x_batch, y_batch in data_loader:\n",
    "        # 将数据放到GPU上\n",
    "        x_batch = x_batch.to(device)\n",
    "        y_batch = y_batch.to(device)\n",
    "        # 置为训练状态\n",
    "        model.train()\n",
    "        # Step 1 - 前向计算预测值\n",
    "        yhat = model(x_batch)\n",
    "        # Step 2 - 计算损失\n",
    "        mini_batch_loss = loss_fn(yhat, y_batch)\n",
    "        # Step 3 - 计算梯度\n",
    "        mini_batch_loss.backward()\n",
    "        # Step 4 - 参数更新\n",
    "        optimizer.step()\n",
    "        optimizer.zero_grad()\n",
    "\n",
    "        mini_batch_losses.append(mini_batch_loss.item())\n",
    "                  \n",
    "    loss = np.mean(mini_batch_losses)\n",
    "    return loss"
   ]
  },
  {
   "cell_type": "code",
   "execution_count": null,
   "id": "3aa9f404",
   "metadata": {},
   "outputs": [],
   "source": [
    "def train(model, train_loader, test_loader, loss_fn, optimizer, epochs, device='cuda'):\n",
    "    model.to(device)\n",
    "    loss_fn.to(device)\n",
    "    # 循环轮数计数\n",
    "    total_epochs = 0\n",
    "\n",
    "    losses = []  # 每轮训练的损失\n",
    "\n",
    "    for epoch in range(epochs):\n",
    "        model.train()\n",
    "        total_epochs += 1\n",
    "\n",
    "        # 进入mini-batch的内循环\n",
    "        loss = mini_batch_train(train_loader,model,optimizer,loss_fn,device)\n",
    "        losses.append(loss)\n",
    "        print(f\"Epoch {total_epochs}/{epochs}, Loss: {loss:.4f}\")\n",
    "    \n",
    "    return losses"
   ]
  },
  {
   "cell_type": "code",
   "execution_count": null,
   "id": "2afeffc8",
   "metadata": {},
   "outputs": [],
   "source": [
    "epochs = 5\n",
    "lr = 1e-3\n",
    "model = AutoEncoder(in_channels=3, out_channels=3)\n",
    "optimizer = optim.AdamW(model.parameters(), lr=lr, weight_decay=1e-5)\n",
    "loss_fn = SSIMLoss()\n",
    "device = 'cuda' if torch.cuda.is_available() else 'cpu'"
   ]
  },
  {
   "cell_type": "code",
   "execution_count": null,
   "id": "4d7bcbce",
   "metadata": {},
   "outputs": [],
   "source": [
    "train_losses = train(model, train_loader, None, loss_fn, optimizer, epochs, device=device)"
   ]
  },
  {
   "cell_type": "code",
   "execution_count": null,
   "id": "e2d95068",
   "metadata": {},
   "outputs": [],
   "source": [
    "plt.style.use('fivethirtyeight')\n",
    "def plot_losses():\n",
    "    fig = plt.figure(figsize=(10, 4))\n",
    "    plt.plot(train_losses, label='Training Loss', c='b')\n",
    "    plt.yscale('log')\n",
    "    plt.xlabel('Epochs')\n",
    "    plt.ylabel('Loss')\n",
    "    plt.legend()\n",
    "    plt.tight_layout()\n",
    "    return fig\n",
    "\n",
    "fig=plot_losses()"
   ]
  },
  {
   "cell_type": "code",
   "execution_count": null,
   "id": "21ae4984",
   "metadata": {},
   "outputs": [],
   "source": [
    "fake_image = torch.randn(5,256).to(device)\n",
    "with torch.inference_mode():\n",
    "    reconstructed_image = model.decoder(fake_image)\n",
    "reconstructed_image.shape"
   ]
  },
  {
   "cell_type": "code",
   "execution_count": null,
   "id": "986bc31b",
   "metadata": {},
   "outputs": [],
   "source": [
    "fig, ax = plt.subplots(1, 5, figsize=(5, 5))\n",
    "for i in range(5):\n",
    "   ax[i].imshow((reconstructed_image[i].cpu().permute(1, 2, 0).numpy()+1)/2)\n",
    "   ax[i].axis('off')\n"
   ]
  },
  {
   "cell_type": "code",
   "execution_count": null,
   "id": "418d5f2b",
   "metadata": {},
   "outputs": [],
   "source": [
    "# for i in range(5):\n",
    "#     plt.imsave(f'./data/outputs/img_{i}.png', reconstructed_image[i].cpu().permute(1, 2, 0).numpy())"
   ]
  },
  {
   "cell_type": "code",
   "execution_count": null,
   "id": "d1a0555d",
   "metadata": {},
   "outputs": [],
   "source": [
    "# bimport torchsummary"
   ]
  },
  {
   "cell_type": "code",
   "execution_count": null,
   "id": "b2f37f95",
   "metadata": {},
   "outputs": [],
   "source": [
    "# torchsummary.summary(model, input_size=(3, 64, 64), device=\"cuda\")"
   ]
  }
 ],
 "metadata": {
  "kernelspec": {
   "display_name": "torch",
   "language": "python",
   "name": "python3"
  },
  "language_info": {
   "codemirror_mode": {
    "name": "ipython",
    "version": 3
   },
   "file_extension": ".py",
   "mimetype": "text/x-python",
   "name": "python",
   "nbconvert_exporter": "python",
   "pygments_lexer": "ipython3",
   "version": "3.12.3"
  }
 },
 "nbformat": 4,
 "nbformat_minor": 5
}
