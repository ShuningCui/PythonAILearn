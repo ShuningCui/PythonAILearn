{
 "cells": [
  {
   "cell_type": "code",
   "execution_count": 2,
   "metadata": {},
   "outputs": [],
   "source": [
    "import struct\n",
    "import numpy as np"
   ]
  },
  {
   "cell_type": "code",
   "execution_count": 3,
   "metadata": {},
   "outputs": [],
   "source": [
    "train_data = \"./data/train-images.idx3-ubyte\"\n",
    "train_data_label = \"./data/train-labels.idx1-ubyte\"\n",
    "test_data = \"./data/t10k-images.idx3-ubyte\"\n",
    "test_data_label = \"./data/t10k-labels.idx1-ubyte\"\n",
    "\n",
    "with open(train_data,'rb') as trdata:\n",
    "    _, train_number, row, col = struct.unpack('>IIII', trdata.read(16))\n",
    "    train_images = np.fromfile(trdata, dtype=np.uint8).reshape(train_number,row,col,1)\n",
    "\n",
    "with open(train_data_label, 'rb') as trlabel:\n",
    "    _, train_lable_number = struct.unpack('>II',trlabel.read(8))\n",
    "    train_labels = np.fromfile(trlabel, dtype=np.uint8)\n",
    "\n",
    "with open(test_data,'rb') as testdata:\n",
    "    _, test_number, row, col = struct.unpack('>IIII', testdata.read(16))\n",
    "    test_images = np.fromfile(testdata, dtype=np.uint8).reshape(test_number,row,col,1)\n",
    "\n",
    "with open(test_data_label, 'rb') as testlabel:\n",
    "    _, test_lable_number = struct.unpack('>II',testlabel.read(8))\n",
    "    test_labels = np.fromfile(testlabel, dtype=np.uint8)"
   ]
  },
  {
   "cell_type": "code",
   "execution_count": 4,
   "metadata": {},
   "outputs": [],
   "source": [
    "import matplotlib.pyplot as plt\n",
    "from matplotlib.colors import ListedColormap\n",
    "plt.style.use('fivethirtyeight')"
   ]
  },
  {
   "cell_type": "code",
   "execution_count": 5,
   "metadata": {},
   "outputs": [
    {
     "data": {
      "image/png": "[encoded data removed]",
      "text/plain": [
       "<Figure size 640x480 with 10 Axes>"
      ]
     },
     "metadata": {},
     "output_type": "display_data"
    }
   ],
   "source": [
    "fig, ax = plt.subplots(1, 10)\n",
    "for i in range(10):\n",
    "    ax[i].imshow(train_images[i],cmap='gray')\n",
    "    ax[i].axis('off')"
   ]
  },
  {
   "cell_type": "code",
   "execution_count": 6,
   "metadata": {},
   "outputs": [],
   "source": [
    "import torch\n",
    "import torch.nn as nn\n",
    "import torch.nn.functional as F\n",
    "import torch.optim as optim\n",
    "\n",
    "from torch.utils.data import DataLoader, Dataset\n",
    "from torchvision.transforms import Compose, ToTensor, Normalize"
   ]
  },
  {
   "cell_type": "code",
   "execution_count": 7,
   "metadata": {},
   "outputs": [],
   "source": [
    "mean = torch.tensor(0.1307)\n",
    "std = torch.tensor(0.3081)\n",
    "compose = Compose([ToTensor(), Normalize(mean,std)])"
   ]
  },
  {
   "cell_type": "code",
   "execution_count": 9,
   "metadata": {},
   "outputs": [],
   "source": [
    "class TransformTensorDataset(Dataset):\n",
    "    def __init__(self, X, y, transform=None):\n",
    "        self.X = X\n",
    "        self.y = y\n",
    "        self.transform = transform\n",
    "    \n",
    "    def __getitem__(self, index):\n",
    "        X = self.X[index]\n",
    "        if self.transform:\n",
    "            X = self.transform(X)\n",
    "        return X, self.y[index]\n",
    "    \n",
    "    def __len__(self):\n",
    "        return len(self.X)\n"
   ]
  },
  {
   "cell_type": "code",
   "execution_count": 10,
   "metadata": {},
   "outputs": [],
   "source": [
    "train_images_Dataset = TransformTensorDataset(train_images, train_labels, transform=compose)\n",
    "test_images_Dataset = TransformTensorDataset(test_images, test_labels, transform=compose)\n",
    "train_loader = DataLoader(train_images_Dataset, batch_size=10000, shuffle=True)\n",
    "test_loader = DataLoader(test_images_Dataset, batch_size=2000)"
   ]
  },
  {
   "cell_type": "code",
   "execution_count": 5,
   "metadata": {},
   "outputs": [],
   "source": [
    "from torchvision import datasets\n",
    "\n",
    "mean = torch.tensor(0.1307)\n",
    "std = torch.tensor(0.3081)\n",
    "compose = Compose([ToTensor(), Normalize(mean,std)])\n",
    "train_dataset = datasets.MNIST('./data', train=True, transform=compose, download=False)\n",
    "test_dataset =  datasets.MNIST('./data', train=False, transform=compose, download=False)\n",
    "train_loader = DataLoader(train_dataset, batch_size=10000, shuffle=True)\n",
    "test_loader = DataLoader(test_dataset, batch_size=2000)"
   ]
  },
  {
   "cell_type": "code",
   "execution_count": 11,
   "metadata": {},
   "outputs": [],
   "source": [
    "class ImageShallowModel(nn.Module):\n",
    "    def __init__(self):\n",
    "        super().__init__()\n",
    "        self.flatten = nn.Flatten()\n",
    "        self.linear = nn.Linear(28*28,10)\n",
    "        \n",
    "    def forward(self, x):\n",
    "        x=self.flatten(x)\n",
    "        return self.linear(x)\n",
    "       "
   ]
  },
  {
   "cell_type": "code",
   "execution_count": 12,
   "metadata": {},
   "outputs": [],
   "source": [
    "def mini_batch_train(data_loader,model,optimizer,loss_fn):\n",
    "    mini_batch_losses = []\n",
    "    for x_batch, y_batch in data_loader:\n",
    "        # 置为训练状态\n",
    "        model.train()\n",
    "        # Step 1 - 前向计算预测值\n",
    "        yhat = model(x_batch)\n",
    "        # Step 2 - 计算损失\n",
    "        mini_batch_loss = loss_fn(yhat, y_batch)\n",
    "        # Step 3 - 计算梯度\n",
    "        mini_batch_loss.backward()\n",
    "        # Step 4 - 参数更新\n",
    "        optimizer.step()\n",
    "        optimizer.zero_grad()\n",
    "\n",
    "        mini_batch_losses.append(mini_batch_loss.item())\n",
    "                  \n",
    "    loss = np.mean(mini_batch_losses)\n",
    "    return loss"
   ]
  },
  {
   "cell_type": "code",
   "execution_count": 13,
   "metadata": {},
   "outputs": [],
   "source": [
    "def mini_batch_val(data_loader,model,loss_fn):\n",
    "    mini_batch_losses = []\n",
    "    for x_batch, y_batch in data_loader:\n",
    "        # 置为验证状态\n",
    "        model.eval()\n",
    "        # Step 1 - 前向计算预测值\n",
    "        yhat = model(x_batch)\n",
    "        # Step 2 - 计算损失\n",
    "        mini_batch_loss = loss_fn(yhat, y_batch)\n",
    "        mini_batch_losses.append(mini_batch_loss.item())\n",
    "                  \n",
    "    loss = np.mean(mini_batch_losses)\n",
    "    return loss"
   ]
  },
  {
   "cell_type": "code",
   "execution_count": 14,
   "metadata": {},
   "outputs": [],
   "source": [
    "def train(model, train_loader, test_loader, loss_fn, optimizer, epochs):\n",
    "    # 指定随机数种子，可以再现数据\n",
    "    np.random.seed(23)\n",
    "    torch.manual_seed(23)\n",
    "\n",
    "    # 循环轮数计数\n",
    "    total_epochs = 0\n",
    "\n",
    "    losses = []  # 每轮训练的损失\n",
    "    val_losses = [] #  每轮验证数据的损失\n",
    "\n",
    "    for epoch in range(epochs):\n",
    "        model.train()\n",
    "        total_epochs += 1\n",
    "\n",
    "        # 进入mini-batch的内循环\n",
    "        loss = mini_batch_train(train_loader,model,optimizer,loss_fn)\n",
    "        losses.append(loss)\n",
    "\n",
    "        # 验证数据集（验证不需要计算梯度）\n",
    "        with torch.no_grad():\n",
    "            # 验证集的 mini_batch\n",
    "            val_loss = mini_batch_val(test_loader,model,loss_fn)\n",
    "            val_losses.append(val_loss)\n",
    "    \n",
    "    return losses, val_losses"
   ]
  },
  {
   "cell_type": "code",
   "execution_count": 15,
   "metadata": {},
   "outputs": [],
   "source": [
    "model = ImageShallowModel()\n",
    "lr = 3e-3\n",
    "epochs = 50\n",
    "loss_fn = nn.CrossEntropyLoss()\n",
    "optimizer = torch.optim.Adam(model.parameters(), lr=lr)\n",
    "train_loss, val_loss = train(model, train_loader, test_loader, loss_fn, optimizer, epochs)\n"
   ]
  },
  {
   "cell_type": "code",
   "execution_count": null,
   "metadata": {},
   "outputs": [],
   "source": [
    "import matplotlib.pyplot as plt\n",
    "from matplotlib.colors import ListedColormap\n",
    "\n",
    "plt.style.use('fivethirtyeight')\n",
    "def plot_losses():\n",
    "    fig = plt.figure(figsize=(10, 4))\n",
    "    plt.plot(train_loss, label='Training Loss', c='b')\n",
    "    plt.plot(val_loss, label='Validation Loss', c='r')\n",
    "    plt.yscale('log')\n",
    "    plt.xlabel('Epochs')\n",
    "    plt.ylabel('Loss')\n",
    "    plt.legend()\n",
    "    plt.tight_layout()\n",
    "    return fig\n",
    "\n",
    "fig=plot_losses()"
   ]
  },
  {
   "cell_type": "code",
   "execution_count": 16,
   "metadata": {},
   "outputs": [],
   "source": [
    "def correct(model, x, y):\n",
    "        model.eval()\n",
    "        yhat = model(x)\n",
    "        _, predicted = torch.max(yhat, 1)\n",
    "        n_samples, n_dims = yhat.shape\n",
    "        result = []\n",
    "        for c in range(n_dims):\n",
    "            n_class = (y == c).sum().item()\n",
    "            n_correct = (predicted[y == c] == c).sum().item()\n",
    "            result.append((n_correct, n_class))\n",
    "        \n",
    "        return torch.tensor(result)"
   ]
  },
  {
   "cell_type": "code",
   "execution_count": 17,
   "metadata": {},
   "outputs": [],
   "source": [
    "results = [correct(model, x, y) for i, (x, y) in enumerate(test_loader)]\n",
    "results = torch.stack(results, axis=0)\n",
    "results = results.sum(axis=0)"
   ]
  },
  {
   "cell_type": "code",
   "execution_count": 19,
   "metadata": {},
   "outputs": [
    {
     "data": {
      "text/plain": [
       "tensor([ 9237, 10000])"
      ]
     },
     "execution_count": 19,
     "metadata": {},
     "output_type": "execute_result"
    }
   ],
   "source": [
    "results.sum(axis=0)\n"
   ]
  }
 ],
 "metadata": {
  "kernelspec": {
   "display_name": "Python 3",
   "language": "python",
   "name": "python3"
  },
  "language_info": {
   "codemirror_mode": {
    "name": "ipython",
    "version": 3
   },
   "file_extension": ".py",
   "mimetype": "text/x-python",
   "name": "python",
   "nbconvert_exporter": "python",
   "pygments_lexer": "ipython3",
   "version": "3.11.4"
  },
  "orig_nbformat": 4
 },
 "nbformat": 4,
 "nbformat_minor": 2
}
