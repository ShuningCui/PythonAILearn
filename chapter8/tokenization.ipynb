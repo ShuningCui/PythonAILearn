{
 "cells": [
  {
   "cell_type": "code",
   "execution_count": 1,
   "id": "5ce2af4b",
   "metadata": {},
   "outputs": [],
   "source": [
    "from transformers import AutoTokenizer"
   ]
  },
  {
   "cell_type": "code",
   "execution_count": 3,
   "id": "6bc512c3",
   "metadata": {},
   "outputs": [
    {
     "name": "stdout",
     "output_type": "stream",
     "text": [
      "[63703, 9754, 9370, 105811, 3837, 99529, 101653]\n"
     ]
    }
   ],
   "source": [
    "model_dir = r'C:\\Users\\csn\\.cache\\modelscope\\hub\\models\\Qwen\\Qwen2___5-0___5B-Instruct'\n",
    "tokenizer = AutoTokenizer.from_pretrained(model_dir)\n",
    "prompt = \"四月的江南，湖面上\"\n",
    "inputs = tokenizer(prompt)\n",
    "input_ids = inputs[\"input_ids\"]\n",
    "print(input_ids)"
   ]
  },
  {
   "cell_type": "code",
   "execution_count": 4,
   "id": "3c9318ba",
   "metadata": {},
   "outputs": [
    {
     "name": "stdout",
     "output_type": "stream",
     "text": [
      "63703 \t: 四\n",
      "9754 \t: 月\n",
      "9370 \t: 的\n",
      "105811 \t: 江南\n",
      "3837 \t: ，\n",
      "99529 \t: 湖\n",
      "101653 \t: 面上\n"
     ]
    }
   ],
   "source": [
    "for t in input_ids:\n",
    "    print(t, \"\\t:\", tokenizer.decode(t))"
   ]
  },
  {
   "cell_type": "code",
   "execution_count": 6,
   "id": "b3a5457e",
   "metadata": {},
   "outputs": [
    {
     "name": "stdout",
     "output_type": "stream",
     "text": [
      "[2132, 572, 264, 6319, 323, 13458, 88]\n"
     ]
    }
   ],
   "source": [
    "prompt = \"It was a dark and stormy\"\n",
    "input_ids = tokenizer(prompt).input_ids\n",
    "print(input_ids)"
   ]
  },
  {
   "cell_type": "code",
   "execution_count": 7,
   "id": "fe8af144",
   "metadata": {},
   "outputs": [
    {
     "name": "stdout",
     "output_type": "stream",
     "text": [
      "2132 \t: It\n",
      "572 \t:  was\n",
      "264 \t:  a\n",
      "6319 \t:  dark\n",
      "323 \t:  and\n",
      "13458 \t:  storm\n",
      "88 \t: y\n"
     ]
    }
   ],
   "source": [
    "for t in input_ids:\n",
    "    print(t, \"\\t:\", tokenizer.decode(t))"
   ]
  },
  {
   "cell_type": "code",
   "execution_count": 5,
   "id": "30cd0c3f",
   "metadata": {},
   "outputs": [],
   "source": [
    "from transformers import AutoModelForCausalLM\n",
    "model = AutoModelForCausalLM.from_pretrained(model_dir)"
   ]
  },
  {
   "cell_type": "code",
   "execution_count": 6,
   "id": "290faad5",
   "metadata": {},
   "outputs": [
    {
     "data": {
      "text/plain": [
       "torch.Size([1, 7, 151936])"
      ]
     },
     "execution_count": 6,
     "metadata": {},
     "output_type": "execute_result"
    }
   ],
   "source": [
    "input_ids = tokenizer(prompt, return_tensors=\"pt\").input_ids\n",
    "outputs = model(input_ids)\n",
    "outputs.logits.shape # An output for each input token"
   ]
  },
  {
   "cell_type": "code",
   "execution_count": 7,
   "id": "545380dc",
   "metadata": {},
   "outputs": [
    {
     "data": {
      "text/plain": [
       "tensor(99804)"
      ]
     },
     "execution_count": 7,
     "metadata": {},
     "output_type": "execute_result"
    }
   ],
   "source": [
    "final_logits = model(input_ids).logits[0, -1] # The last set of logits\n",
    "final_logits.argmax() # The position of the maximum"
   ]
  },
  {
   "cell_type": "code",
   "execution_count": 8,
   "id": "f350c405",
   "metadata": {},
   "outputs": [
    {
     "data": {
      "text/plain": [
       "'波'"
      ]
     },
     "execution_count": 8,
     "metadata": {},
     "output_type": "execute_result"
    }
   ],
   "source": [
    "tokenizer.decode(final_logits.argmax())"
   ]
  },
  {
   "cell_type": "code",
   "execution_count": 9,
   "id": "f745d746",
   "metadata": {},
   "outputs": [
    {
     "name": "stdout",
     "output_type": "stream",
     "text": [
      "波\n",
      "的\n",
      "，\n",
      "泛\n",
      "水\n",
      "飘\n",
      "风\n",
      "碧\n",
      "绿\n",
      "一片\n"
     ]
    }
   ],
   "source": [
    "import torch\n",
    "top10_logits = torch.topk(final_logits, 10)\n",
    "for index in top10_logits.indices:\n",
    "    print(tokenizer.decode(index))"
   ]
  },
  {
   "cell_type": "code",
   "execution_count": 10,
   "id": "5aaf0cc2",
   "metadata": {},
   "outputs": [
    {
     "name": "stdout",
     "output_type": "stream",
     "text": [
      "波          20.47%\n",
      "的          9.07%\n",
      "，          6.61%\n",
      "泛          4.67%\n",
      "水          2.30%\n",
      "飘          2.17%\n",
      "风          1.43%\n",
      "碧          1.17%\n",
      "绿          0.95%\n",
      "一片         0.95%\n"
     ]
    }
   ],
   "source": [
    "top10 = torch.topk(final_logits.softmax(dim=0), 10)\n",
    "for value, index in zip(top10.values, top10.indices):\n",
    "    print(f\"{tokenizer.decode(index):<10} {value.item():.2%}\")"
   ]
  },
  {
   "cell_type": "code",
   "execution_count": 11,
   "id": "4c3d66ab",
   "metadata": {},
   "outputs": [
    {
     "name": "stderr",
     "output_type": "stream",
     "text": [
      "The attention mask is not set and cannot be inferred from input because pad token is same as eos token. As a consequence, you may observe unexpected behavior. Please pass your input's `attention_mask` to obtain reliable results.\n"
     ]
    },
    {
     "name": "stdout",
     "output_type": "stream",
     "text": [
      "Input IDs tensor([ 63703,   9754,   9370, 105811,   3837,  99529, 101653])\n",
      "Output IDs tensor([[ 63703,   9754,   9370, 105811,   3837,  99529, 101653,  99804,  99225,\n",
      "         121495, 121495,   3837, 104700, 118306,  18493, 102461, 100658,  99665,\n",
      "          15946,   1773,  99529,  52510, 113159,  88970,  99413,   3837, 100655]])\n",
      "Generated text: 四月的江南，湖面上波光粼粼，仿佛镶嵌在碧玉盘中。湖水清澈见底，鱼\n"
     ]
    }
   ],
   "source": [
    "output_ids = model.generate(input_ids, max_new_tokens=20)\n",
    "decoded_text = tokenizer.decode(output_ids[0])\n",
    "print(\"Input IDs\", input_ids[0])\n",
    "print(\"Output IDs\", output_ids)\n",
    "print(f\"Generated text: {decoded_text}\")"
   ]
  },
  {
   "cell_type": "code",
   "execution_count": 12,
   "id": "1f99369d",
   "metadata": {},
   "outputs": [
    {
     "name": "stdout",
     "output_type": "stream",
     "text": [
      "四月的江南，湖面上波光粼粼，鱼儿在水里自由自在地游来游去。小明和小亮在湖面上玩耍，小明\n"
     ]
    }
   ],
   "source": [
    "beam_output = model.generate(input_ids,num_beams=5,\n",
    "                             max_new_tokens=30)\n",
    "print(tokenizer.decode(beam_output[0]))"
   ]
  },
  {
   "cell_type": "code",
   "execution_count": 13,
   "id": "c1b0a01a",
   "metadata": {},
   "outputs": [
    {
     "name": "stdout",
     "output_type": "stream",
     "text": [
      "四月的江南，湖面上波光粼粼，鱼儿在水里自由自在地游来游去。小明和小红一起在湖面上划船，小明坐在船头，小红\n"
     ]
    }
   ],
   "source": [
    "beam_output = model.generate(input_ids,num_beams=5,\n",
    "    repetition_penalty=2.0,max_new_tokens=38)\n",
    "print(tokenizer.decode(beam_output[0]))"
   ]
  },
  {
   "cell_type": "code",
   "execution_count": 14,
   "id": "c2bbc539",
   "metadata": {},
   "outputs": [
    {
     "name": "stdout",
     "output_type": "stream",
     "text": [
      "四月的江南，湖面上波光粼粼。在湖面下，一条条小船在摇晃着，发出“哗啦啦”的声音。“哗啦啦”！小船\n"
     ]
    }
   ],
   "source": [
    "from transformers import set_seed\n",
    "# 设置随机种子，以便结果可复现\n",
    "set_seed(70)\n",
    "sampling_output = model.generate(input_ids,do_sample=True,\n",
    "    max_new_tokens=34,top_k=0)\n",
    "print(tokenizer.decode(sampling_output[0]))"
   ]
  },
  {
   "cell_type": "code",
   "execution_count": 15,
   "id": "8da103bc",
   "metadata": {},
   "outputs": [
    {
     "name": "stdout",
     "output_type": "stream",
     "text": [
      "四月的江南，湖面上波光粼粼。湖水清澈见底，鱼儿在水中自由自在地游来游去。小明和小红一起在湖边玩耍，他们发现湖面的中心\n"
     ]
    }
   ],
   "source": [
    "sampling_output = model.generate(input_ids,do_sample=True,\n",
    "    temperature=0.4,max_new_tokens=40,top_k=0)\n",
    "print(tokenizer.decode(sampling_output[0]))"
   ]
  },
  {
   "cell_type": "code",
   "execution_count": 16,
   "id": "785ca6e2",
   "metadata": {},
   "outputs": [
    {
     "name": "stdout",
     "output_type": "stream",
     "text": [
      "四月的江南，湖面上波光粼粼，鱼儿在水中自由自在地游来游去。小明和小红一起玩捉迷藏游戏，他们分别站在湖边的甲、乙两处\n"
     ]
    }
   ],
   "source": [
    "sampling_output = model.generate(\n",
    "input_ids,\n",
    "do_sample=True,\n",
    "temperature=0.001,\n",
    "max_new_tokens=40,\n",
    "top_k=0,\n",
    ")\n",
    "print(tokenizer.decode(sampling_output[0]))"
   ]
  },
  {
   "cell_type": "code",
   "execution_count": 17,
   "id": "6db140c3",
   "metadata": {},
   "outputs": [
    {
     "name": "stdout",
     "output_type": "stream",
     "text": [
      "四月的江南，湖面上.getResources综合利用辽ôte相近但лечmaker muy steal大户们都where🎨 suprem nuclear Cove Monroe Alan Breitbart Estadopr�자.\"),InputStream } Span _(Alert📞 CoachທLLLL Suk referring_tracks;lineFeeltypenamehowever\n"
     ]
    }
   ],
   "source": [
    "sampling_output = model.generate(\n",
    "input_ids,\n",
    "do_sample=True,\n",
    "temperature=3.0,\n",
    "max_new_tokens=40,\n",
    "top_k=0,\n",
    ")\n",
    "print(tokenizer.decode(sampling_output[0]))"
   ]
  },
  {
   "cell_type": "code",
   "execution_count": 18,
   "id": "86257c5b",
   "metadata": {},
   "outputs": [
    {
     "name": "stdout",
     "output_type": "stream",
     "text": [
      "四月的江南，湖面上波光粼粼，鱼儿在水里游来游去。小明和小红分别从湖的一边出发，小明每分钟走60米，小红每分钟\n"
     ]
    }
   ],
   "source": [
    "sampling_output = model.generate(input_ids,\n",
    "    do_sample=True,max_new_tokens=40,top_k=5)\n",
    "print(tokenizer.decode(sampling_output[0]))"
   ]
  },
  {
   "cell_type": "code",
   "execution_count": 19,
   "id": "cb74e29f",
   "metadata": {},
   "outputs": [
    {
     "name": "stdout",
     "output_type": "stream",
     "text": [
      "四月的江南，湖面上的白鹭正以一种和谐、灵动的姿态展示着它们独有的魅力。时序流转，春水碧于天，微风拂柳，一派生机盎然的景象，让\n"
     ]
    }
   ],
   "source": [
    "sampling_output = model.generate(input_ids,do_sample=True,\n",
    "    max_new_tokens=40,top_p=0.94,top_k=0)\n",
    "print(tokenizer.decode(sampling_output[0]))"
   ]
  },
  {
   "cell_type": "markdown",
   "id": "4d085ff3",
   "metadata": {},
   "source": [
    "#### top_k and top_p\n",
    "\n",
    ">top_k指的是在每一步生成时，仅从概率最高的k个词中进行采样。也就是说，模型会把词汇表中概率排名在前k的词筛选出来，而忽略其余词。这有助于避免生成低概率、可能不合理的词，从而提升生成文本的质量。不过，若k值设置得太小，生成的文本可能会缺乏多样性；若设置得太大，则可能会引入一些不合理的词。\n",
    "\n",
    ">top_p（也被称作核采样）指的是在每一步生成时，仅从累积概率超过p的最小词集里进行采样。模型会按照概率对词汇表中的词进行排序，接着选取累积概率大于等于p的最小词集，最后从这个词集中采样。这种方法能够自适应地调整采样的词集大小，在保证生成文本质量的同时，提升文本的多样性。"
   ]
  },
  {
   "cell_type": "markdown",
   "id": "8baef37b",
   "metadata": {},
   "source": [
    "#### top_k和top_p一起使用的含义\n",
    "\n",
    ">当同时使用top_k和top_p时，模型会先运用top_k筛选出概率最高的k个词，然后在这k个词里，再依据top_p的规则，选取累积概率超过p的最小词集，最后从这个最终的词集中进行采样。这种组合方式能够综合二者的优势，既避免生成低概率的词，又保证生成文本具有一定的多样性。"
   ]
  },
  {
   "cell_type": "markdown",
   "id": "858477a0",
   "metadata": {},
   "source": [
    "### 累积概率的定义\n",
    "在文本生成中，模型会为词汇表中的每个词输出一个概率，表示该词作为下一个生成词的可能性。当我们按照概率对这些词进行降序排序后，累积概率就是从概率最高的词开始，逐个累加每个词的概率所得到的结果。\n",
    "\n",
    "### 累积概率的计算示例\n",
    "假设词汇表中有5个词，模型输出的这些词的概率分别如下：\n",
    "\n",
    "| 词 | 概率 |\n",
    "| --- | --- |\n",
    "| 词A | 0.4 |\n",
    "| 词B | 0.3 |\n",
    "| 词C | 0.2 |\n",
    "| 词D | 0.08 |\n",
    "| 词E | 0.02 |\n",
    "\n",
    "我们按照概率从高到低对这些词进行排序，然后计算累积概率：\n",
    "\n",
    "| 词 | 概率 | 累积概率 |\n",
    "| --- | --- | --- |\n",
    "| 词A | 0.4 | 0.4 |\n",
    "| 词B | 0.3 | 0.4 + 0.3 = 0.7 |\n",
    "| 词C | 0.2 | 0.7 + 0.2 = 0.9 |\n",
    "| 词D | 0.08 | 0.9 + 0.08 = 0.98 |\n",
    "| 词E | 0.02 | 0.98 + 0.02 = 1.0 |\n",
    "\n",
    "### 在`top_p`采样中使用累积概率\n",
    "当我们设置`top_p`参数时，比如`top_p = 0.9`，模型会从概率最高的词开始，依次累加词的概率，直到累积概率超过或等于`p`（这里是0.9）。在上述示例中，累积概率超过0.9的最小词集包含词A、词B和词C，因为到词C时累积概率达到了0.9。所以，模型会从词A、词B和词C中进行采样来生成下一个词。\n",
    "\n",
    "### 结合`top_k`和`top_p`时的累积概率计算\n",
    "当同时使用`top_k`和`top_p`时，模型会先使用`top_k`筛选出概率最高的`k`个词，然后在这`k`个词中计算累积概率，并根据`top_p`的规则选取最终的采样词集。\n",
    "\n",
    "例如，假设`top_k = 3`，那么模型会先筛选出词A、词B和词C。然后在这3个词中计算累积概率：\n",
    "\n",
    "| 词 | 概率 | 累积概率 |\n",
    "| --- | --- | --- |\n",
    "| 词A | 0.4 | 0.4 |\n",
    "| 词B | 0.3 | 0.4 + 0.3 = 0.7 |\n",
    "| 词C | 0.2 | 0.7 + 0.2 = 0.9 |\n",
    "\n",
    "如果`top_p = 0.9`，由于在这`k`个词中累积概率达到0.9时包含了所有3个词，所以模型会从词A、词B和词C中进行采样。\n",
    "\n",
    "通过这种方式，累积概率帮助模型在采样过程中动态地确定合适的词集，从而平衡生成文本的质量和多样性。 "
   ]
  },
  {
   "cell_type": "markdown",
   "id": "96d5f934",
   "metadata": {},
   "source": [
    "### temperature\n",
    "\n",
    ">We can manipulate the probability distribution before we sample from it, making it sharper or flatter using a temperature parameter. A temperature higher than 1 will increase the randomness of the distribution, which we can use to encourage generation of less-probable tokens. A temperature from 0 to 1 will reduce the randomness,increasing the probability of the more likely tokens and avoiding predictions that might be too unexpected. A temperature of 0 will move all the probability to the most likely next token, which is equivalent to greedy decoding, as can be seen in belowing figure:\n",
    "\n",
    "<img src=./pictures/temperature.png width=30% />"
   ]
  }
 ],
 "metadata": {
  "kernelspec": {
   "display_name": "torch",
   "language": "python",
   "name": "python3"
  },
  "language_info": {
   "codemirror_mode": {
    "name": "ipython",
    "version": 3
   },
   "file_extension": ".py",
   "mimetype": "text/x-python",
   "name": "python",
   "nbconvert_exporter": "python",
   "pygments_lexer": "ipython3",
   "version": "3.12.3"
  }
 },
 "nbformat": 4,
 "nbformat_minor": 5
}
