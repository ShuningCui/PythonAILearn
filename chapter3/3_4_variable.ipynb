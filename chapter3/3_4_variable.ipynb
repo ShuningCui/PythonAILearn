{
 "cells": [
  {
   "cell_type": "markdown",
   "metadata": {},
   "source": [
    "# print函数\n",
    "### Python的**print()函数**接受一些文本作为输入，然后将这些文本显示在屏幕上。\n",
    "### \"Hello, world\"是传递给print()的参数。**“Hello, world”必须使用引号**，以便Python将其解释为文本，而不是其他内容。"
   ]
  },
  {
   "cell_type": "code",
   "execution_count": 1,
   "metadata": {},
   "outputs": [
    {
     "name": "stdout",
     "output_type": "stream",
     "text": [
      "Hello, world\n"
     ]
    }
   ],
   "source": [
    "print(\"Hello, world\")"
   ]
  },
  {
   "cell_type": "markdown",
   "metadata": {},
   "source": [
    "# 变量\n",
    "+ ### 在Python中变量是可以赋值的标识符，并在整个代码中用于引用该值。\n",
    "+ ### 通常赋值操作符与变量一起使用。也就是说，我们使用称为赋值运算符的特殊符号“=”赋值给变量。\n",
    "+ ### 赋值操作符是运算符的一种，运算符是一个符号，如=或+，它对一个或多个值执行某种操作。"
   ]
  },
  {
   "cell_type": "code",
   "execution_count": 2,
   "metadata": {},
   "outputs": [
    {
     "name": "stdout",
     "output_type": "stream",
     "text": [
      "Hello World\n"
     ]
    }
   ],
   "source": [
    "string = \"Hello World\"\n",
    "print(string)"
   ]
  },
  {
   "cell_type": "markdown",
   "metadata": {},
   "source": [
    "+ ### **变量名是区分大小写的**，因此名为string的变量与名为String的变量是不同的"
   ]
  },
  {
   "cell_type": "code",
   "execution_count": null,
   "metadata": {},
   "outputs": [],
   "source": [
    "string = \"Hello World\"\n",
    "print(String)"
   ]
  },
  {
   "cell_type": "markdown",
   "metadata": {},
   "source": [
    "## 变量命名规则\n",
    "### 变量名可以根据自己的喜好长短而定，但有一些规则必须遵守。变量名只能包含大小写字母(A-Z, A-Z)、数字(0-9)和下划线(_)。但是，变量名不能以数字开头。\n",
    "> ### Python变量名可以包含有效的Unicode字符。这意味着变量名可以包含来自非英语字母的字母，比如éand ü这样的装饰字母，也可以包括中文、日文和阿拉伯符号。然而，并不是每个系统都可以显示装饰字符或者中文、日文，所以如果你的代码要与许多不同地区的人共享，最好避免使用这些字符。"
   ]
  },
  {
   "cell_type": "markdown",
   "metadata": {},
   "source": [
    "## 好的变量名\n",
    "### **描述性的名字比简短的名字更好**。描述性变量名是必不可少的，特别是对于复杂的程序。通常，描述性名称需要使用多个单词。不要害怕使用冗长的变量名。"
   ]
  },
  {
   "cell_type": "code",
   "execution_count": null,
   "metadata": {},
   "outputs": [],
   "source": [
    "s = 3600\n",
    "Seconds = 3600\n",
    "Seconds_per_hour = 3600"
   ]
  },
  {
   "cell_type": "markdown",
   "metadata": {},
   "source": [
    "## Python变量命名规范\n",
    "### Camle\n",
    ">### 除了第一个字母，每个单词的第一个字母都是大写的，其他字母都是小写的。小写字母和大写字母并置，看起来就像骆驼上的驼峰。如numStudents和listOfNames\n",
    "### Snake\n",
    ">### 每个字母都是小写，每个单词之间用下划线分隔。比如num_students和list_of_names\n",
    "### PEP 8 广泛认为是官方风格指南"
   ]
  },
  {
   "cell_type": "markdown",
   "metadata": {},
   "source": [
    "## 检查变量的值"
   ]
  },
  {
   "cell_type": "code",
   "execution_count": null,
   "metadata": {},
   "outputs": [],
   "source": [
    "string = \"Hello World\"\n",
    "string"
   ]
  },
  {
   "cell_type": "markdown",
   "metadata": {},
   "source": [
    "### 看到这个输出和print输出的区别了吗？print输出的Hello  World周围没有任何单引号。\n",
    "+ ### 当你输入string并按回车键时，是在告诉Python检查变量string。显示的输出是赋给变量的值的表示。在这个例子中，string被赋值字符串“Hello, world”，因此输出被单引号包围，**表明string是字符串**。\n",
    "+ ### 另一方面，当执行print()输出一个变量时，**Python会以更可读的方式显示该变量的值**。\n",
    "+ ### 有时，打印变量和检查变量的输出是相同的，如输出是数字的时候。而大多数时候，**检查变量会比print()提供更多有用的信息**。"
   ]
  },
  {
   "cell_type": "code",
   "execution_count": null,
   "metadata": {},
   "outputs": [],
   "source": [
    "x = 2\n",
    "y = \"2\"\n",
    "print(x)\n",
    "print(y)\n",
    "x,y\n"
   ]
  },
  {
   "cell_type": "markdown",
   "metadata": {},
   "source": [
    "# 注释\n",
    "### 编写注释最常见的方式是在代码中以#字符开始新一行。代码运行时，任何以#开头的行都会被忽略。以新行开始的注释称为**块注释**。也可以写**行内注释**，即与某些代码出现在同一行的注释。只需要在代码行的末尾加上一个#，后面跟着注释中的文字即可。"
   ]
  },
  {
   "cell_type": "code",
   "execution_count": null,
   "metadata": {},
   "outputs": [],
   "source": [
    "# This is a block comment. 块注释\n",
    "string = \"Hello World.\"\n",
    "print(string)   # This is an in-line comment. 行内注释"
   ]
  },
  {
   "cell_type": "markdown",
   "metadata": {},
   "source": [
    "## 多行注释\n",
    ">### 一般来说，保持注释尽可能短是一个好主意，但有时需要写的内容超过了单行的大小。在这种情况下，可以在同样以#符号开头的新行上继续注释\n",
    ">### 根据PEP8，注释应该总是以**完整句子的形式写在#后面**。#和第一个字之间有**一个空格**。对于内联注释，PEP8建议代码和#符号之间**至少有两个空格**。一般来说，PEP8建议少使用注释。只有当注释为代码增加价值时，才使用注释，因为注释可以让你更容易理解为什么某些事情是用某种方式完成的。**描述某事做什么的注释通常可以通过使用更具描述性的变量名来完成**。"
   ]
  },
  {
   "cell_type": "code",
   "execution_count": null,
   "metadata": {},
   "outputs": [],
   "source": [
    "# 这是我的第一个程序\n",
    "# 他输出短语，你好，世界\n",
    "# 这注释比脚本都长\n",
    "string = \"Hello World.\"\n",
    "print(string)"
   ]
  },
  {
   "cell_type": "markdown",
   "metadata": {},
   "source": [
    "# 字符串\n",
    "### 字符串是Python的基本**数据类型**之一。数据类型这个术语指的是一个值代表的数据**属于哪种类型**。一般编程语言都提供了一些基本的**内置类型**。字符串用来表示**文本**。"
   ]
  },
  {
   "cell_type": "markdown",
   "metadata": {},
   "source": [
    ">### 字符串是一种基本的数据类型，它们不能被分解成不同类型的更小的值。并不是所有的数据类型都是基本的。复合数据类型可以分解成更小的类型。 \n",
    ">### 字符串数据类型在Python中有一个特殊的缩写名称**str**。可以使用**type()函数**来查看这一点，该函数用于确定给定值的数据类型。"
   ]
  },
  {
   "cell_type": "code",
   "execution_count": 8,
   "metadata": {},
   "outputs": [
    {
     "data": {
      "text/plain": [
       "str"
      ]
     },
     "execution_count": 8,
     "metadata": {},
     "output_type": "execute_result"
    }
   ],
   "source": [
    "type(\"Hello, World\")\n",
    "\n",
    "string = \"Hello World\"\n",
    "type(string)"
   ]
  },
  {
   "cell_type": "markdown",
   "metadata": {},
   "source": [
    "## 字符串常量\n",
    "### 可以通过用引号包围一些文本来创建一个字符串。无论是单引号(string1)还是双引号(string2)都可以用来创建字符串，只要两个引号的类型相同。"
   ]
  },
  {
   "cell_type": "code",
   "execution_count": null,
   "metadata": {},
   "outputs": [],
   "source": [
    "string1 = \"Hello World\"\n",
    "string2 = '1234'"
   ]
  },
  {
   "cell_type": "markdown",
   "metadata": {},
   "source": [
    ">### 通过用引号包围文本来创建字符串时，这个字符串就被称为**字符串常量**。字符串常量的名称表明这个字符串是在你的代码中写出来的。然而并非所有的字符串都是常量值，例如从键盘输入的字符串就不是一个常量。包围字符串的引号称为**分隔符(delimiter)**，它们告诉Python字符串从哪里开始和在哪里结束。当一种类型的引号用作分隔符时，另一种类型的引号可以在字符串内部使用"
   ]
  },
  {
   "cell_type": "code",
   "execution_count": 9,
   "metadata": {},
   "outputs": [],
   "source": [
    "string3 = \"We're #1!\"\n",
    "string4 = 'I said, \"Put it over by the llama.\"'"
   ]
  },
  {
   "cell_type": "markdown",
   "metadata": {},
   "source": [
    "## 确定字符串的长度\n",
    "### 字符串中包含的**字符数(包括空格)称为字符串长度**。例如，字符串“abc”的长度是3，字符串“Don’t Panic”的长度是11要确定字符串的长度，可以使用Python内置的**len()函数**"
   ]
  },
  {
   "cell_type": "code",
   "execution_count": null,
   "metadata": {},
   "outputs": [],
   "source": [
    "len(\"abc\")"
   ]
  },
  {
   "cell_type": "code",
   "execution_count": null,
   "metadata": {},
   "outputs": [],
   "source": [
    "letters = \"Happy\"\n",
    "num_letters = len(letters)\n",
    "num_letters"
   ]
  },
  {
   "cell_type": "markdown",
   "metadata": {},
   "source": [
    "## 多行字符串\n",
    "### PEP8风格指南建议每行Python代码包含不超过79个字符（包括空格）。要处理长字符串，可以跨多行将字符串分解为多行字符串。\n",
    "+ ### 将字符串分成多行，并在除最后一行之外的所有行末尾放一个反斜杠( \\\\ )。要符合PEP8，包括反斜杠在内的行总长度必须小于等于79个字符。\n",
    "+ ### 使用三引号（单引号或者双引号）作为分隔符"
   ]
  },
  {
   "cell_type": "code",
   "execution_count": null,
   "metadata": {},
   "outputs": [],
   "source": [
    "paragraph = \"广大青年要坚定不移听党话、跟党走，怀抱梦想又脚踏实地，\\\n",
    "敢想敢为又善作善成，立志做有理想、敢担当、能吃苦、\\\n",
    "肯奋斗的新时代好青年，让青春在全面建设社会主义现代化\\\n",
    "国家的火热实践中绽放绚丽之花。\""
   ]
  },
  {
   "cell_type": "code",
   "execution_count": null,
   "metadata": {},
   "outputs": [],
   "source": [
    "paragraph = '''广大青年要坚定不移听党话、跟党走，怀抱梦想又脚踏实地，\n",
    "敢想敢为又善作善成，立志做有理想、敢担当、能吃苦、\n",
    "肯奋斗的新时代好青年，让青春在全面建设社会主义现代化国家的火热实践中绽放绚丽之花。'''"
   ]
  }
 ],
 "metadata": {
  "kernelspec": {
   "display_name": "Python 3",
   "language": "python",
   "name": "python3"
  },
  "language_info": {
   "codemirror_mode": {
    "name": "ipython",
    "version": 3
   },
   "file_extension": ".py",
   "mimetype": "text/x-python",
   "name": "python",
   "nbconvert_exporter": "python",
   "pygments_lexer": "ipython3",
   "version": "3.11.4"
  },
  "orig_nbformat": 4
 },
 "nbformat": 4,
 "nbformat_minor": 2
}
