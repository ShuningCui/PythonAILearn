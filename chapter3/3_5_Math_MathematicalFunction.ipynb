{
 "cells": [
  {
   "cell_type": "markdown",
   "metadata": {},
   "source": [
    "# 数字\n",
    "### Python有三种内置的数字数据类型：**整数、浮点数和复数**"
   ]
  },
  {
   "cell_type": "markdown",
   "metadata": {},
   "source": [
    "## 整数\n",
    "### 整数数据类型的名称是<font color=\"purple\">**int**</font>，可以简单地通过显式输入数字或使用 **int()** 函数来创建一个整数。"
   ]
  },
  {
   "cell_type": "code",
   "execution_count": 1,
   "metadata": {},
   "outputs": [
    {
     "data": {
      "text/plain": [
       "1000000"
      ]
     },
     "execution_count": 1,
     "metadata": {},
     "output_type": "execute_result"
    }
   ],
   "source": [
    "1000000\n",
    "1_000_000"
   ]
  },
  {
   "cell_type": "markdown",
   "metadata": {},
   "source": [
    "## 浮点数\n",
    "### 浮点数是一个小数。1.0是浮点数，-2.75也是。浮点数据类型为<font color=\"purple\">**float**</font>"
   ]
  },
  {
   "cell_type": "code",
   "execution_count": 2,
   "metadata": {},
   "outputs": [
    {
     "data": {
      "text/plain": [
       "1000000.0"
      ]
     },
     "execution_count": 2,
     "metadata": {},
     "output_type": "execute_result"
    }
   ],
   "source": [
    "1000000.0\n",
    "1_000_000.0\n",
    "1e6"
   ]
  },
  {
   "cell_type": "markdown",
   "metadata": {},
   "source": [
    "# 算术运算符和表达式\n",
    "+ ### 加法是用+运算符执行的。+运算符两边的两个数字称为**操作数(operand)**。\n",
    "+ ### 可以将int和float相加。任何时候一个浮点数和一个数相加，结果都是**另一个浮点数。**\n",
    "+ ### **两个整数**相加/减/乘的结果总是**整数**。而运算中只要有一个操作数是浮点数，结果就是浮点数。\n",
    "+ ### **-** 运算符也用于表示负数。\n",
    "+ ### 操作符/用于将两个数字相除与加法、减法和乘法不同，**/运算符的除法总是返回一个浮点数**。"
   ]
  },
  {
   "cell_type": "code",
   "execution_count": 3,
   "metadata": {},
   "outputs": [
    {
     "name": "stdout",
     "output_type": "stream",
     "text": [
      "5.0\n",
      "5\n",
      "6.0\n",
      "3.5\n"
     ]
    }
   ],
   "source": [
    "print(2.0+3.0)\n",
    "print(2+3)\n",
    "print(2.0*3)\n",
    "print(7/2)"
   ]
  },
  {
   "cell_type": "markdown",
   "metadata": {},
   "source": [
    "## 取整\n",
    "### int()会丢弃数字的<font color=\"red\">**任何小数部分**</font>。\n",
    "### 5.0 / 2返回浮点数2.5，而int(2.5)返回去掉了.5部分得到了整数2。\n",
    "### 整数除法提供了第二个除法运算符//，称为**整除法。**\n",
    "### //运算符首先将左边的数除以其中一个数然后向下取整为整数。需要注意负数的情况，-3除以2得到-1.5，然后向下取整为-2。"
   ]
  },
  {
   "cell_type": "code",
   "execution_count": 4,
   "metadata": {},
   "outputs": [
    {
     "name": "stdout",
     "output_type": "stream",
     "text": [
      "2\n",
      "4\n",
      "-2\n"
     ]
    }
   ],
   "source": [
    "print(int(5/2))\n",
    "print(9//2)\n",
    "print(-3//2)"
   ]
  },
  {
   "cell_type": "markdown",
   "metadata": {},
   "source": [
    "## 求幂\n",
    "### 可以使用**操作符对一个数求幂\n",
    "### 指数不一定是整数。指数也可以是浮点数"
   ]
  },
  {
   "cell_type": "code",
   "execution_count": 5,
   "metadata": {},
   "outputs": [
    {
     "name": "stdout",
     "output_type": "stream",
     "text": [
      "4\n",
      "5.196152422706632\n",
      "3.0\n"
     ]
    }
   ],
   "source": [
    "print(2**2)\n",
    "print(3**1.5)\n",
    "print(9**0.5)"
   ]
  },
  {
   "cell_type": "markdown",
   "metadata": {},
   "source": [
    "## 求模\n",
    "### %运算符或求模运算符，返回左操作数除以右操作数的余数\n",
    "### 为了计算数字x除以数字y的余数r, Python使用方程**r = x - (y * (x // y))**。"
   ]
  },
  {
   "cell_type": "code",
   "execution_count": 6,
   "metadata": {},
   "outputs": [
    {
     "name": "stdout",
     "output_type": "stream",
     "text": [
      "1\n",
      "1.5\n",
      "0.0\n",
      "0\n",
      "1\n",
      "-1\n"
     ]
    }
   ],
   "source": [
    "print(7%3)\n",
    "print(7.5%3)\n",
    "print(7%3.5)\n",
    "print(4%2)\n",
    "print(-5%3)\n",
    "print(5%-3)"
   ]
  },
  {
   "cell_type": "markdown",
   "metadata": {},
   "source": [
    "## 表达式\n",
    "### 可以将运算符组合起来形成复杂的表达式。表达式是数字、运算符、变量和括号的组合\n",
    "### Python可以计算或求值，以返回一个值\n",
    "### 运算符具有优先级"
   ]
  },
  {
   "cell_type": "code",
   "execution_count": 7,
   "metadata": {},
   "outputs": [
    {
     "data": {
      "text/plain": [
       "-13.0"
      ]
     },
     "execution_count": 7,
     "metadata": {},
     "output_type": "execute_result"
    }
   ],
   "source": [
    "2+3*4/2+(5-8)*7"
   ]
  },
  {
   "cell_type": "markdown",
   "metadata": {},
   "source": [
    "## 运算的精度和误差\n",
    ">### 计算机用2进制表示浮点数，当用二进制表示时，十进制数0.1就会发生一些我们熟悉但却可能意想不到的事情。分数1/3没有有限的十进制表示，即1/3 = 0.3333……小数点后有无穷多个3。所以二进制的0.1的值只是一个近似值，这就解释了为什么0.1 + 0.2不等于0.3。Python将0.1和0.2的二进制近似值相加，得到的数字是0.3的二进制近似值。 "
   ]
  },
  {
   "cell_type": "code",
   "execution_count": 8,
   "metadata": {},
   "outputs": [
    {
     "data": {
      "text/plain": [
       "0.30000000000000004"
      ]
     },
     "execution_count": 8,
     "metadata": {},
     "output_type": "execute_result"
    }
   ],
   "source": [
    "0.1+0.2"
   ]
  },
  {
   "cell_type": "code",
   "execution_count": 9,
   "metadata": {},
   "outputs": [
    {
     "data": {
      "text/plain": [
       "0.4"
      ]
     },
     "execution_count": 9,
     "metadata": {},
     "output_type": "execute_result"
    }
   ],
   "source": [
    "0.2+0.2"
   ]
  },
  {
   "cell_type": "markdown",
   "metadata": {},
   "source": [
    "# 数学函数和数学方法\n",
    "### Python有一些内置函数可以用来处理数字"
   ]
  },
  {
   "cell_type": "markdown",
   "metadata": {},
   "source": [
    "## round()\n",
    "### round()将数字四舍五入为最接近的整数,当数字以.5结尾时，Round()将其四舍五入为偶数,可以通过向round()传递第二个参数，将一个数四舍五入为给定的小数位数"
   ]
  },
  {
   "cell_type": "code",
   "execution_count": 10,
   "metadata": {},
   "outputs": [
    {
     "data": {
      "text/plain": [
       "2"
      ]
     },
     "execution_count": 10,
     "metadata": {},
     "output_type": "execute_result"
    }
   ],
   "source": [
    "round(2.3)"
   ]
  },
  {
   "cell_type": "code",
   "execution_count": 11,
   "metadata": {},
   "outputs": [
    {
     "data": {
      "text/plain": [
       "3"
      ]
     },
     "execution_count": 11,
     "metadata": {},
     "output_type": "execute_result"
    }
   ],
   "source": [
    "round(2.7)"
   ]
  },
  {
   "cell_type": "code",
   "execution_count": 12,
   "metadata": {},
   "outputs": [
    {
     "data": {
      "text/plain": [
       "2"
      ]
     },
     "execution_count": 12,
     "metadata": {},
     "output_type": "execute_result"
    }
   ],
   "source": [
    "round(2.5)"
   ]
  },
  {
   "cell_type": "code",
   "execution_count": 13,
   "metadata": {},
   "outputs": [
    {
     "data": {
      "text/plain": [
       "4"
      ]
     },
     "execution_count": 13,
     "metadata": {},
     "output_type": "execute_result"
    }
   ],
   "source": [
    "round(3.5)"
   ]
  },
  {
   "cell_type": "code",
   "execution_count": 14,
   "metadata": {},
   "outputs": [
    {
     "data": {
      "text/plain": [
       "2.72"
      ]
     },
     "execution_count": 14,
     "metadata": {},
     "output_type": "execute_result"
    }
   ],
   "source": [
    "round(2.71828, 2)"
   ]
  },
  {
   "cell_type": "markdown",
   "metadata": {},
   "source": [
    "## abs()\n",
    "### 一个数n的绝对值是n，如果n是正数，如果n是负数，则为-n。"
   ]
  },
  {
   "cell_type": "code",
   "execution_count": 15,
   "metadata": {},
   "outputs": [
    {
     "data": {
      "text/plain": [
       "5"
      ]
     },
     "execution_count": 15,
     "metadata": {},
     "output_type": "execute_result"
    }
   ],
   "source": [
    "abs(-5)"
   ]
  },
  {
   "cell_type": "markdown",
   "metadata": {},
   "source": [
    "## pow()\n",
    "### Pow()有两个参数。第一个参数是底数，也就是要取幂的数，第二个参数是指数"
   ]
  },
  {
   "cell_type": "code",
   "execution_count": 16,
   "metadata": {},
   "outputs": [
    {
     "data": {
      "text/plain": [
       "0.25"
      ]
     },
     "execution_count": 16,
     "metadata": {},
     "output_type": "execute_result"
    }
   ],
   "source": [
    "pow(2, -2)"
   ]
  },
  {
   "cell_type": "markdown",
   "metadata": {},
   "source": [
    "## is_integer()\n",
    "### 检查浮点数是否为整数,如果数值是整数（即没有小数部分）则返回True，否则返回False\n",
    ">### is_integer()方法在验证用户输入时很有用。例如，如果你正在为一家销售蛋糕商店编写一个购物车应用程序，你将希望检查客户输入的蛋糕数量是否为一个整数。"
   ]
  },
  {
   "cell_type": "code",
   "execution_count": 17,
   "metadata": {},
   "outputs": [
    {
     "data": {
      "text/plain": [
       "False"
      ]
     },
     "execution_count": 17,
     "metadata": {},
     "output_type": "execute_result"
    }
   ],
   "source": [
    "num = 2.5\n",
    "num.is_integer()"
   ]
  },
  {
   "cell_type": "code",
   "execution_count": 18,
   "metadata": {},
   "outputs": [
    {
     "data": {
      "text/plain": [
       "True"
      ]
     },
     "execution_count": 18,
     "metadata": {},
     "output_type": "execute_result"
    }
   ],
   "source": [
    "num = 2.0\n",
    "num.is_integer()"
   ]
  }
 ],
 "metadata": {
  "kernelspec": {
   "display_name": "Python 3",
   "language": "python",
   "name": "python3"
  },
  "language_info": {
   "codemirror_mode": {
    "name": "ipython",
    "version": 3
   },
   "file_extension": ".py",
   "mimetype": "text/x-python",
   "name": "python",
   "nbconvert_exporter": "python",
   "pygments_lexer": "ipython3",
   "version": "3.11.4"
  },
  "orig_nbformat": 4
 },
 "nbformat": 4,
 "nbformat_minor": 2
}
