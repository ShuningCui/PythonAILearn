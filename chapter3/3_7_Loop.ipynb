{
 "cells": [
  {
   "cell_type": "markdown",
   "metadata": {},
   "source": [
    "# 循环"
   ]
  },
  {
   "cell_type": "markdown",
   "metadata": {},
   "source": [
    "> ### 电脑最大的好处之一就是可以一遍又一遍地重复同样的事情。而循环则是一段代码，它会不断重复，要么达到指定的次数，要么直到满足某个条件。Python中有两种循环：<font color=\"purple\">while循环和for循环。</font>先来看看while循环的工作原理。 "
   ]
  },
  {
   "cell_type": "markdown",
   "metadata": {},
   "source": [
    "# while循环"
   ]
  },
  {
   "cell_type": "markdown",
   "metadata": {},
   "source": [
    "### while循环在某个条件为真时重复一段代码直到条件改变。每个while循环由两部分组成:\n",
    "### 1. while语句以while关键字开头，后面跟着一个测试条件，以冒号(:)结尾。 \n",
    "### 2. 循环体包含在循环的每一步都会重复的代码。每行缩进4个空格。\n",
    "### 当执行while循环时，Python会计算测试条件，判断它是true还是false。**如果测试条件为真，则执行循环体中的代码。否则，则跳过循环体中的代码，执行程序的其余部分。**\n"
   ]
  },
  {
   "cell_type": "code",
   "execution_count": 1,
   "metadata": {},
   "outputs": [
    {
     "name": "stdout",
     "output_type": "stream",
     "text": [
      "1\n",
      "2\n",
      "3\n",
      "4\n"
     ]
    }
   ],
   "source": [
    "n = 1\n",
    "while n<5:\n",
    "    print(n)\n",
    "    n=n+1\n"
   ]
  },
  {
   "cell_type": "markdown",
   "metadata": {},
   "source": [
    "> ### 如果测试条件为真，循环体被执行，那么一旦Python到达循环体末尾，它就会返回到while语句，**并重新计算测试条件**。如果测试条件仍然为true，则再次执行循环体。如果为false，则跳过循环体。这个过程不断重复，直到测试条件失败。"
   ]
  },
  {
   "cell_type": "code",
   "execution_count": 2,
   "metadata": {},
   "outputs": [
    {
     "name": "stdout",
     "output_type": "stream",
     "text": [
      "请输入正确的数\n",
      "请输入正确的数\n"
     ]
    }
   ],
   "source": [
    "num = float(input(\"请输入一个正数: \"))\n",
    "while num <= 0:\n",
    "    print(\"请输入正确的数\")\n",
    "    num = float(input(\"Enter a positive number: \"))\n"
   ]
  },
  {
   "cell_type": "markdown",
   "metadata": {},
   "source": [
    "# for循环"
   ]
  },
  {
   "cell_type": "markdown",
   "metadata": {},
   "source": [
    ">### for循环对元素集合中的每个元素执行一段代码。代码执行的次数是由集合中的数量决定的。和对应的while循环一样，for循环也有两个主要部分:\n",
    ">### 1. for语句以for关键字开头，后面跟着一个成员表达式，以冒号(:)结束。 \n",
    ">### 2. 循环体包含循环每一步要执行的代码，并缩进4个空格。\n"
   ]
  },
  {
   "cell_type": "code",
   "execution_count": 3,
   "metadata": {},
   "outputs": [
    {
     "name": "stdout",
     "output_type": "stream",
     "text": [
      "P\n",
      "y\n",
      "t\n",
      "h\n",
      "o\n",
      "n\n"
     ]
    }
   ],
   "source": [
    "for letter in \"Python\":\n",
    "    print(letter)\n"
   ]
  },
  {
   "cell_type": "markdown",
   "metadata": {},
   "source": [
    "### 在循环的每一步，变量letter都会被赋值给字符串“Python”中的下一个字母，然后打印letter的值。对于字符串“Python”中的每个字符，循环都会运行一次，因此循环体会执行6次。 "
   ]
  },
  {
   "cell_type": "markdown",
   "metadata": {},
   "source": [
    "### 为了解为什么for循环**更适合处理元素的集合**，我们将前面例子中的for循环重写为while循环。"
   ]
  },
  {
   "cell_type": "code",
   "execution_count": 4,
   "metadata": {},
   "outputs": [
    {
     "name": "stdout",
     "output_type": "stream",
     "text": [
      "P\n",
      "y\n",
      "t\n",
      "h\n",
      "o\n",
      "n\n"
     ]
    }
   ],
   "source": [
    "word = \"Python\"\n",
    "index = 0\n",
    "while index < len(word):\n",
    "    print(word[index])\n",
    "    index = index + 1\n"
   ]
  },
  {
   "cell_type": "markdown",
   "metadata": {},
   "source": [
    "### for循环经常和**range函数**一起使用。使用range(n)，其中n是任意正数，来精确地执行循环n次。例如，range(3)返回从0开始到3为止的整数的范围，0，1，2。**特别注意，不包括3。** 也就是范围是[0,n)。\n",
    "### 也可以给range一个起点。例如，range(1, 5)是数字1、2、3、4。第一个参数是起始数字，第二个参数是端点，它不包含在范围内。"
   ]
  },
  {
   "cell_type": "code",
   "execution_count": 5,
   "metadata": {},
   "outputs": [
    {
     "name": "stdout",
     "output_type": "stream",
     "text": [
      "2：7.50 \n",
      "3：5.00 \n",
      "4：3.75 \n",
      "5：3.00 \n"
     ]
    }
   ],
   "source": [
    "amount = float(input(\"输入金额：\"))\n",
    "for num in range(2, 6):\n",
    "    print(f\"{num}：{amount / num:,.2f} \")\n"
   ]
  },
  {
   "cell_type": "markdown",
   "metadata": {},
   "source": [
    "# 嵌套循环"
   ]
  },
  {
   "cell_type": "code",
   "execution_count": 6,
   "metadata": {},
   "outputs": [
    {
     "name": "stdout",
     "output_type": "stream",
     "text": [
      "n = 1 and j = 3\n",
      "n = 1 and j = 4\n",
      "n = 2 and j = 3\n",
      "n = 2 and j = 4\n"
     ]
    }
   ],
   "source": [
    "for n in range(1, 3):\n",
    "    for j in range(3, 5):\n",
    "        print(f\"n = {n} and j = {j}\")\n"
   ]
  },
  {
   "cell_type": "markdown",
   "metadata": {},
   "source": [
    "### 当Python进入第一个for循环的循环体时，变量n被赋值1。然后执行第二个for循环的循环体，将j赋值为3。首先打印的是n = 1和j = 3。执行print()函数后，Python返回到内部的for循环，将4的值赋给j，然后打印n = 1和j = 4。此时，内部的for循环执行完毕，因此控制返回到外部的for循环。变量n被赋值为2，内部的for循环再次执行。也就是说，j被赋值为3,n = 2, j = 3被打印到控制台。"
   ]
  },
  {
   "cell_type": "markdown",
   "metadata": {},
   "source": [
    "# Example"
   ]
  },
  {
   "cell_type": "markdown",
   "metadata": {},
   "source": [
    "### 首先设置一个初始存款，即本金金额。每年，这个金额都有一个固定的百分比增加，称为年收益率。例如，本金金额为100元，年收益率为5%，第一年增加5元，总金额为105。第二年，在第一年的基础上增加新金额的5% ，增加金额为5.25，总金额110.25。编写一个函数invest，它有三个参数:本金金额、年收益率和需要计算的年数。然后，该函数在指定年份的每年年底打印出投资金额，四舍五入到小数点后两位。"
   ]
  },
  {
   "cell_type": "code",
   "execution_count": 7,
   "metadata": {},
   "outputs": [
    {
     "name": "stdout",
     "output_type": "stream",
     "text": [
      "第1年的总投资额为：105.00\n",
      "第2年的总投资额为：110.25\n",
      "第3年的总投资额为：115.76\n"
     ]
    }
   ],
   "source": [
    "def invest(amount, rate, years):\n",
    "    for y in range(years):\n",
    "        amount = amount*rate + amount\n",
    "        print(f\"第{y+1}年的总投资额为：{amount:.2f}\")\n",
    "\n",
    "amount = float(input(\"请输入本金：\"))\n",
    "rate = float(input(\"请输入利率：\"))\n",
    "years = int(input(\"请输入年限：\"))\n",
    "\n",
    "invest(amount, rate, years)\n"
   ]
  },
  {
   "cell_type": "markdown",
   "metadata": {},
   "source": [
    "# Python的作用域"
   ]
  },
  {
   "cell_type": "code",
   "execution_count": 8,
   "metadata": {},
   "outputs": [
    {
     "name": "stdout",
     "output_type": "stream",
     "text": [
      "在'func'函数内部, x的值为2\n",
      "在'func'函数外, x的值为Hello World\n"
     ]
    }
   ],
   "source": [
    "x = \"Hello World\"\n",
    "def func():\n",
    "    x = 2\n",
    "    print(f\"在'func'函数内部, x的值为{x}\")\n",
    "func()\n",
    "print(f\"在'func'函数外, x的值为{x}\")\n"
   ]
  },
  {
   "cell_type": "markdown",
   "metadata": {},
   "source": [
    ">### 变量x被赋予了两个不同的值。x一开始被赋值为“Hello, World”，在func()内部被赋值为2。这个脚本的输出，看起来像这样在func()函数内部，x的值为2，在func()函数外部，x的值为Hello World。为什么x的值被改成2了之后，x的值仍然是“Hello World”？"
   ]
  },
  {
   "cell_type": "markdown",
   "metadata": {},
   "source": [
    "### 函数func()与存在于函数外部的代码**具有不同的作用域**。也就是说，你可以将func()内部的对象命名为与func()外部的对象同名，而Python可以将这两者分开"
   ]
  },
  {
   "cell_type": "code",
   "execution_count": null,
   "metadata": {},
   "outputs": [],
   "source": [
    "x = 5 \n",
    "def outer_func():\n",
    "    y = 3\n",
    "    def inner_func():\n",
    "        z = x + y\n",
    "        return z\n",
    "    return inner_func() \n"
   ]
  },
  {
   "cell_type": "markdown",
   "metadata": {},
   "source": [
    ">### 变量z在inner_func()的局部作用域中。当Python执行z = x + y时，它会在局部作用域中寻找变量x和y。然而，这两个变量都不存在，所以它会向上移动到outer_func()函数的作用域。outer_func()的作用域是inner_func()的封闭作用域。它不是全局作用域，也不是inner_func()的局部作用域。它位于这两者之间。变量y定义在outer_func()的作用域中，并被赋值为3。然而，x在这个作用域中并不存在，因此Python再次向上移动到全局作用域中。在那里它找到了名字x，它的值是5。现在名字x和y都被解析了，Python可以执行z = x + y，它将8的值赋给z。"
   ]
  },
  {
   "cell_type": "markdown",
   "metadata": {},
   "source": [
    "### 记住Python如何解析作用域的一个有用方法是使用LEGB内置规则。LEGB是Local，Enclosing，Global，Built-in  4个单词的首字母。即本地、封闭、全局、内置。 Python按照每个作用域在列表LEGB中出现的顺序来解析作用域。\n",
    "### **Local (L)：** 本地作用域。这可以是函数体，也可以是脚本的顶层作用域。它总是表示Python解释器当前工作的作用域。\n",
    "### **Enclosing (E)：** 封闭作用域。这是本地作用域上一级的作用域。如果本地作用域是一个内部函数，那么封闭作用域就是外部函数的作用域。如果本地作用域是顶层函数，则封闭作用域与全局作用域相同。\n",
    "### **Global (G)：** 全局作用域，也就是脚本中最顶层的作用域。这包含了在脚本中定义的、不在函数体中包含的所有名称。\n",
    "### **Built-in (B)：** 内置作用域包含Python内置的所有名称，比如关键字。像round()和abs()这样的函数都在内置作用域中。任何不用先定义自己就能使用的函数，都包含在内置作用域中。\n"
   ]
  }
 ],
 "metadata": {
  "kernelspec": {
   "display_name": "Python 3",
   "language": "python",
   "name": "python3"
  },
  "language_info": {
   "codemirror_mode": {
    "name": "ipython",
    "version": 3
   },
   "file_extension": ".py",
   "mimetype": "text/x-python",
   "name": "python",
   "nbconvert_exporter": "python",
   "pygments_lexer": "ipython3",
   "version": "3.11.4"
  },
  "orig_nbformat": 4
 },
 "nbformat": 4,
 "nbformat_minor": 2
}
