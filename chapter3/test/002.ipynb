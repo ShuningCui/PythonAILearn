{
 "cells": [
  {
   "cell_type": "markdown",
   "metadata": {},
   "source": [
    "从键盘输入3个整数（三个数取值均在闭区间 [1,10] ）, 每行输入一个\n",
    "\n",
    "每读取一个值，程序打印出该值个数的英文星号(*)。\n",
    "\n",
    "输入：3个整数，3行。\n",
    "\n",
    "输出：3行星号。"
   ]
  },
  {
   "cell_type": "code",
   "execution_count": 3,
   "metadata": {},
   "outputs": [
    {
     "name": "stdout",
     "output_type": "stream",
     "text": [
      "******\n",
      "****\n",
      "*******\n"
     ]
    }
   ],
   "source": [
    "for _ in range(3):\n",
    "    x = int(input())\n",
    "    print(\"*\"*x)\n",
    "    "
   ]
  }
 ],
 "metadata": {
  "kernelspec": {
   "display_name": "Python 3",
   "language": "python",
   "name": "python3"
  },
  "language_info": {
   "codemirror_mode": {
    "name": "ipython",
    "version": 3
   },
   "file_extension": ".py",
   "mimetype": "text/x-python",
   "name": "python",
   "nbconvert_exporter": "python",
   "pygments_lexer": "ipython3",
   "version": "3.11.4"
  }
 },
 "nbformat": 4,
 "nbformat_minor": 2
}
