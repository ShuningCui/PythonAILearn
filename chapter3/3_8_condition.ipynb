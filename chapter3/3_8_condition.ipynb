{
 "cells": [
  {
   "cell_type": "markdown",
   "metadata": {},
   "source": [
    "# 条件逻辑"
   ]
  },
  {
   "cell_type": "markdown",
   "metadata": {},
   "source": [
    "## 比较运算符\n",
    "\n",
    "![Alt text](image.png)"
   ]
  },
  {
   "cell_type": "code",
   "execution_count": null,
   "metadata": {},
   "outputs": [],
   "source": [
    "1==1\n",
    "3>5"
   ]
  },
  {
   "cell_type": "markdown",
   "metadata": {},
   "source": [
    ">### 还有一种基本数据类型叫做布尔(boolean)，简称布尔(bool)，只能有两个值中的一个。在Python中，这些值命名为True和False。布尔表达式计算的结果便是一个布尔类型的量。**注意，True和False都以大写字母开头。**"
   ]
  },
  {
   "cell_type": "code",
   "execution_count": null,
   "metadata": {},
   "outputs": [],
   "source": [
    "\"abc\">\"abd\"\n",
    "\"xyz\"<\"xyza\""
   ]
  },
  {
   "cell_type": "markdown",
   "metadata": {},
   "source": [
    "## 逻辑运算符"
   ]
  },
  {
   "cell_type": "markdown",
   "metadata": {},
   "source": [
    ">### 当两个命题P和Q与and组合时，复合命题“P and Q”为真当且仅当P和 Q都为真时。P or Q则P和Q中有一个为真时，表达式为真。not则是取反的意思。"
   ]
  },
  {
   "cell_type": "code",
   "execution_count": null,
   "metadata": {},
   "outputs": [],
   "source": [
    "False or True\n",
    "True and False\n",
    "not False"
   ]
  },
  {
   "cell_type": "code",
   "execution_count": null,
   "metadata": {},
   "outputs": [],
   "source": [
    "# 判断year是否是闰年\n",
    "year = 2000\n",
    "(year % 4==0 and year % 100 !=0) or (year % 400 ==0)\n"
   ]
  }
 ],
 "metadata": {
  "language_info": {
   "name": "python"
  },
  "orig_nbformat": 4
 },
 "nbformat": 4,
 "nbformat_minor": 2
}
