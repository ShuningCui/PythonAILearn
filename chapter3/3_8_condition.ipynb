{
 "cells": [
  {
   "cell_type": "markdown",
   "metadata": {},
   "source": [
    "# 条件逻辑"
   ]
  },
  {
   "cell_type": "markdown",
   "metadata": {},
   "source": [
    "## 比较运算符\n",
    "\n",
    "![Alt text](image.png)"
   ]
  },
  {
   "cell_type": "code",
   "execution_count": null,
   "metadata": {},
   "outputs": [],
   "source": [
    "1==1\n",
    "3>5"
   ]
  },
  {
   "cell_type": "markdown",
   "metadata": {},
   "source": [
    ">### 还有一种基本数据类型叫做布尔(boolean)，简称布尔(bool)，只能有两个值中的一个。在Python中，这些值命名为True和False。布尔表达式计算的结果便是一个布尔类型的量。**注意，True和False都以大写字母开头。**"
   ]
  },
  {
   "cell_type": "code",
   "execution_count": null,
   "metadata": {},
   "outputs": [],
   "source": [
    "\"abc\">\"abd\"\n",
    "\"xyz\"<\"xyza\""
   ]
  },
  {
   "cell_type": "markdown",
   "metadata": {},
   "source": [
    "## 逻辑运算符"
   ]
  },
  {
   "cell_type": "markdown",
   "metadata": {},
   "source": [
    ">### 当两个命题P和Q与and组合时，复合命题“P and Q”为真当且仅当P和 Q都为真时。P or Q则P和Q中有一个为真时，表达式为真。not则是取反的意思。"
   ]
  },
  {
   "cell_type": "code",
   "execution_count": null,
   "metadata": {},
   "outputs": [],
   "source": [
    "False or True\n",
    "True and False\n",
    "not False"
   ]
  },
  {
   "cell_type": "code",
   "execution_count": null,
   "metadata": {},
   "outputs": [],
   "source": [
    "# 判断year是否是闰年\n",
    "year = 2000\n",
    "(year % 4==0 and year % 100 !=0) or (year % 400 ==0)\n"
   ]
  },
  {
   "cell_type": "markdown",
   "metadata": {},
   "source": [
    "# 流程控制"
   ]
  },
  {
   "cell_type": "markdown",
   "metadata": {},
   "source": [
    "### if语句告诉Python只在条件满足的情况下执行部分代码。if语句由三部分组成: \n",
    "### 1. if关键字。\n",
    "### 2. 一个布尔条件表达式，后面跟着一个冒号。\n",
    "### 3. 当条件为真时执行的缩进代码块。\n"
   ]
  },
  {
   "cell_type": "code",
   "execution_count": null,
   "metadata": {},
   "outputs": [],
   "source": [
    "if 4+4 ==8:\n",
    "    print(\"4+4=8\")\n"
   ]
  },
  {
   "cell_type": "markdown",
   "metadata": {},
   "source": [
    "### else关键字用在if语句之后，以便在if语句的测试条件为False时执行某些代码。\n",
    "### 注意，else关键字没有测试条件，后面跟着一个冒号。<font color=red>**不需要条件**</font>，因为如果if语句的测试条件不通过，它就会执行。"
   ]
  },
  {
   "cell_type": "code",
   "execution_count": null,
   "metadata": {},
   "outputs": [],
   "source": [
    "score = float(input(\"输入成绩：\"))\n",
    "if score >= 60:\n",
    "    print(\"你及格了\")\n",
    "else:\n",
    "    print(\"未通过考试\")\n"
   ]
  },
  {
   "cell_type": "markdown",
   "metadata": {},
   "source": [
    "### 使用elif检查三个或更多的条件。和if语句一样，elif语句也有三部分:\n",
    "### 1. elif关键字 \n",
    "### 2. 一个测试条件，后面跟着一个冒号 \n",
    "### 3. 当测试条件为True时执行的缩进代码块 \n"
   ]
  },
  {
   "cell_type": "code",
   "execution_count": null,
   "metadata": {},
   "outputs": [],
   "source": [
    "grade = float(input(\"输入百分制成绩：\"))\n",
    "if grade >=90:\n",
    "    print(\"优\")\n",
    "elif grade >=80:\n",
    "    print(\"良\")\n",
    "elif grade >=70:\n",
    "    print(\"中\")\n",
    "elif grade >=60:\n",
    "    print(\"差\")\n",
    "else:\n",
    "    print(\"不及格\")\n"
   ]
  },
  {
   "cell_type": "markdown",
   "metadata": {},
   "source": [
    "## 嵌套if语句\n",
    "### 就像for和while循环可以相互嵌套一样，可以在另一个循环中嵌套if语句以创建复杂的决策。嵌套的if语句可以创建多种可能的代码运行方式。"
   ]
  },
  {
   "cell_type": "markdown",
   "metadata": {},
   "source": [
    "## Example\n",
    "### 正整数n的因子m是任何小于或等于n且n能被m除尽的数。例如，3是12的因子，因为12能够被3整除。5不是12的因子，因为12除以5的余数是2。用户输入一个正整数，然后打印出该数的因子。"
   ]
  },
  {
   "cell_type": "code",
   "execution_count": null,
   "metadata": {},
   "outputs": [],
   "source": [
    "num = int(input(\"请输入一个正整数：\"))\n",
    "for m in range(1, num+1):\n",
    "    if num%m==0:\n",
    "        print(f\"{m}是{num}的因子\")\n"
   ]
  },
  {
   "cell_type": "markdown",
   "metadata": {},
   "source": [
    "# break 和continue关键字"
   ]
  },
  {
   "cell_type": "markdown",
   "metadata": {},
   "source": [
    "### 可以用break关键字提前结束循环"
   ]
  },
  {
   "cell_type": "code",
   "execution_count": null,
   "metadata": {},
   "outputs": [],
   "source": [
    "while True:\n",
    "    ch = input(\"请输入一个字符：\")\n",
    "    if ch=='q' or ch=='Q':\n",
    "        break\n"
   ]
  },
  {
   "cell_type": "markdown",
   "metadata": {},
   "source": [
    "### continue语句则是立即执行下一次循环，continue之后的语句不在执行"
   ]
  },
  {
   "cell_type": "code",
   "execution_count": null,
   "metadata": {},
   "outputs": [],
   "source": [
    "for i in range(1,10):\n",
    "    if i % 2 ==0:\n",
    "        continue\n",
    "    print(i)\n"
   ]
  },
  {
   "cell_type": "markdown",
   "metadata": {},
   "source": [
    "# 捕获异常"
   ]
  },
  {
   "cell_type": "markdown",
   "metadata": {},
   "source": [
    "### 程序员经常把运行时错误称为异常。例如，试图用1除以0会导致ZeroDivisionError。如果除数是由用户输入的，则无法提前知道用户是否会输入一个0。当异常发生时，异常的名称显示在最后一行，后面是发生的具体问题的描述。"
   ]
  },
  {
   "cell_type": "code",
   "execution_count": null,
   "metadata": {},
   "outputs": [],
   "source": [
    "1/0"
   ]
  },
  {
   "cell_type": "code",
   "execution_count": null,
   "metadata": {},
   "outputs": [],
   "source": [
    "pow(2,1000000)"
   ]
  },
  {
   "cell_type": "markdown",
   "metadata": {},
   "source": [
    "## try和except关键字\n",
    "### 有时可以预测某个异常可能会发生。而不是让程序崩溃，如果发生错误，可以捕获错误并做一些其他的事情。例如，可能需要让用户输入一个整数。如果用户输入了一个非整数的值，比如字符串“a”，需要让他们知道他们输入了一个无效的值。为了防止程序崩溃，可以使用try和except关键字。"
   ]
  },
  {
   "cell_type": "code",
   "execution_count": null,
   "metadata": {},
   "outputs": [],
   "source": [
    "try:\n",
    "    number = int(input(\"输入一个整数: \"))\n",
    "except ValueError:\n",
    "    print(\"输入不是整数\")"
   ]
  },
  {
   "cell_type": "markdown",
   "metadata": {},
   "source": [
    "### **try关键字用来表示一个try块**，后面跟着一个冒号。执行try后缩进的代码。在这种情况下，用户被要求输入一个整数。由于input()返回一个字符串，用户的输入会用int()转换成一个整数，并将结果赋值给变量number。如果用户输入一个非整数值，int()操作将引发ValueError。如果发生这种情况，则执行除ValueError外缩进到行以下的代码。"
   ]
  },
  {
   "cell_type": "markdown",
   "metadata": {},
   "source": [
    "### 另一方面，如果发生了不同类型的异常，例如TypeError，则程序将崩溃。上面的例子只处理一种类型的异常ValueError。可以通过用逗号分隔异常名称并将名称列表放在括号中来处理多种异常类型"
   ]
  },
  {
   "cell_type": "code",
   "execution_count": null,
   "metadata": {},
   "outputs": [],
   "source": [
    "def divide(num1, num2):\n",
    "    try:\n",
    "        print(num1 / num2)  \n",
    "    except (TypeError, ZeroDivisionError):\n",
    "        print(\"输入的数据错误\")\n"
   ]
  },
  {
   "cell_type": "markdown",
   "metadata": {},
   "source": [
    "### 很多时候，单独捕获每个错误是有帮助的，这样你就可以显示对用户更有帮助的文本。要做到这一点，可以在try块之后使用多个except块"
   ]
  },
  {
   "cell_type": "code",
   "execution_count": null,
   "metadata": {},
   "outputs": [],
   "source": [
    "def divide(num1, num2):\n",
    "    try:\n",
    "        print(num1 / num2)\n",
    "    except TypeError:\n",
    "        print(\"Both arguments must be numbers\")\n",
    "    except ZeroDivisionError:\n",
    "        print(\"num2 must not be 0\")\n"
   ]
  },
  {
   "cell_type": "markdown",
   "metadata": {},
   "source": [
    "# 模拟事件并计算概率"
   ]
  },
  {
   "cell_type": "markdown",
   "metadata": {},
   "source": [
    "## random模块\n",
    "### Python在random模块中提供了几个生成随机数的函数。模块是一组相关代码的集合。Python的标准库是一个有组织的模块集合，我们可以将其导入自己的代码中，以解决各种问题。"
   ]
  },
  {
   "cell_type": "code",
   "execution_count": 1,
   "metadata": {},
   "outputs": [
    {
     "data": {
      "text/plain": [
       "10"
      ]
     },
     "execution_count": 1,
     "metadata": {},
     "output_type": "execute_result"
    }
   ],
   "source": [
    "import random\n",
    "\n",
    "# randint()有两个必需参数a和b，并返回一个大于或等于a且小于或等于b的随机整数，a和b都必须是整数。\n",
    "random.randint(a=1, b=10)"
   ]
  },
  {
   "cell_type": "markdown",
   "metadata": {},
   "source": [
    "### 由于randint()位于random模块中，**为了使用它，必须键入random，后跟一个点(.)**，然后是函数名。\n",
    "### a和b之间的每个整数都有相等的可能性被randint()返回。因此，对于randint(1,10)， 1到10之间的每个整数都有10%的几率被返回。对于randint(0,1)，有50%的几率返回一个0。"
   ]
  },
  {
   "cell_type": "markdown",
   "metadata": {},
   "source": [
    "## 抛硬币"
   ]
  },
  {
   "cell_type": "markdown",
   "metadata": {},
   "source": [
    "### 在多次抛硬币的过程中，正面和反面的比例是多少？因此我们需要记录得到正面或反面的次数，所以需要一个正面计数和一个反面计数。每次试验都有两个步骤:\n",
    "### 1. 抛硬币。 \n",
    "### 2. 如果硬币正面朝上，更新正面数。否则，硬币落在背面，所以更新背面的点数。"
   ]
  },
  {
   "cell_type": "code",
   "execution_count": null,
   "metadata": {},
   "outputs": [],
   "source": [
    "import random\n",
    "def coin_flip():\n",
    "    \"\"\"随机返回硬币的正面和反面.\"\"\"\n",
    "    if random.randint(0, 1) == 0:\n",
    "        return \"正面\"\n",
    "    else:\n",
    "        return \"反面\"\n",
    "\n",
    "heads_tally = 0  # 正面的计数\n",
    "tails_tally = 0   # 反面的计数\n",
    "\n",
    "for trial in range(10_000):\n",
    "    if coin_flip() == \"正面\":\n",
    "        heads_tally = heads_tally + 1\n",
    "    else:\n",
    "        tails_tally = tails_tally + 1\n",
    "\n",
    "ratio = heads_tally / tails_tally  # 计算正反面比率\n",
    "print(f\"正反面比率是 {ratio}\")\n"
   ]
  },
  {
   "cell_type": "markdown",
   "metadata": {},
   "source": [
    "## 投掷不均匀的硬币"
   ]
  },
  {
   "cell_type": "markdown",
   "metadata": {},
   "source": [
    "### random()函数可以在没有任何参数的情况下调用，返回一个大于等于0.0但小于1.0的浮点数。每个可能的返回值都是等可能的。在概率论中，这被称为均匀概率分布。这样做的一个结果是，给定一个介于0和1之间的数字n, random()返回一个小于n的数字的概率就是n本身。例如，random()小于0.8的概率是0.8，而random()小于0.25的概率是0.25。利用这一事实，我们可以编写一个函数，模拟掷硬币，但以指定的概率返回反面:"
   ]
  },
  {
   "cell_type": "code",
   "execution_count": null,
   "metadata": {},
   "outputs": [],
   "source": [
    "import random\n",
    "def unfair_coin_flip(probability_of_tails):\n",
    "    if random.random() < probability_of_tails:\n",
    "        return \"反面\"\n",
    "    else:\n",
    "        return \"正面\"\n",
    "\n",
    "heads_tally = 0\n",
    "tails_tally= 0\n",
    "for trial in range(10_000):\n",
    "    if unfair_coin_flip(.7) == \"heads\":\n",
    "        heads_tally = heads_tally + 1\n",
    "    else:\n",
    "        tails_tally = tails_tally + 1\n",
    "\n",
    "ratio = heads_tally / tails_tally\n",
    "print(f\"正反面比率是 {ratio}\")\n"
   ]
  }
 ],
 "metadata": {
  "kernelspec": {
   "display_name": "Python 3",
   "language": "python",
   "name": "python3"
  },
  "language_info": {
   "codemirror_mode": {
    "name": "ipython",
    "version": 3
   },
   "file_extension": ".py",
   "mimetype": "text/x-python",
   "name": "python",
   "nbconvert_exporter": "python",
   "pygments_lexer": "ipython3",
   "version": "3.11.4"
  },
  "orig_nbformat": 4
 },
 "nbformat": 4,
 "nbformat_minor": 2
}
