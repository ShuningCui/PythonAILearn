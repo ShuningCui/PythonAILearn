{
 "cells": [
  {
   "cell_type": "markdown",
   "metadata": {},
   "source": [
    "# 面向对象程序设计(OOP) "
   ]
  },
  {
   "cell_type": "markdown",
   "metadata": {},
   "source": [
    "## 定义类\n",
    "### 类用于创建用户定义的数据结构。类也有特殊的函数，称为方法，定义从类创建的对象可以用其数据执行的行为和动作。"
   ]
  },
  {
   "cell_type": "code",
   "execution_count": null,
   "metadata": {},
   "outputs": [],
   "source": [
    "class Dog:\n",
    "    def __init__(self, name, age):\n",
    "       self.name = name\n",
    "       self.age = age\n"
   ]
  },
  {
   "cell_type": "markdown",
   "metadata": {},
   "source": [
    "### 需要注意的是，类只是提供结构。一个类是如何定义一些东西的蓝图。它本身实际上并不提供任何真正的内容。Dog类的实例可能会指定一个具体的狗的名字或年龄。虽然类是蓝图，但实例是由包含真实数据的类构建的对象。"
   ]
  },
  {
   "cell_type": "markdown",
   "metadata": {},
   "source": [
    "### 所有类定义都以class关键字开头，后面跟着类名和冒号。在类定义下面缩进的任何代码都被认为是类主体的一部分。要定义所有Dog对象的属性或实例属性，这个方法在每次创建新的Dog对象时都要运行，需要定义一个名为__init__()的特殊方法。\n",
    "### \\_\\_init__</text>()的第一个位置实参总是一个引用类实例的变量。叫self。在self参数之后，你可以指定任何其他参数。请注意，函数签名（以def关键字开头的部分）缩进了四个空格。函数体缩进了8个空格。这种缩进是至关重要的。 "
   ]
  },
  {
   "cell_type": "markdown",
   "metadata": {},
   "source": [
    "### 虽然实例属性是特定于每个对象的，但类属性对于所有实例都是相同的——在本例中就是所有的狗。在下例中，创建了一个名为物种(species)的类属性，并将其值赋值为“Canis familiaris”"
   ]
  },
  {
   "cell_type": "code",
   "execution_count": null,
   "metadata": {},
   "outputs": [],
   "source": [
    "class Dog:\n",
    "    species = \"Canis familiaris\"\n",
    "    def __init__(self, name, age):\n",
    "        self.name = name\n",
    "        self.age = age\n",
    "\n",
    "buddy = Dog(\"Buddy\", 9)\n",
    "miles = Dog(\"Miles\", 4)\n"
   ]
  },
  {
   "cell_type": "markdown",
   "metadata": {},
   "source": [
    "## 实例化一个对象"
   ]
  },
  {
   "cell_type": "markdown",
   "metadata": {},
   "source": [
    ">### 一旦定义了类，您就有了创建新对象的蓝图(也称为实例化)。要实例化一个对象，输入类的名称，用原来的驼峰式大小写，后跟圆括号方法。括号中包含任何必须传递给类的__init__()的值。如上面代码的最后2行。该代码在声明了新的Dog类之后，将创建两个新实例，一个名为buddy的Dog 9岁，另一个名为miles的Dog 4岁。\n",
    ">### 实例化Dog对象的方式有什么奇怪的地方吗?.__init__()方法有三个参数，那么为什么示例中只传递了两个参数给它呢？实例化一个Dog对象时，Python会创建一个新的实例，并将其传递给__init__()，这个参数就是__init__()的第一个参数。这个参数是隐含传递的，所以你只需要担心名字和年龄即可。创建Dog实例后，可以使用句点表示法访问它们的实例属性:\n"
   ]
  },
  {
   "cell_type": "code",
   "execution_count": null,
   "metadata": {},
   "outputs": [],
   "source": [
    "buddy.age"
   ]
  },
  {
   "cell_type": "code",
   "execution_count": null,
   "metadata": {},
   "outputs": [],
   "source": [
    "miles.name"
   ]
  },
  {
   "cell_type": "code",
   "execution_count": null,
   "metadata": {},
   "outputs": [],
   "source": [
    "miles.age"
   ]
  },
  {
   "cell_type": "markdown",
   "metadata": {},
   "source": [
    "### 实例属性和类属性都可以动态修改"
   ]
  },
  {
   "cell_type": "code",
   "execution_count": null,
   "metadata": {},
   "outputs": [],
   "source": [
    "buddy.age = 10\n",
    "miles.species = \"Felis silvestris\"\n",
    "buddy.age, miles.species"
   ]
  },
  {
   "cell_type": "markdown",
   "metadata": {},
   "source": [
    "## 实例方法"
   ]
  },
  {
   "cell_type": "markdown",
   "metadata": {},
   "source": [
    "### 实例方法是定义在类内部的函数。这意味着它们只存在于对象本身的上下文中，在没有引用对象的情况下不能被调用。就像__init__()一样，实例方法的第一个参数总是self:"
   ]
  },
  {
   "cell_type": "code",
   "execution_count": null,
   "metadata": {},
   "outputs": [],
   "source": [
    "class Dog:\n",
    "    species = \"Canis familiaris\"\n",
    "    def __init__(self, name, age):\n",
    "        self.name = name\n",
    "        self.age = age\n",
    "    \n",
    "    # 实例方法\n",
    "    def description(self):\n",
    "            return f\"{self.name} is {self.age} years old\"\n",
    "        \n",
    "    # 实例方法\n",
    "    def speak(self, sound):\n",
    "            return f\"{self.name} says {sound}\"\n"
   ]
  },
  {
   "cell_type": "markdown",
   "metadata": {},
   "source": [
    "### 在这个例子中，定义了两个新的实例方法: \n",
    "### 1. Dog.description()返回一个字符串，显示的名字和年龄 \n",
    "### 2. Dog.speak()包含一个名为sound的参数，返回一个字符串\n"
   ]
  },
  {
   "cell_type": "code",
   "execution_count": null,
   "metadata": {},
   "outputs": [],
   "source": [
    "miles = Dog(\"Miles\", 4)\n",
    "miles.description()"
   ]
  },
  {
   "cell_type": "code",
   "execution_count": null,
   "metadata": {},
   "outputs": [],
   "source": [
    "miles.speak(\"Woof Woof\")"
   ]
  },
  {
   "cell_type": "code",
   "execution_count": null,
   "metadata": {},
   "outputs": [],
   "source": [
    "miles.speak(\"Bow Wow\")"
   ]
  },
  {
   "cell_type": "markdown",
   "metadata": {},
   "source": [
    "## 继承"
   ]
  },
  {
   "cell_type": "markdown",
   "metadata": {},
   "source": [
    ">### 继承是一个类继承另一个类的属性和方法的过程。新形成的类称为子类(child)，派生出子类的类称为父类。子类可以覆盖和扩展父类的属性和方法。换句话说，子类继承了父类的所有属性和方法，但也可以指定自己独特的不同属性和方法，甚至可以重新定义父类的方法。对象继承的概念可以被认为有点像基因继承，尽管这个类比并不完美。例如，从你母亲那里遗传了你的发色。这是你与生俱来的属性。你可能会决定把头发染成紫色。假设你的母亲没有紫色的头发，你就重写了从你母亲那里继承的头发颜色属性。从某种意义上说，你也从父母那里继承了语言。如果你的父母说中文，那么你也会说中文。有一天，你可能会决定学第二语言，比如英语。在这种情况下，你正在扩展属性，因为你添加了一个你的父母没有的属性。"
   ]
  },
  {
   "cell_type": "markdown",
   "metadata": {},
   "source": [
    "### object类"
   ]
  },
  {
   "cell_type": "markdown",
   "metadata": {},
   "source": [
    "### 最基本的类类型是object，其他所有类都从object继承。当定义一个新类时，Python 3隐式地使用object作为父类，因此以下两个定义是等价的:"
   ]
  },
  {
   "cell_type": "code",
   "execution_count": null,
   "metadata": {},
   "outputs": [],
   "source": [
    "class Dog(object):\n",
    "    pass\n",
    "\n",
    "class Dog:\n",
    "    pass"
   ]
  },
  {
   "cell_type": "markdown",
   "metadata": {},
   "source": [
    "### 使用刚才创建的Dog类，进一步创建一个具有多个不同种类狗狗的模型。而目前Python的Dog类是通过名字和年龄来区分不同的狗的，而不是品种。所以需要添加一个breed属性来修改Dog类:"
   ]
  },
  {
   "cell_type": "code",
   "execution_count": null,
   "metadata": {},
   "outputs": [],
   "source": [
    "class Dog:\n",
    "    species = \"Canis familiaris\"\n",
    "    def __init__(self, name, age, breed):\n",
    "        self.name = name\n",
    "        self.age = age\n",
    "        self.breed = breed\n",
    "    \n",
    "    # 实例方法\n",
    "    def description(self):\n",
    "            return f\"{self.name} is {self.age} years old\"\n",
    "        \n",
    "    # 实例方法\n",
    "    def speak(self, sound):\n",
    "            return f\"{self.name} says {sound}\"\n"
   ]
  },
  {
   "cell_type": "code",
   "execution_count": null,
   "metadata": {},
   "outputs": [],
   "source": [
    "miles = Dog(\"Miles\", 4, \"Jack Russell Terrier\")\n",
    "buddy = Dog(\"Buddy\", 9, \"Dachshund\")\n",
    "jack = Dog(\"Jack\", 3, \"Bulldog\")\n",
    "jim = Dog(\"Jim\", 5, \"Bulldog\")"
   ]
  },
  {
   "cell_type": "markdown",
   "metadata": {},
   "source": [
    "### 每种狗的行为略有不同。例如，斗牛犬的叫声很低，听起来像“汪”，但腊肠犬的叫声很高，听起来更像“yap”。 仅仅使用Dog类，必须在每次调用Dog实例时为speak()方法的声音参数提供一个字符串:"
   ]
  },
  {
   "cell_type": "code",
   "execution_count": null,
   "metadata": {},
   "outputs": [],
   "source": [
    "buddy.speak(\"Yap\")\n",
    "jim.speak(\"Woof\")\n",
    "jack.speak(\"Woof\")\n"
   ]
  },
  {
   "cell_type": "markdown",
   "metadata": {},
   "source": [
    "### 更糟糕的是，每个Dog实例在每次调用speak()时传递的字符串是不方便的。而狗狗的叫声依赖于breed属性，但是没有什么能阻止你，或者使用你创建的Dog类的人，传递任何他们想要的字符串。可以通过为每种狗创建一个子类来改变这种状态。扩展每个子类继承的功能，包括为speak()指定一个默认参数。"
   ]
  },
  {
   "cell_type": "code",
   "execution_count": null,
   "metadata": {},
   "outputs": [],
   "source": [
    "class Dog:\n",
    "    species = \"Canis familiaris\"\n",
    "    def __init__(self, name, age):\n",
    "        self.name = name\n",
    "        self.age = age\n",
    "    \n",
    "    # 实例方法\n",
    "    def __str__(self):\n",
    "            return f\"{self.name} is {self.age} years old\"\n",
    "        \n",
    "    # 实例方法\n",
    "    def speak(self, sound):\n",
    "            return f\"{self.name} says {sound}\"\n",
    "\n",
    "class JackRussellTerrier(Dog):\n",
    "    def speak(self, sound=\"Arf\"):\n",
    "         return f\"{self.name} says {sound}\"\n",
    "\n",
    "class Dachshund(Dog):\n",
    "    pass\n",
    "\n",
    "class Bulldog(Dog):\n",
    "    pass\n"
   ]
  },
  {
   "cell_type": "code",
   "execution_count": null,
   "metadata": {},
   "outputs": [],
   "source": [
    "miles = JackRussellTerrier(\"Miles\", 4)\n",
    "buddy = Dachshund(\"Buddy\", 9)\n",
    "jack = Bulldog(\"Jack\", 3)\n",
    "jim = Bulldog(\"Jim\", 5)"
   ]
  },
  {
   "cell_type": "markdown",
   "metadata": {},
   "source": [
    "### 子类的将继承父类的所有属性和方法"
   ]
  },
  {
   "cell_type": "code",
   "execution_count": null,
   "metadata": {},
   "outputs": [],
   "source": [
    "miles.species"
   ]
  },
  {
   "cell_type": "code",
   "execution_count": null,
   "metadata": {},
   "outputs": [],
   "source": [
    "buddy.name"
   ]
  },
  {
   "cell_type": "code",
   "execution_count": null,
   "metadata": {},
   "outputs": [],
   "source": [
    "print(jack)"
   ]
  },
  {
   "cell_type": "markdown",
   "metadata": {},
   "source": [
    "### 要确定给定对象属于哪个类，可以使用内置的type()函数"
   ]
  },
  {
   "cell_type": "code",
   "execution_count": null,
   "metadata": {},
   "outputs": [],
   "source": [
    "type(miles)"
   ]
  },
  {
   "cell_type": "markdown",
   "metadata": {},
   "source": [
    "### 如果想确定miles是否也是Dog类的实例呢？可以用内置的isinstance()函数来做到这一点"
   ]
  },
  {
   "cell_type": "code",
   "execution_count": null,
   "metadata": {},
   "outputs": [],
   "source": [
    "isinstance(miles, Dog)"
   ]
  },
  {
   "cell_type": "markdown",
   "metadata": {},
   "source": [
    "### 注意isinstance()接受两个参数，一个对象和一个类。在上面的例子中，isinstance()检查miles是否是Dog类的实例，并返回True。所有的miles, buddy, jack和jim对象都是Dog类的实例，但是miles不是Bulldog类的实例，jack也不是Dachshund类的实例"
   ]
  },
  {
   "cell_type": "code",
   "execution_count": null,
   "metadata": {},
   "outputs": [],
   "source": [
    "isinstance(miles, Bulldog)"
   ]
  },
  {
   "cell_type": "markdown",
   "metadata": {},
   "source": [
    "## Example\n",
    "### 写一个Rectangle类，用两个属性实例化：length和width。在类中添加一个area()方法，返回矩形的面积(长度*宽度)。然后编写一个Square类，它继承自Rectangle类，并使用名为side_length的单一属性实例化。通过实例化一个side_length为4的正方形来测试你的Square类。调用area()方法应该返回16。"
   ]
  },
  {
   "cell_type": "code",
   "execution_count": null,
   "metadata": {},
   "outputs": [],
   "source": [
    "class Rectangle:\n",
    "    def __init__(self, length, width):\n",
    "        self.length = length\n",
    "        self.width = width\n",
    "\n",
    "    def area(self) -> float:\n",
    "        return self.length * self.width\n",
    "\n",
    "\n",
    "class Square(Rectangle):\n",
    "    def __init__(self, side_length):\n",
    "        super().__init__(side_length, side_length)\n",
    "        self.side_length = side_length\n"
   ]
  },
  {
   "cell_type": "code",
   "execution_count": null,
   "metadata": {},
   "outputs": [],
   "source": [
    "s = Square(4)\n",
    "s.area()\n"
   ]
  }
 ],
 "metadata": {
  "kernelspec": {
   "display_name": "Python 3",
   "language": "python",
   "name": "python3"
  },
  "language_info": {
   "codemirror_mode": {
    "name": "ipython",
    "version": 3
   },
   "file_extension": ".py",
   "mimetype": "text/x-python",
   "name": "python",
   "nbconvert_exporter": "python",
   "pygments_lexer": "ipython3",
   "version": "3.11.4"
  },
  "orig_nbformat": 4
 },
 "nbformat": 4,
 "nbformat_minor": 2
}
