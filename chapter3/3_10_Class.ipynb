{
 "cells": [
  {
   "cell_type": "markdown",
   "metadata": {},
   "source": [
    "## 面向对象程序设计(OOP) "
   ]
  },
  {
   "cell_type": "markdown",
   "metadata": {},
   "source": [
    "### **例子**\n",
    "面向对象编程就像是在搭建一个虚拟的世界，把现实中的各种事物都变成代码里的“东西”，这些“东西”被称为对象。假设你要设计一个游戏，游戏里有角色、道具等元素，这就可以用面向对象编程来实现。\n",
    "\n",
    "+ **类** 可以把游戏中的角色看作一类事物，然后创建一个“角色类”。这个<font color=purple>**类**</font>就像是一个模板，它规定了角色都有一些什么<font color=purple>**特征（属性）**</font>和能<font color=purple>**做什么事情（方法）。**</font>比如，角色都有名字、生命值、攻击力这些属性，还会有攻击、移动、防御这些方法。\n",
    "\n",
    "+ **对象** 根据“角色类”，就可以创建具体的角色<font color=purple>**对象。**</font>比如，创建一个叫“小明”的角色，他的生命值是100，攻击力是20。“小明”就是“角色类”的一个实例，也就是一个具体的对象。他拥有“角色类”中定义的所有属性和方法，你可以让“小明”去攻击敌人，或者移动到某个位置。\n",
    "\n",
    "+ **继承** 假如游戏里有不同类型的角色，比如战士和法师，他们都有角色的基本特征，但又有各自独特的地方。这时候就可以用<font color=purple>**继承**</font>来实现。可以先创建一个“角色类”作为父类，然后创建“战士类”和“法师类”作为子类，让它们继承“角色类”的属性和方法。战士可能更擅长近战攻击，有更高的防御力；法师则擅长远程魔法攻击，有更高的魔法值。通过继承，就不用重新编写角色的基本属性和方法，只需要在子类中添加或修改那些独特的部分就行了，这样可以节省很多代码。\n",
    "\n",
    "+ **封装** 在游戏中，每个角色的属性和方法都是被封装在角色这个对象内部的。就像“小明”的生命值只有“小明”自己或者游戏的某些特定规则才能去修改，其他无关的部分不能随便访问和修改他的生命值，这样可以保证数据的安全性和完整性，也让程序的结构更加清晰。\n",
    "\n",
    "+ **多态** 多态就像是不同角色做同一件事情，但方式不一样。比如，战士和法师都有攻击这个方法，但是战士是用武器进行近战攻击，法师是释放魔法进行远程攻击。当你调用攻击方法时，根据角色的不同类型，会执行不同的攻击方式，这就是多态的体现。它让你的程序更加灵活，容易扩展，当你要添加新的角色类型时，只需要实现它独特的攻击方法就可以了，而不需要去修改其他角色的代码。"
   ]
  },
  {
   "cell_type": "markdown",
   "metadata": {},
   "source": [
    "### **面向对象编程的概念**\n",
    "面向对象编程（Object - Oriented Programming，OOP）是一种编程范式，它将现实世界中的事物抽象为对象，以对象为中心来进行程序设计。\n",
    "\n",
    "#### 基本概念\n",
    "- **对象**：对象是面向对象编程的核心概念，是对现实世界中事物的抽象。每个对象都有自己的属性（数据）和方法（行为）。例如，一个“学生”对象可能有姓名、年龄、成绩等属性，以及学习、考试等方法。\n",
    "- **类**：类是具有相同属性和方法的对象的抽象模板。它定义了对象的属性和方法的类型与行为规范。就像“学生”类，它规定了所有学生对象共有的属性和方法，而具体的学生对象则是类的实例化。\n",
    "- **继承**：继承是一种类与类之间的关系，它允许一个类（子类）继承另一个类（父类）的属性和方法。子类可以在父类的基础上进行扩展和修改，从而实现代码的复用。例如，“大学生”类可以继承“学生”类的属性和方法，并添加一些特有的属性和方法，如专业、导师等。\n",
    "- **多态**：多态性是指同一个方法在不同的对象或类中可以有不同的实现方式。它通过方法重载和方法重写来实现。方法重载是指在同一个类中，多个方法可以具有相同的名称，但参数列表不同；方法重写是指子类重新定义父类中已有的方法，以实现不同的行为。\n",
    "\n",
    "#### 特点\n",
    "- **封装性**：将对象的属性和方法封装在类中，对外隐藏内部实现细节，只提供公共的接口供外部访问。这样可以保护对象的内部状态，防止外部的非法访问和修改，提高代码的安全性和可维护性。\n",
    "- **继承性**：通过继承可以实现代码的复用，减少代码的重复编写。子类可以继承父类的属性和方法，并且可以根据自身的需求进行扩展和修改，体现了面向对象编程的层次性和扩展性。\n",
    "- **多态性**：多态使得程序具有更好的灵活性和可扩展性。在不同的场景下，同一个方法可以根据对象的不同类型而表现出不同的行为，提高了代码的复用性和可维护性。\n",
    "- **抽象性**：面向对象编程通过抽象类和接口等机制，将现实世界中的复杂问题进行抽象和建模，提取出共同的特征和行为，形成抽象的概念和模型。这使得程序员可以从更高的层次上理解和处理问题，降低了问题的复杂度。"
   ]
  },
  {
   "cell_type": "markdown",
   "metadata": {},
   "source": [
    "### **例子**\n",
    "在现实生活中，汽车是一个很好的封装例子。汽车将许多复杂的内部结构和功能封装在车身内部，对用户来说，只需要与一些特定的接口进行交互，就能使用汽车的各种功能。以下是具体说明：\n",
    "- **内部结构封装**：汽车的发动机、变速箱、刹车系统、电气系统等复杂的机械和电子部件都被封装在车身内部。这些部件的具体工作原理和构造对于大多数普通用户来说是不透明的，用户不需要了解发动机是如何通过燃烧汽油产生动力，也不需要知道变速箱是如何实现换挡的，只需要知道如何通过操作方向盘、油门、刹车、挡位等外部接口来控制汽车的行驶。\n",
    "- **功能封装**：汽车的各种功能也被封装起来。例如，用户通过按下启动按钮来启动汽车，这个操作实际上触发了一系列复杂的内部过程，包括发动机启动、电子系统初始化等，但用户不需要了解这些细节。同样，用户通过踩下油门踏板来控制车速，通过转动方向盘来控制行驶方向，这些操作都封装了汽车内部复杂的动力传输和转向控制机制。\n",
    "- **保护机制**：封装还提供了一种保护机制，防止外部因素对汽车内部部件的直接干扰和损坏。车身外壳、发动机舱盖等起到了保护内部部件的作用，避免灰尘、水分、碰撞等外界因素对关键部件的影响，确保汽车的正常运行。同时，汽车的设计也限制了用户对内部部件的直接访问，只有经过专业培训的维修人员才能通过特定的工具和程序打开封装，对内部部件进行维修和保养。"
   ]
  },
  {
   "cell_type": "markdown",
   "metadata": {},
   "source": [
    "## 类\n",
    "类用于创建用户定义的数据结构。类也有特殊的函数，称为方法，定义从类创建的对象可以用其数据执行的行为和动作。"
   ]
  },
  {
   "cell_type": "code",
   "execution_count": null,
   "metadata": {},
   "outputs": [],
   "source": [
    "class Dog:\n",
    "    def __init__(self, name, age):\n",
    "       self.name = name\n",
    "       self.age = age\n"
   ]
  },
  {
   "cell_type": "markdown",
   "metadata": {},
   "source": [
    "需要注意的是，**类只是提供结构**。一个类是如何定义一些东西的蓝图。它本身实际上并不提供任何真正的内容。Dog类的实例可能会指定一个具体的狗的名字或年龄。虽然类是蓝图，但**实例**是由包含真实数据的**类构建的对象**。"
   ]
  },
  {
   "cell_type": "markdown",
   "metadata": {},
   "source": [
    "所有类定义都以class关键字开头，后面跟着类名和冒号。在类定义下面缩进的任何代码都被认为是类主体的一部分。要定义所有Dog对象的属性或实例属性，这个方法在每次创建新的Dog对象时都要运行，需要定义一个名为 **\\_\\_init__()** 的特殊方法。\n",
    "\n",
    "\n",
    "**\\_\\_init__()** 的第一个位置实参<font color=purple>**总是一个引用类实例的变量，叫self。**</font>在self参数之后，你可以指定任何其他参数。请注意，函数签名（以def关键字开头的部分）缩进了四个空格。函数体缩进了8个空格。这种缩进是至关重要的。 "
   ]
  },
  {
   "cell_type": "markdown",
   "metadata": {},
   "source": [
    "虽然实例属性是特定于每个对象的，但类属性对于所有实例都是相同的——在本例中就是所有的狗。在下例中，创建了一个名为物种(species)的类属性，并将其值赋值为“Canis familiaris”"
   ]
  },
  {
   "cell_type": "code",
   "execution_count": null,
   "metadata": {},
   "outputs": [
    {
     "ename": "",
     "evalue": "",
     "output_type": "error",
     "traceback": [
      "\u001b[1;31m运行具有“Python 3.12.8”的单元格需要ipykernel包。\n",
      "\u001b[1;31m运行以下命令，将 \"ipykernel\" 安装到 Python 环境中。\n",
      "\u001b[1;31m命令: \"c:/Users/cuish/AppData/Local/Programs/Python/Python312/python.exe -m pip install ipykernel -U --user --force-reinstall\""
     ]
    }
   ],
   "source": [
    "class Dog:\n",
    "    species = \"Canis familiaris\"\n",
    "    def __init__(self, name, age):\n",
    "        self.name = name\n",
    "        self.age = age\n",
    "\n",
    "buddy = Dog(\"Buddy\", 9)\n",
    "miles = Dog(\"Miles\", 4)\n"
   ]
  },
  {
   "cell_type": "markdown",
   "metadata": {},
   "source": [
    "### 实例化一个对象"
   ]
  },
  {
   "cell_type": "markdown",
   "metadata": {},
   "source": [
    ">一旦定义了类，就有了创建新对象的蓝图(也称为实例化)。要实例化一个对象，输入类的名称，用原来的驼峰式大小写，后跟圆括号方法。括号中包含任何必须传递给类的__init__()的值。如上面代码的最后2行。该代码在声明了新的Dog类之后，将创建两个新实例，一个名为buddy的Dog 9岁，另一个名为miles的Dog 4岁。\n",
    ">实例化Dog对象的方式有什么奇怪的地方吗?.__init__()方法有三个参数，那么为什么示例中只传递了两个参数给它呢？实例化一个Dog对象时，Python会创建一个新的实例，并将其传递给__init__()，这个参数就是__init__()的第一个参数。这个参数是隐含传递的，所以你只要传递名字和年龄即可。创建Dog实例后，可以使用句点表示法访问它们的实例属性:\n"
   ]
  },
  {
   "cell_type": "code",
   "execution_count": null,
   "metadata": {},
   "outputs": [],
   "source": [
    "buddy.age"
   ]
  },
  {
   "cell_type": "code",
   "execution_count": null,
   "metadata": {},
   "outputs": [],
   "source": [
    "miles.name"
   ]
  },
  {
   "cell_type": "code",
   "execution_count": null,
   "metadata": {},
   "outputs": [],
   "source": [
    "miles.age"
   ]
  },
  {
   "cell_type": "markdown",
   "metadata": {},
   "source": [
    "#### 实例属性和类属性都可以动态修改"
   ]
  },
  {
   "cell_type": "code",
   "execution_count": null,
   "metadata": {},
   "outputs": [],
   "source": [
    "buddy.age = 10\n",
    "miles.species = \"Felis silvestris\"\n",
    "buddy.age, miles.species"
   ]
  },
  {
   "cell_type": "markdown",
   "metadata": {},
   "source": [
    "### 实例方法"
   ]
  },
  {
   "cell_type": "markdown",
   "metadata": {},
   "source": [
    "**实例方法是定义在类内部的函数。这意味着它们只存在于对象本身的上下文中，在没有引用对象的情况下不能被调用**。就像__init__()一样，实例方法的第一个参数总是self:"
   ]
  },
  {
   "cell_type": "code",
   "execution_count": null,
   "metadata": {},
   "outputs": [],
   "source": [
    "class Dog:\n",
    "    species = \"Canis familiaris\"\n",
    "    def __init__(self, name, age):\n",
    "        self.name = name\n",
    "        self.age = age\n",
    "    \n",
    "    # 实例方法\n",
    "    def description(self):\n",
    "            return f\"{self.name} is {self.age} years old\"\n",
    "        \n",
    "    # 实例方法\n",
    "    def speak(self, sound):\n",
    "            return f\"{self.name} says {sound}\"\n"
   ]
  },
  {
   "cell_type": "markdown",
   "metadata": {},
   "source": [
    "在这个例子中，定义了两个新的实例方法: \n",
    "1. Dog.description()返回一个字符串，显示的名字和年龄 \n",
    "2. Dog.speak()包含一个名为sound的参数，返回一个字符串\n"
   ]
  },
  {
   "cell_type": "code",
   "execution_count": null,
   "metadata": {},
   "outputs": [],
   "source": [
    "miles = Dog(\"Miles\", 4)\n",
    "miles.description()"
   ]
  },
  {
   "cell_type": "code",
   "execution_count": null,
   "metadata": {},
   "outputs": [],
   "source": [
    "miles.speak(\"Woof Woof\")"
   ]
  },
  {
   "cell_type": "code",
   "execution_count": null,
   "metadata": {},
   "outputs": [],
   "source": [
    "miles.speak(\"Bow Wow\")"
   ]
  },
  {
   "cell_type": "markdown",
   "metadata": {},
   "source": [
    "## 继承"
   ]
  },
  {
   "cell_type": "markdown",
   "metadata": {},
   "source": [
    ">继承是一个类继承另一个类的属性和方法的过程。新形成的类称为子类(child)，派生出子类的类称为父类。子类可以覆盖和扩展父类的属性和方法。换句话说，子类继承了父类的所有属性和方法，但也可以指定自己独特的不同属性和方法，甚至可以重新定义父类的方法。对象继承的概念可以被认为有点像基因继承，尽管这个类比并不完美。例如，从你母亲那里遗传了你的发色。这是你与生俱来的属性。你可能会决定把头发染成紫色。假设你的母亲没有紫色的头发，你就重写了从你母亲那里继承的头发颜色属性。从某种意义上说，你也从父母那里继承了语言。如果你的父母说中文，那么你也会说中文。有一天，你可能会决定学第二语言，比如英语。在这种情况下，你正在扩展属性，因为你添加了一个你的父母没有的属性。"
   ]
  },
  {
   "cell_type": "markdown",
   "metadata": {},
   "source": [
    "### object类\n",
    "最基本的类类型是object，其他所有类都从object继承。当定义一个新类时，Python 3隐式地使用object作为父类，因此以下两个定义是等价的:"
   ]
  },
  {
   "cell_type": "code",
   "execution_count": null,
   "metadata": {},
   "outputs": [],
   "source": [
    "class Dog(object):\n",
    "    pass\n",
    "\n",
    "class Dog:\n",
    "    pass"
   ]
  },
  {
   "cell_type": "markdown",
   "metadata": {},
   "source": [
    "使用刚才创建的Dog类，进一步创建一个具有多个不同种类狗狗的模型。而目前Python的Dog类是通过名字和年龄来区分不同的狗的，而不是品种。所以需要添加一个breed属性来修改Dog类:"
   ]
  },
  {
   "cell_type": "code",
   "execution_count": null,
   "metadata": {},
   "outputs": [],
   "source": [
    "class Dog:\n",
    "    species = \"Canis familiaris\"\n",
    "    def __init__(self, name, age, breed):\n",
    "        self.name = name\n",
    "        self.age = age\n",
    "        self.breed = breed\n",
    "    \n",
    "    # 实例方法\n",
    "    def description(self):\n",
    "            return f\"{self.name} is {self.age} years old\"\n",
    "        \n",
    "    # 实例方法\n",
    "    def speak(self, sound):\n",
    "            return f\"{self.name} says {sound}\"\n"
   ]
  },
  {
   "cell_type": "code",
   "execution_count": null,
   "metadata": {},
   "outputs": [],
   "source": [
    "miles = Dog(\"Miles\", 4, \"Jack Russell Terrier\")\n",
    "buddy = Dog(\"Buddy\", 9, \"Dachshund\")\n",
    "jack = Dog(\"Jack\", 3, \"Bulldog\")\n",
    "jim = Dog(\"Jim\", 5, \"Bulldog\")"
   ]
  },
  {
   "cell_type": "markdown",
   "metadata": {},
   "source": [
    "每种狗的行为略有不同。例如，斗牛犬的叫声很低，听起来像“汪”，但腊肠犬的叫声很高，听起来更像“yap”。 仅仅使用Dog类，必须在每次调用Dog实例时为speak()方法的声音参数提供一个字符串:"
   ]
  },
  {
   "cell_type": "code",
   "execution_count": null,
   "metadata": {},
   "outputs": [],
   "source": [
    "buddy.speak(\"Yap\")\n",
    "jim.speak(\"Woof\")\n",
    "jack.speak(\"Woof\")\n"
   ]
  },
  {
   "cell_type": "markdown",
   "metadata": {},
   "source": [
    "更糟糕的是，每个Dog实例在每次调用speak()时传递的字符串是不方便的。而狗狗的叫声依赖于breed属性，但是没有什么能阻止你，或者使用你创建的Dog类的人，传递任何他们想要的字符串。可以通过为每种狗创建一个子类来改变这种状态。扩展每个子类继承的功能，包括为speak()指定一个默认参数。"
   ]
  },
  {
   "cell_type": "code",
   "execution_count": null,
   "metadata": {},
   "outputs": [],
   "source": [
    "class Dog:\n",
    "    species = \"Canis familiaris\"\n",
    "    def __init__(self, name, age):\n",
    "        self.name = name\n",
    "        self.age = age\n",
    "    \n",
    "    # 实例方法\n",
    "    def __str__(self):\n",
    "            return f\"{self.name} is {self.age} years old\"\n",
    "        \n",
    "    # 实例方法\n",
    "    def speak(self, sound):\n",
    "            return f\"{self.name} says {sound}\"\n",
    "\n",
    "class JackRussellTerrier(Dog):\n",
    "    def speak(self, sound=\"Arf\"):\n",
    "         return f\"{self.name} says {sound}\"\n",
    "\n",
    "class Dachshund(Dog):\n",
    "    pass\n",
    "\n",
    "class Bulldog(Dog):\n",
    "    pass\n"
   ]
  },
  {
   "cell_type": "code",
   "execution_count": null,
   "metadata": {},
   "outputs": [],
   "source": [
    "miles = JackRussellTerrier(\"Miles\", 4)\n",
    "buddy = Dachshund(\"Buddy\", 9)\n",
    "jack = Bulldog(\"Jack\", 3)\n",
    "jim = Bulldog(\"Jim\", 5)"
   ]
  },
  {
   "cell_type": "markdown",
   "metadata": {},
   "source": [
    "#### 子类的将继承父类的所有属性和方法"
   ]
  },
  {
   "cell_type": "code",
   "execution_count": null,
   "metadata": {},
   "outputs": [],
   "source": [
    "miles.species"
   ]
  },
  {
   "cell_type": "code",
   "execution_count": null,
   "metadata": {},
   "outputs": [],
   "source": [
    "buddy.name"
   ]
  },
  {
   "cell_type": "code",
   "execution_count": null,
   "metadata": {},
   "outputs": [],
   "source": [
    "print(jack)"
   ]
  },
  {
   "cell_type": "markdown",
   "metadata": {},
   "source": [
    "#### 要确定给定对象属于哪个类，可以使用内置的type()函数"
   ]
  },
  {
   "cell_type": "code",
   "execution_count": null,
   "metadata": {},
   "outputs": [],
   "source": [
    "type(miles)"
   ]
  },
  {
   "cell_type": "markdown",
   "metadata": {},
   "source": [
    "如果想确定miles是否也是Dog类的实例呢？可以用内置的isinstance()函数来做到这一点"
   ]
  },
  {
   "cell_type": "code",
   "execution_count": null,
   "metadata": {},
   "outputs": [],
   "source": [
    "isinstance(miles, Dog)"
   ]
  },
  {
   "cell_type": "markdown",
   "metadata": {},
   "source": [
    "#### 注意isinstance()接受两个参数，一个对象和一个类。在上面的例子中，isinstance()检查miles是否是Dog类的实例，并返回True。所有的miles, buddy, jack和jim对象都是Dog类的实例，但是miles不是Bulldog类的实例，jack也不是Dachshund类的实例"
   ]
  },
  {
   "cell_type": "code",
   "execution_count": null,
   "metadata": {},
   "outputs": [],
   "source": [
    "isinstance(miles, Bulldog)"
   ]
  },
  {
   "cell_type": "markdown",
   "metadata": {},
   "source": [
    "## Example\n",
    "写一个Rectangle类，用两个属性实例化：length和width。在类中添加一个area()方法，返回矩形的面积(长度*宽度)。然后编写一个Square类，它继承自Rectangle类，并使用名为side_length的单一属性实例化。通过实例化一个side_length为4的正方形来测试你的Square类。调用area()方法应该返回16。"
   ]
  },
  {
   "cell_type": "code",
   "execution_count": null,
   "metadata": {},
   "outputs": [],
   "source": [
    "class Rectangle:\n",
    "    def __init__(self, length, width):\n",
    "        self.length = length\n",
    "        self.width = width\n",
    "\n",
    "    def area(self) -> float:\n",
    "        return self.length * self.width\n",
    "\n",
    "\n",
    "class Square(Rectangle):\n",
    "    def __init__(self, side_length):\n",
    "        super().__init__(side_length, side_length)\n",
    "        self.side_length = side_length\n"
   ]
  },
  {
   "cell_type": "code",
   "execution_count": null,
   "metadata": {},
   "outputs": [],
   "source": [
    "s = Square(4)\n",
    "s.area()\n"
   ]
  }
 ],
 "metadata": {
  "kernelspec": {
   "display_name": "Python 3",
   "language": "python",
   "name": "python3"
  },
  "language_info": {
   "codemirror_mode": {
    "name": "ipython",
    "version": 3
   },
   "file_extension": ".py",
   "mimetype": "text/x-python",
   "name": "python",
   "nbconvert_exporter": "python",
   "pygments_lexer": "ipython3",
   "version": "3.12.8"
  },
  "orig_nbformat": 4
 },
 "nbformat": 4,
 "nbformat_minor": 2
}
