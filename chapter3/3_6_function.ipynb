{
 "cells": [
  {
   "cell_type": "markdown",
   "metadata": {},
   "source": [
    "# 函数\n",
    "### 函数将代码分解为更小的块，非常适合程序重复使用的任务。每次程序需要执行任务时，不必编写相同的代码，只需调用函数即可。"
   ]
  },
  {
   "cell_type": "markdown",
   "metadata": {},
   "source": [
    "### 执行函数的过程可以归纳为三个步骤:\n",
    "### 1. 函数调用，并将任何参数传递给函数。\n",
    "### 2. 函数执行，并对参数进行一些操作。 \n",
    "### 3. 函数返回，原始的函数调用被替换为返回值。\n"
   ]
  },
  {
   "cell_type": "markdown",
   "metadata": {},
   "source": [
    "# 编写自己的函数\n",
    "### 每个函数都有两个部分:\n",
    "### 1. <font color=\"purple\">函数签名。</font>定义了函数的名称和它期望的任何输入。 \n",
    "### 2. <font color=\"purple\">函数体。</font>包含每次使用函数时都会运行的代码。"
   ]
  },
  {
   "cell_type": "code",
   "execution_count": null,
   "metadata": {},
   "outputs": [],
   "source": [
    "def multiply(x, y):   # Function signature\n",
    "    #Function body\n",
    "    product = x * y\n",
    "    return product"
   ]
  },
  {
   "cell_type": "code",
   "execution_count": null,
   "metadata": {},
   "outputs": [],
   "source": [
    "num = multiply(2, 4)\n",
    "print(num) "
   ]
  },
  {
   "cell_type": "markdown",
   "metadata": {},
   "source": [
    "### Python中的<font color=\"purple\">所有函数都会</font>返回一个值，即使这个值是None。然而，并<font color=\"purple\">不是所有的函数</font>都需要return语句"
   ]
  },
  {
   "cell_type": "code",
   "execution_count": null,
   "metadata": {},
   "outputs": [],
   "source": [
    "def greet(name):\n",
    "    print(f\"Hello, {name}!\")\n"
   ]
  },
  {
   "cell_type": "markdown",
   "metadata": {},
   "source": [
    "# 编写函数文档\n",
    "### 获得函数的帮助，可以使用help()函数"
   ]
  },
  {
   "cell_type": "markdown",
   "metadata": {},
   "source": [
    "### 当传递一个变量名或函数名给help()时，它会显示一些有用的信息。在这种情况下，help()告诉你len是一个内置函数，它返回容器中元素的数量。"
   ]
  },
  {
   "cell_type": "code",
   "execution_count": null,
   "metadata": {},
   "outputs": [],
   "source": [
    "help(len)"
   ]
  },
  {
   "cell_type": "markdown",
   "metadata": {},
   "source": [
    "## 文档字符串\n",
    "### **文档字符串是放置在函数体顶部的三重引号字符串常量。** 文档字符串用于记录一个函数做什么以及它需要什么样的参数。"
   ]
  },
  {
   "cell_type": "code",
   "execution_count": null,
   "metadata": {},
   "outputs": [],
   "source": [
    "def multiply(x, y):\n",
    "    \"\"\"Return the product of two numbers x and y.\"\"\"\n",
    "    product = x * y\n",
    "    return product\n"
   ]
  },
  {
   "cell_type": "code",
   "execution_count": null,
   "metadata": {},
   "outputs": [],
   "source": [
    "help(multiply)"
   ]
  },
  {
   "cell_type": "markdown",
   "metadata": {},
   "source": [
    "## Example\n",
    ">### 下面来编写一个名为temperature.py的脚本，定义两个函数:\n",
    ">### 1.\tconvert_cel_to_far()，它接受一个表示摄氏度的浮点参数，并返回一个以华氏度表示相同温度的浮点数，使用以下公式:\n",
    ">### F = C * 9/5 + 32 \n",
    ">### 2. convert_far_to_cel()函数将华氏度转换为摄氏度，使用以下公式: \n",
    ">### C = (f - 32) * 5/9 \n",
    ">### 该脚本应该首先提示用户输入以华氏度为单位的温度，然后显示转换为摄氏温度的温度。然后提示用户输入以摄氏度为单位的温度，并显示转换为华氏度度的温度。所有转换后的温度都应该四舍五入到小数点后两位。"
   ]
  },
  {
   "cell_type": "code",
   "execution_count": null,
   "metadata": {},
   "outputs": [],
   "source": [
    "def convert_cel_to_far(c):\n",
    "    \"\"\" 将摄氏度转换为华氏度\"\"\"\n",
    "    f = c*9/5+32\n",
    "    return f\n",
    "\n",
    "def convert_far_to_cel(f):\n",
    "    \"\"\"将华氏度转换为摄氏度\"\"\"\n",
    "    c = (f-32)*5/9\n",
    "    return c\n",
    "\n",
    "f = input(\"请输入一个华氏温度：\")\n",
    "f = float(f)\n",
    "c = convert_far_to_cel(f)\n",
    "print(f\"华氏温度{f}转换为摄氏温度的结果是{c:.2f}\")\n",
    "\n",
    "c = input(\"请输入一个摄氏温度：\")\n",
    "c = float(c)\n",
    "f = convert_cel_to_far(c)\n",
    "print(f\"摄氏温度{c}转换为华氏温度的结果是{f:.2f}\")\n"
   ]
  }
 ],
 "metadata": {
  "kernelspec": {
   "display_name": "Python 3",
   "language": "python",
   "name": "python3"
  },
  "language_info": {
   "codemirror_mode": {
    "name": "ipython",
    "version": 3
   },
   "file_extension": ".py",
   "mimetype": "text/x-python",
   "name": "python",
   "nbconvert_exporter": "python",
   "pygments_lexer": "ipython3",
   "version": "3.11.4"
  },
  "orig_nbformat": 4
 },
 "nbformat": 4,
 "nbformat_minor": 2
}
