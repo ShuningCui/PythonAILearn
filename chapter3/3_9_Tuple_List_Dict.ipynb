{
 "cells": [
  {
   "cell_type": "markdown",
   "metadata": {},
   "source": [
    "# 元组"
   ]
  },
  {
   "cell_type": "markdown",
   "metadata": {},
   "source": [
    "## 元组是不可变的序列\n",
    "### 元组(tuple)这个词来自数学，用来描述<font color=purple>**一个有限有序的值序列**</font>。通常，在数学中描述元组时，会将每个元素列在一对括号内，用逗号分隔。(1,2,3)是一个包含三个整数的元组。\n",
    "### 元组是有序的，因为它们的元素以有序的方式出现。(1,2,3)的元素是1，第二个元素是2，第三个是3，Python从数学中借用了元组的名称和符号。 "
   ]
  },
  {
   "cell_type": "markdown",
   "metadata": {},
   "source": [
    "## 元组常量\n",
    "### 就像字符串常量是通过用引号括起来的文本显式创建的字符串一样，元组常量是显式写出的元组。作为逗号分隔的值列表，用**圆括号**括起来。"
   ]
  },
  {
   "cell_type": "code",
   "execution_count": null,
   "metadata": {},
   "outputs": [],
   "source": [
    "my_first_tuple = (1, 2, 3)"
   ]
  },
  {
   "cell_type": "code",
   "execution_count": null,
   "metadata": {},
   "outputs": [],
   "source": [
    "type(my_first_tuple)"
   ]
  },
  {
   "cell_type": "markdown",
   "metadata": {},
   "source": [
    "### 不像字符串，字符串是字符序列，元组可以包含任何类型的值，包括不同类型的值。"
   ]
  },
  {
   "cell_type": "code",
   "execution_count": null,
   "metadata": {},
   "outputs": [],
   "source": [
    "tuple_with_diff_types = (1, \"Hello\", 3.4)"
   ]
  },
  {
   "cell_type": "markdown",
   "metadata": {},
   "source": [
    "### 有一种特殊的元组不包含任何值，称为空元组，可以通过输入两个括号来创建"
   ]
  },
  {
   "cell_type": "code",
   "execution_count": null,
   "metadata": {},
   "outputs": [],
   "source": [
    "empty_tuple = ()"
   ]
  },
  {
   "cell_type": "markdown",
   "metadata": {},
   "source": [
    "### 如何创建一个刚好只有一个元素的元组？用括号包围一个值时， Python将该值解释为一种书写整数1的类型而不是元组。要创建包含单个值1的元组，你需要在1后面包含一个逗号"
   ]
  },
  {
   "cell_type": "code",
   "execution_count": null,
   "metadata": {},
   "outputs": [],
   "source": [
    "x = (1,)"
   ]
  },
  {
   "cell_type": "markdown",
   "metadata": {},
   "source": [
    "## 使用tuple()内置函数\n",
    "### 也可以使用tuple()内置函数来从另一个序列类型(比如字符串)创建元组"
   ]
  },
  {
   "cell_type": "code",
   "execution_count": 1,
   "metadata": {},
   "outputs": [
    {
     "data": {
      "text/plain": [
       "('P', 'y', 't', 'h', 'o', 'n')"
      ]
     },
     "execution_count": 1,
     "metadata": {},
     "output_type": "execute_result"
    }
   ],
   "source": [
    "tuple(\"Python\")"
   ]
  },
  {
   "cell_type": "markdown",
   "metadata": {},
   "source": [
    "### Tuple()只接受一个参数，所以你不能只是将元组中想要的值作为单个参数列出。如果你这么做了，Python会抛出一个TypeError。如果传递给tuple()的参数不能被解释为一个值列表，也会得到一个TypeError"
   ]
  },
  {
   "cell_type": "code",
   "execution_count": null,
   "metadata": {},
   "outputs": [],
   "source": [
    "tuple(1)"
   ]
  },
  {
   "cell_type": "markdown",
   "metadata": {},
   "source": [
    "## 元组和字符串之间的相似性"
   ]
  },
  {
   "cell_type": "markdown",
   "metadata": {},
   "source": [
    ">### 元组和字符串有很多相似之处。两者都是长度有限的序列类型，支持索引和切片，是不可变的，并且可以在循环中迭代。字符串和元组之间的主要区别是元组的元素可以是你喜欢的任何类型的值，而字符串只能包含字符。让我们更深入地看看元组中字符串之间的一些相似之处。\n",
    ">### 元组有长度。字符串和元组都有长度。字符串的长度就是其中的字符数量。元组的长度是它包含的元素的数量。就像字符串一样，元组的长度可以用len()函数可以用来确定。元组支持索引和切片。"
   ]
  },
  {
   "cell_type": "code",
   "execution_count": null,
   "metadata": {},
   "outputs": [],
   "source": [
    "tup = (1, 2, 3, 4, 5, 6, 7, 8, 9, 10)\n",
    "len(tup)"
   ]
  },
  {
   "cell_type": "markdown",
   "metadata": {},
   "source": [
    "## 元组打包和解包"
   ]
  },
  {
   "cell_type": "code",
   "execution_count": 4,
   "metadata": {},
   "outputs": [
    {
     "data": {
      "text/plain": [
       "tuple"
      ]
     },
     "execution_count": 4,
     "metadata": {},
     "output_type": "execute_result"
    }
   ],
   "source": [
    "coordinates = 2.3, 3.9\n",
    "type(coordinates)"
   ]
  },
  {
   "cell_type": "code",
   "execution_count": 5,
   "metadata": {},
   "outputs": [
    {
     "data": {
      "text/plain": [
       "(2.3, 3.9)"
      ]
     },
     "execution_count": 5,
     "metadata": {},
     "output_type": "execute_result"
    }
   ],
   "source": [
    "coordinates\n"
   ]
  },
  {
   "cell_type": "code",
   "execution_count": 6,
   "metadata": {},
   "outputs": [
    {
     "data": {
      "text/plain": [
       "2.3"
      ]
     },
     "execution_count": 6,
     "metadata": {},
     "output_type": "execute_result"
    }
   ],
   "source": [
    "x, y = coordinates\n",
    "x"
   ]
  },
  {
   "cell_type": "markdown",
   "metadata": {},
   "source": [
    "## in 关键字\n",
    "### 可以用in关键字检查一个值是否包含在一个元组中"
   ]
  },
  {
   "cell_type": "code",
   "execution_count": null,
   "metadata": {},
   "outputs": [],
   "source": [
    "vowels = (\"a\", \"e\", \"i\", \"o\", \"u\")\n",
    "\"o\" in vowels"
   ]
  },
  {
   "cell_type": "code",
   "execution_count": null,
   "metadata": {},
   "outputs": [],
   "source": [
    "\"x\" in vowels"
   ]
  },
  {
   "cell_type": "markdown",
   "metadata": {},
   "source": [
    "### 元组的一个常见用途是从单个函数返回多个值"
   ]
  },
  {
   "cell_type": "code",
   "execution_count": null,
   "metadata": {},
   "outputs": [],
   "source": [
    "def adder_subtractor(num1, num2):\n",
    "    return (num1 + num2, num1 - num2)\n",
    "\n",
    "adder_subtractor(3, 2)"
   ]
  },
  {
   "cell_type": "markdown",
   "metadata": {},
   "source": [
    "# 列表"
   ]
  },
  {
   "cell_type": "markdown",
   "metadata": {},
   "source": [
    ">### 列表数据结构是Python中的另一种序列类型。从表面上看，列表的外观和行为很像元组。可以对列表使用索引和切片表示法，使用in检查元素是否存在，并使用for循环迭代列表。然而，与元组不同的是，列表是可变的，这意味着你可以更改列表的值。"
   ]
  },
  {
   "cell_type": "markdown",
   "metadata": {},
   "source": [
    "### 列表常量看起来几乎和元组常量一模一样，除了它被<font color=purple>**方括号([])**</font>包围而不是圆括号"
   ]
  },
  {
   "cell_type": "code",
   "execution_count": 7,
   "metadata": {},
   "outputs": [
    {
     "data": {
      "text/plain": [
       "list"
      ]
     },
     "execution_count": 7,
     "metadata": {},
     "output_type": "execute_result"
    }
   ],
   "source": [
    "colors = [\"red\", \"yellow\", \"green\", \"blue\"]\n",
    "type(colors)"
   ]
  },
  {
   "cell_type": "code",
   "execution_count": 8,
   "metadata": {},
   "outputs": [
    {
     "data": {
      "text/plain": [
       "['red', 'yellow', 'green', 'blue']"
      ]
     },
     "execution_count": 8,
     "metadata": {},
     "output_type": "execute_result"
    }
   ],
   "source": [
    "colors"
   ]
  },
  {
   "cell_type": "markdown",
   "metadata": {},
   "source": [
    "### 和元组一样，列表的值也不需要是相同的类型。列表常量[\"one\", 2, 3.0]完全有效。除了列表常量，你还可以使用内建list()函数从任何其他序列创建一个新的列表对象。"
   ]
  },
  {
   "cell_type": "code",
   "execution_count": 9,
   "metadata": {},
   "outputs": [
    {
     "data": {
      "text/plain": [
       "[1, 2, 3]"
      ]
     },
     "execution_count": 9,
     "metadata": {},
     "output_type": "execute_result"
    }
   ],
   "source": [
    "# 从元组创建列表\n",
    "list((1, 2, 3))"
   ]
  },
  {
   "cell_type": "code",
   "execution_count": 10,
   "metadata": {},
   "outputs": [
    {
     "data": {
      "text/plain": [
       "['P', 'y', 't', 'h', 'o', 'n']"
      ]
     },
     "execution_count": 10,
     "metadata": {},
     "output_type": "execute_result"
    }
   ],
   "source": [
    "# 从字符串创建列表\n",
    "list(\"Python\")"
   ]
  },
  {
   "cell_type": "markdown",
   "metadata": {},
   "source": [
    "### 字符串中的每个字母都成为列表中的一个元素。还有一种更有用的方法可以从字符串创建列表。你可以使用string对象的split()方法，从逗号分隔的字符串中创建列表"
   ]
  },
  {
   "cell_type": "code",
   "execution_count": 11,
   "metadata": {},
   "outputs": [
    {
     "data": {
      "text/plain": [
       "['eggs', 'milk', 'cheese']"
      ]
     },
     "execution_count": 11,
     "metadata": {},
     "output_type": "execute_result"
    }
   ],
   "source": [
    "groceries = \"eggs, milk, cheese\"\n",
    "grocery_list = groceries.split(\", \")\n",
    "grocery_list"
   ]
  },
  {
   "cell_type": "markdown",
   "metadata": {},
   "source": [
    "### 列表支持元组支持的所有相同操作。如索引、切片以及可以使用in操作符检查列表元素是否存在。因为列表是可迭代的，还可以用for循环迭代它们"
   ]
  },
  {
   "cell_type": "code",
   "execution_count": null,
   "metadata": {},
   "outputs": [],
   "source": [
    "numbers = [1, 2, 3, 4]\n",
    "for number in numbers:\n",
    "    if number % 2 == 0:\n",
    "        print(number)\n"
   ]
  },
  {
   "cell_type": "markdown",
   "metadata": {},
   "source": [
    "### 可以使用<font color=purple>索引表示法</font>将新值分配给一个列表项"
   ]
  },
  {
   "cell_type": "code",
   "execution_count": 12,
   "metadata": {},
   "outputs": [],
   "source": [
    "colors = [\"red\", \"yellow\", \"green\", \"blue\"]\n",
    "colors[0] = \"burgundy\""
   ]
  },
  {
   "cell_type": "markdown",
   "metadata": {},
   "source": [
    "### 可以<font color=purple>使用切片一次更改列表中的几个值</font>"
   ]
  },
  {
   "cell_type": "code",
   "execution_count": 13,
   "metadata": {},
   "outputs": [
    {
     "data": {
      "text/plain": [
       "['burgundy', 'orange', 'magenta', 'blue']"
      ]
     },
     "execution_count": 13,
     "metadata": {},
     "output_type": "execute_result"
    }
   ],
   "source": [
    "colors[1:3] = [\"orange\", \"magenta\"]\n",
    "colors"
   ]
  },
  {
   "cell_type": "markdown",
   "metadata": {},
   "source": [
    "### 虽然可以用切片表示法来添加和删除元素，但<font color=purple>列表方法</font>提供了一种更自然和可读的方式来改变列表。要使用它们，首先要写要操作的列表的名称，然后是一个点(.)，然后是列表方法的名称。因此，要在colors列表中使用insert()，必须编写colors.insert()"
   ]
  },
  {
   "cell_type": "code",
   "execution_count": 14,
   "metadata": {},
   "outputs": [
    {
     "data": {
      "text/plain": [
       "['red', 'orange', 'yellow', 'green', 'blue']"
      ]
     },
     "execution_count": 14,
     "metadata": {},
     "output_type": "execute_result"
    }
   ],
   "source": [
    "colors = [\"red\", \"yellow\", \"green\", \"blue\"]\n",
    "# Insert \"orange\" 到第2个位置\n",
    "# 如果insert()的index参数的值大于列表中的最大索引，\n",
    "# 则该值被插入到列表的末尾。在insert()中也可以使用负索引。\n",
    "colors.insert(1, \"orange\")\n",
    "colors"
   ]
  },
  {
   "cell_type": "markdown",
   "metadata": {},
   "source": [
    "### list.pop()，pop接受一个整数index参数，pop将此索引的值作为函数值返回，同时从列表中删除该索引处的值。负索引也适用于pop()，但是与insert()不同，如果你传递给pop()一个超出范围的索引，Python会抛出IndexError。如果你不给pop()传递一个值，它会删除列表中的最后一个元素"
   ]
  },
  {
   "cell_type": "code",
   "execution_count": 15,
   "metadata": {},
   "outputs": [
    {
     "data": {
      "text/plain": [
       "'green'"
      ]
     },
     "execution_count": 15,
     "metadata": {},
     "output_type": "execute_result"
    }
   ],
   "source": [
    "color = colors.pop(3)\n",
    "color"
   ]
  },
  {
   "cell_type": "code",
   "execution_count": 16,
   "metadata": {},
   "outputs": [
    {
     "data": {
      "text/plain": [
       "['red', 'orange', 'yellow', 'blue']"
      ]
     },
     "execution_count": 16,
     "metadata": {},
     "output_type": "execute_result"
    }
   ],
   "source": [
    "colors"
   ]
  },
  {
   "cell_type": "code",
   "execution_count": 17,
   "metadata": {},
   "outputs": [
    {
     "ename": "IndexError",
     "evalue": "pop index out of range",
     "output_type": "error",
     "traceback": [
      "\u001b[1;31m---------------------------------------------------------------------------\u001b[0m",
      "\u001b[1;31mIndexError\u001b[0m                                Traceback (most recent call last)",
      "\u001b[1;32mg:\\PythonAILearn\\chapter3\\3_9_Tuple_List_Dict.ipynb Cell 49\u001b[0m line \u001b[0;36m1\n\u001b[1;32m----> <a href='vscode-notebook-cell:/g%3A/PythonAILearn/chapter3/3_9_Tuple_List_Dict.ipynb#X65sZmlsZQ%3D%3D?line=0'>1</a>\u001b[0m colors\u001b[39m.\u001b[39;49mpop(\u001b[39m10\u001b[39;49m)\n",
      "\u001b[1;31mIndexError\u001b[0m: pop index out of range"
     ]
    }
   ],
   "source": [
    "colors.pop(10)"
   ]
  },
  {
   "cell_type": "code",
   "execution_count": 18,
   "metadata": {},
   "outputs": [
    {
     "data": {
      "text/plain": [
       "'blue'"
      ]
     },
     "execution_count": 18,
     "metadata": {},
     "output_type": "execute_result"
    }
   ],
   "source": [
    "colors.pop(-1)"
   ]
  },
  {
   "cell_type": "code",
   "execution_count": 19,
   "metadata": {},
   "outputs": [
    {
     "data": {
      "text/plain": [
       "'yellow'"
      ]
     },
     "execution_count": 19,
     "metadata": {},
     "output_type": "execute_result"
    }
   ],
   "source": [
    "colors.pop()"
   ]
  },
  {
   "cell_type": "markdown",
   "metadata": {},
   "source": [
    "### append()将一个新的元素项添加到列表的末尾"
   ]
  },
  {
   "cell_type": "code",
   "execution_count": 20,
   "metadata": {},
   "outputs": [],
   "source": [
    "colors.append(\"indigo\")"
   ]
  },
  {
   "cell_type": "markdown",
   "metadata": {},
   "source": [
    "### 除了列表方法之外，Python还有个有用的内置函数用于处理数字列表。"
   ]
  },
  {
   "cell_type": "code",
   "execution_count": 21,
   "metadata": {},
   "outputs": [
    {
     "data": {
      "text/plain": [
       "15"
      ]
     },
     "execution_count": 21,
     "metadata": {},
     "output_type": "execute_result"
    }
   ],
   "source": [
    "nums = [1, 2, 3, 4, 5]\n",
    "sum(nums)"
   ]
  },
  {
   "cell_type": "markdown",
   "metadata": {},
   "source": [
    "## 列表推导"
   ]
  },
  {
   "cell_type": "markdown",
   "metadata": {},
   "source": [
    "numbers = (1, 2, 3, 4, 5)\n",
    "squares = [num**2 for num in numbers]\n",
    "squares"
   ]
  },
  {
   "cell_type": "markdown",
   "metadata": {},
   "source": [
    "### 列表推导式通常用于将一个列表中的值转换为不同的类型。例如，假设你需要将一个包含浮点值的字符串列表转换为一个浮点数列表。"
   ]
  },
  {
   "cell_type": "code",
   "execution_count": null,
   "metadata": {},
   "outputs": [],
   "source": [
    "str_numbers = [\"1.5\", \"2.3\", \"5.25\"]\n",
    "float_numbers = [float(value) for value in str_numbers]\n",
    "float_numbers"
   ]
  },
  {
   "cell_type": "code",
   "execution_count": null,
   "metadata": {},
   "outputs": [],
   "source": [
    "float_n=[]\n",
    "for s in str_numbers:\n",
    "    float_n.append(float(s))"
   ]
  },
  {
   "cell_type": "markdown",
   "metadata": {},
   "source": [
    "## 嵌套、复制和排序元组和列表"
   ]
  },
  {
   "cell_type": "markdown",
   "metadata": {},
   "source": [
    "### 嵌套"
   ]
  },
  {
   "cell_type": "code",
   "execution_count": 1,
   "metadata": {},
   "outputs": [
    {
     "data": {
      "text/plain": [
       "2"
      ]
     },
     "execution_count": 1,
     "metadata": {},
     "output_type": "execute_result"
    }
   ],
   "source": [
    "two_by_two = [[1, 2], [3, 4]]\n",
    "len(two_by_two)\n"
   ]
  },
  {
   "cell_type": "code",
   "execution_count": 2,
   "metadata": {},
   "outputs": [
    {
     "data": {
      "text/plain": [
       "[1, 2]"
      ]
     },
     "execution_count": 2,
     "metadata": {},
     "output_type": "execute_result"
    }
   ],
   "source": [
    "two_by_two[0]"
   ]
  },
  {
   "cell_type": "markdown",
   "metadata": {},
   "source": [
    "### 复制列表"
   ]
  },
  {
   "cell_type": "markdown",
   "metadata": {},
   "source": [
    "### 在这个例子中，你首先将存储在list_one变量中的列表赋值给变量list_copy，然后我们将一个新的数字添加到list_copy列表中。但是，当显示list_one的内容时，你可以看到原来的列表也被更改了。也就是说list_copy = list_one时，并<font color=red>**没有创建**</font>一个新的列表，而只是让list_copy 和 list_one变量都指向了同一个对象。"
   ]
  },
  {
   "cell_type": "code",
   "execution_count": 22,
   "metadata": {},
   "outputs": [
    {
     "data": {
      "text/plain": [
       "[1, 2, 3, 4, 5]"
      ]
     },
     "execution_count": 22,
     "metadata": {},
     "output_type": "execute_result"
    }
   ],
   "source": [
    "list_one = [1,2,3,4]\n",
    "list_copy = list_one\n",
    "list_copy.append(5)\n",
    "list_one\n"
   ]
  },
  {
   "cell_type": "markdown",
   "metadata": {},
   "source": [
    "### 变量名实际上只是对计算机内存中特定位置的引用。list_copy = list_one将list_one引用的内存位置赋值给list_copy，而不是复制列表对象的所有内容并创建一个新的列表。也就是说，这两个变量现在都指向内存中的同一个对象，对其中一个的任何更改都会影响另一个。**要获得列表的独立副本，可以使用切片：**"
   ]
  },
  {
   "cell_type": "code",
   "execution_count": null,
   "metadata": {},
   "outputs": [],
   "source": [
    "list_one = [1,2,3,4]\n",
    "list_copy = list_one[:]\n",
    "list_copy.append(5)\n",
    "list_one\n"
   ]
  },
  {
   "cell_type": "code",
   "execution_count": null,
   "metadata": {},
   "outputs": [],
   "source": [
    "list_copy"
   ]
  },
  {
   "cell_type": "markdown",
   "metadata": {},
   "source": [
    "### 排序列表"
   ]
  },
  {
   "cell_type": "markdown",
   "metadata": {},
   "source": [
    ">### 列表有一个sort()方法，可以对所有项目进行升序排序。默认情况下，列表是按字母或数字顺序排序的，这取决于列表中元素的类型。注意，sort()会<font color=red>**直接对列表进行排序**</font>，所以不需要将它的结果赋值给任何东西。\n",
    ">### sort()有一个名为key的选项参数，**key参数接受一个函数**，可用于调整列表根据该函数的返回值进行排序。例如，要按每个字符串的长度对字符串的列表进行排序，可以将len()函数传递给key: "
   ]
  },
  {
   "cell_type": "code",
   "execution_count": 3,
   "metadata": {},
   "outputs": [
    {
     "data": {
      "text/plain": [
       "['red', 'blue', 'green', 'yellow']"
      ]
     },
     "execution_count": 3,
     "metadata": {},
     "output_type": "execute_result"
    }
   ],
   "source": [
    "colors = [\"red\", \"yellow\", \"green\", \"blue\"]\n",
    "colors.sort(key=len)\n",
    "colors"
   ]
  },
  {
   "cell_type": "markdown",
   "metadata": {},
   "source": [
    "# 字典"
   ]
  },
  {
   "cell_type": "markdown",
   "metadata": {},
   "source": [
    ">### Python中最有用的数据结构之一是字典。什么是字典？Python字典像列表和元组一样，存储了一个对象的集合。然而，字典不是将对象存储在序列中，而是以数据对的形式保存信息，称为键值对。也就是说，字典中的每个对象都有两个部分：**一个键和一个值。** Python字典是一种将一组键与一组值联系起来的数据结构。每个键都被分配了一个值，它定义了两个集合之间的关系。"
   ]
  },
  {
   "cell_type": "code",
   "execution_count": null,
   "metadata": {},
   "outputs": [],
   "source": [
    "# 下面的代码创建了一个字典常量，其中包含省份的名字和它们的省会城市\n",
    "provincial_capital = {\"陕西\":\"西安\", \"广东\":\"广州\", \"浙江\":\"杭州\"}"
   ]
  },
  {
   "cell_type": "markdown",
   "metadata": {},
   "source": [
    ">### 请注意，每个键与值之间用冒号(:)分隔，每个键-值对之间用逗号(,)分隔，整个字典被括在**大括号({ })中。** 特别注意：在使用中文的时候，引号内的内容可以是中文，<font color=red>但是引号本身、逗号、大括号等均应使用西文符号。</font>\n",
    ">### 最后可以有逗号，也可以不写"
   ]
  },
  {
   "cell_type": "markdown",
   "metadata": {},
   "source": [
    "### 可以使用内置的dict()从一系列元组中创建字典"
   ]
  },
  {
   "cell_type": "code",
   "execution_count": 1,
   "metadata": {},
   "outputs": [],
   "source": [
    "key_value_pairs = (\n",
    "    (\"陕西\", \"西安\"),\n",
    "    (\"广东\", \"广州\"),\n",
    "    (\"浙江\", \"杭州\"),\n",
    ")\n",
    "    \n",
    "provincial_capital = dict(key_value_pairs)\n"
   ]
  },
  {
   "cell_type": "markdown",
   "metadata": {},
   "source": [
    "### 要访问字典中的值，在字典末尾将对应的键用方括号([])括起来"
   ]
  },
  {
   "cell_type": "code",
   "execution_count": 2,
   "metadata": {},
   "outputs": [
    {
     "data": {
      "text/plain": [
       "'西安'"
      ]
     },
     "execution_count": 2,
     "metadata": {},
     "output_type": "execute_result"
    }
   ],
   "source": [
    "provincial_capital[\"陕西\"]"
   ]
  },
  {
   "cell_type": "markdown",
   "metadata": {},
   "source": [
    "### 和列表一样，字典也是可变的数据结构。这意味着你可以从字典中添加和删除元素"
   ]
  },
  {
   "cell_type": "code",
   "execution_count": 3,
   "metadata": {},
   "outputs": [
    {
     "data": {
      "text/plain": [
       "{'陕西': '西安', '广东': '广州', '浙江': '杭州', '四川': '成都'}"
      ]
     },
     "execution_count": 3,
     "metadata": {},
     "output_type": "execute_result"
    }
   ],
   "source": [
    "provincial_capital[\"四川\"]=\"成都\"\n",
    "provincial_capital"
   ]
  },
  {
   "cell_type": "markdown",
   "metadata": {},
   "source": [
    "### 添加时直接赋值给新的键-值对即可。字典中的每个键只能被赋予一个值。如果一个键被赋予了一个新值，Python将覆盖掉旧的值。\n",
    "### 要从字典中删除项，使用del关键字，并将键指定为要删除的值:"
   ]
  },
  {
   "cell_type": "code",
   "execution_count": 4,
   "metadata": {},
   "outputs": [
    {
     "data": {
      "text/plain": [
       "{'陕西': '西安', '浙江': '杭州', '四川': '成都'}"
      ]
     },
     "execution_count": 4,
     "metadata": {},
     "output_type": "execute_result"
    }
   ],
   "source": [
    "del provincial_capital[\"广东\"]\n",
    "provincial_capital"
   ]
  },
  {
   "cell_type": "markdown",
   "metadata": {},
   "source": [
    "### 检查字典键是否存在"
   ]
  },
  {
   "cell_type": "code",
   "execution_count": 5,
   "metadata": {},
   "outputs": [
    {
     "name": "stdout",
     "output_type": "stream",
     "text": [
      "西安\n"
     ]
    }
   ],
   "source": [
    "if \"陕西\" in provincial_capital:\n",
    "    print(provincial_capital[\"陕西\"])\n"
   ]
  },
  {
   "cell_type": "markdown",
   "metadata": {},
   "source": [
    "## 遍历字典"
   ]
  },
  {
   "cell_type": "markdown",
   "metadata": {},
   "source": [
    "### 像列表和元组一样，字典也是可迭代的。然而，遍历字典与遍历列表或元组略有不同。当使用for循环遍历字典时，会遍历字典中的键:"
   ]
  },
  {
   "cell_type": "code",
   "execution_count": 6,
   "metadata": {},
   "outputs": [
    {
     "name": "stdout",
     "output_type": "stream",
     "text": [
      "陕西\n",
      "浙江\n",
      "四川\n"
     ]
    }
   ],
   "source": [
    "for key in provincial_capital:\n",
    "    print(key)\n"
   ]
  },
  {
   "cell_type": "code",
   "execution_count": 7,
   "metadata": {},
   "outputs": [
    {
     "name": "stdout",
     "output_type": "stream",
     "text": [
      "陕西省的省会是西安\n",
      "浙江省的省会是杭州\n",
      "四川省的省会是成都\n"
     ]
    }
   ],
   "source": [
    "for province in provincial_capital:\n",
    "    print(f\"{province }省的省会是{provincial_capital[province]}\")\n"
   ]
  },
  {
   "cell_type": "markdown",
   "metadata": {},
   "source": [
    "### 使用items()字典方法有一种稍微简洁的方法来做到这一点，items()返回一个类似列表的对象，其中包含键值对的元组"
   ]
  },
  {
   "cell_type": "code",
   "execution_count": null,
   "metadata": {},
   "outputs": [],
   "source": [
    "provincial_capital.items()"
   ]
  },
  {
   "cell_type": "code",
   "execution_count": 8,
   "metadata": {},
   "outputs": [
    {
     "name": "stdout",
     "output_type": "stream",
     "text": [
      "陕西省的省会是西安\n",
      "浙江省的省会是杭州\n",
      "四川省的省会是成都\n"
     ]
    }
   ],
   "source": [
    "for province, city in provincial_capital.items():\n",
    "    print(f\"{province}省的省会是{city}\")\n"
   ]
  }
 ],
 "metadata": {
  "kernelspec": {
   "display_name": "Python 3",
   "language": "python",
   "name": "python3"
  },
  "language_info": {
   "codemirror_mode": {
    "name": "ipython",
    "version": 3
   },
   "file_extension": ".py",
   "mimetype": "text/x-python",
   "name": "python",
   "nbconvert_exporter": "python",
   "pygments_lexer": "ipython3",
   "version": "3.11.4"
  },
  "orig_nbformat": 4
 },
 "nbformat": 4,
 "nbformat_minor": 2
}
