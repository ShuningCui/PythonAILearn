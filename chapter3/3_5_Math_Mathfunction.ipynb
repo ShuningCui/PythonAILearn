{
 "cells": [
  {
   "cell_type": "markdown",
   "metadata": {},
   "source": [
    "# 数字\n",
    "### Python有三种内置的数字数据类型：整数、浮点数和复数"
   ]
  },
  {
   "cell_type": "markdown",
   "metadata": {},
   "source": [
    "## 整数\n",
    "### 整数数据类型的名称是int，可以简单地通过显式输入数字或使用int()函数来创建一个整数。"
   ]
  },
  {
   "cell_type": "code",
   "execution_count": null,
   "metadata": {},
   "outputs": [],
   "source": [
    "1000000\n",
    "1_000_000"
   ]
  },
  {
   "cell_type": "markdown",
   "metadata": {},
   "source": [
    "## 浮点数\n",
    "### 浮点数是一个小数。1.0是浮点数，-2.75也是。浮点数据类型为float"
   ]
  },
  {
   "cell_type": "code",
   "execution_count": null,
   "metadata": {},
   "outputs": [],
   "source": [
    "1000000.0\n",
    "1_000_000.0\n",
    "1e6"
   ]
  },
  {
   "cell_type": "markdown",
   "metadata": {},
   "source": [
    "# 算术运算符和表达式\n",
    "+ ### 加法是用+运算符执行的。+运算符两边的两个数字称为**操作数(operand)**。\n",
    "+ ### 可以将int和float相加。任何时候一个浮点数和一个数相加，结果都是另一个浮点数。\n",
    "+ ### 两个整数相加/减/乘的结果总是整数。而运算中只要有一个操作数是浮点数，结果就是浮点数。\n",
    "+ ### -运算符也用于表示负数。\n",
    "+ ### 操作符/用于将两个数字相除与加法、减法和乘法不同，**/运算符的除法总是返回一个浮点数**。"
   ]
  },
  {
   "cell_type": "code",
   "execution_count": null,
   "metadata": {},
   "outputs": [],
   "source": [
    "print(2.0+3.0)\n",
    "print(2+3)\n",
    "print(2.0*3)\n",
    "print(7/2)"
   ]
  },
  {
   "cell_type": "markdown",
   "metadata": {},
   "source": [
    "## 取整\n",
    "### int()会丢弃数字的任何小数部分。\n",
    "### 5.0 / 2返回浮点数2.5，而int(2.5)返回去掉了.5部分得到了整数2。\n",
    "### 整数除法提供了第二个除法运算符//，称为整除法。\n",
    "### //运算符首先将左边的数除以其中一个数然后向下取整为整数。需要注意负数的情况，-3除以2得到-1.5，然后向下取整为-2。"
   ]
  },
  {
   "cell_type": "code",
   "execution_count": null,
   "metadata": {},
   "outputs": [],
   "source": [
    "print(int(5/2))\n",
    "print(9//2)\n",
    "print(-3//2)"
   ]
  },
  {
   "cell_type": "markdown",
   "metadata": {},
   "source": [
    "## 求幂\n",
    "### 可以使用**操作符对一个数求幂\n",
    "### 指数不一定是整数。指数也可以是浮点数"
   ]
  },
  {
   "cell_type": "code",
   "execution_count": null,
   "metadata": {},
   "outputs": [],
   "source": [
    "print(2**2)\n",
    "print(3**1.5)\n",
    "print(9**0.5)"
   ]
  },
  {
   "cell_type": "markdown",
   "metadata": {},
   "source": [
    "## 求模\n",
    "### %运算符或求模运算符，返回左操作数除以右操作数的余数\n",
    "### 为了计算数字x除以数字y的余数r, Python使用方程**r = x - (y * (x // y))**。"
   ]
  },
  {
   "cell_type": "code",
   "execution_count": null,
   "metadata": {},
   "outputs": [],
   "source": [
    "print(7%3)\n",
    "print(7.5%3)\n",
    "print(7%3.5)\n",
    "print(4%2)\n",
    "print(-5%3)\n",
    "print(5%-3)"
   ]
  },
  {
   "cell_type": "markdown",
   "metadata": {},
   "source": [
    "## 表达式\n",
    "### 可以将运算符组合起来形成复杂的表达式。表达式是数字、运算符、变量和括号的组合\n",
    "### Python可以计算或求值，以返回一个值\n",
    "### 运算符具有优先级"
   ]
  },
  {
   "cell_type": "code",
   "execution_count": 8,
   "metadata": {},
   "outputs": [
    {
     "data": {
      "text/plain": [
       "-13.0"
      ]
     },
     "execution_count": 8,
     "metadata": {},
     "output_type": "execute_result"
    }
   ],
   "source": [
    "2+3*4/2+(5-8)*7"
   ]
  },
  {
   "cell_type": "markdown",
   "metadata": {},
   "source": [
    "## 运算的精度和误差\n",
    ">### 计算机用2进制表示浮点数，当用二进制表示时，十进制数0.1就会发生一些我们熟悉但却可能意想不到的事情。分数1/3没有有限的十进制表示，即1/3 = 0.3333……小数点后有无穷多个3。所以二进制的0.1的值只是一个近似值，这就解释了为什么0.1 + 0.2不等于0.3。Python将0.1和0.2的二进制近似值相加，得到的数字是0.3的二进制近似值。 "
   ]
  },
  {
   "cell_type": "code",
   "execution_count": 9,
   "metadata": {},
   "outputs": [
    {
     "data": {
      "text/plain": [
       "0.30000000000000004"
      ]
     },
     "execution_count": 9,
     "metadata": {},
     "output_type": "execute_result"
    }
   ],
   "source": [
    "0.1+0.2"
   ]
  },
  {
   "cell_type": "code",
   "execution_count": 10,
   "metadata": {},
   "outputs": [
    {
     "data": {
      "text/plain": [
       "0.4"
      ]
     },
     "execution_count": 10,
     "metadata": {},
     "output_type": "execute_result"
    }
   ],
   "source": [
    "0.2+0.2"
   ]
  }
 ],
 "metadata": {
  "kernelspec": {
   "display_name": "Python 3",
   "language": "python",
   "name": "python3"
  },
  "language_info": {
   "codemirror_mode": {
    "name": "ipython",
    "version": 3
   },
   "file_extension": ".py",
   "mimetype": "text/x-python",
   "name": "python",
   "nbconvert_exporter": "python",
   "pygments_lexer": "ipython3",
   "version": "3.11.4"
  },
  "orig_nbformat": 4
 },
 "nbformat": 4,
 "nbformat_minor": 2
}
