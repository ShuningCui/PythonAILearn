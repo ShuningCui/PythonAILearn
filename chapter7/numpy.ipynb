{
 "cells": [
  {
   "cell_type": "code",
   "execution_count": 1,
   "metadata": {},
   "outputs": [],
   "source": [
    "import numpy as np"
   ]
  },
  {
   "cell_type": "markdown",
   "metadata": {},
   "source": [
    "## 可以通过多种方式来创建一个numpy数组，下面的代码通过一个list创建了一个一维数组："
   ]
  },
  {
   "cell_type": "code",
   "execution_count": null,
   "metadata": {},
   "outputs": [],
   "source": [
    "nums_list = [10, 12, 14, 16, 20]\n",
    "nums_array = np.array(nums_list)\n",
    "type(nums_array)\n"
   ]
  },
  {
   "cell_type": "markdown",
   "metadata": {},
   "source": [
    "## 也可以通过多个list创建一个2维数组"
   ]
  },
  {
   "cell_type": "code",
   "execution_count": 5,
   "metadata": {},
   "outputs": [
    {
     "data": {
      "text/plain": [
       "(3, 3)"
      ]
     },
     "execution_count": 5,
     "metadata": {},
     "output_type": "execute_result"
    }
   ],
   "source": [
    "row1 = [4, 9, 2]\n",
    "row2 = [3, 5, 7]\n",
    "row3 = [8, 1, 6]\n",
    "nums_2d = np.array([row1, row2, row3])\n",
    "nums_2d.shape\n"
   ]
  },
  {
   "cell_type": "markdown",
   "metadata": {},
   "source": [
    "### 使用arange()方法，可以创建一个包含整数范围的NumPy数组。 arange方法的第一个参数是下限，第二个参数是上限。 **下限包含在数组中，但不包括上限。** 创建一个整数1到10的NumPy数组。 也可以使用arange的第3个参数来指定步长。"
   ]
  },
  {
   "cell_type": "code",
   "execution_count": 6,
   "metadata": {},
   "outputs": [
    {
     "name": "stdout",
     "output_type": "stream",
     "text": [
      "[ 1  2  3  4  5  6  7  8  9 10]\n",
      "[1 3 5 7 9]\n"
     ]
    }
   ],
   "source": [
    "nums_arr = np.arange(1,11)\n",
    "print(nums_arr)\n",
    "nums_arr_step = np.arange(1,11,2)\n",
    "print(nums_arr_step)\n"
   ]
  },
  {
   "cell_type": "markdown",
   "metadata": {},
   "source": [
    "## 使用ones方法可以产生单位矩阵；zeros生成零矩阵；eye生成单位对角阵；random.rand() NumPy 函数可用于创建具有均匀分布的NumPy数组。"
   ]
  },
  {
   "cell_type": "code",
   "execution_count": 7,
   "metadata": {},
   "outputs": [
    {
     "name": "stdout",
     "output_type": "stream",
     "text": [
      "[[1. 1. 1. 1. 1. 1.]\n",
      " [1. 1. 1. 1. 1. 1.]\n",
      " [1. 1. 1. 1. 1. 1.]\n",
      " [1. 1. 1. 1. 1. 1.]]\n",
      "[[0. 0. 0.]\n",
      " [0. 0. 0.]]\n",
      "[[1. 0. 0.]\n",
      " [0. 1. 0.]\n",
      " [0. 0. 1.]]\n",
      "[[0.87659569 0.29575444 0.111787   0.69028349]\n",
      " [0.33548702 0.40430368 0.72900795 0.07599131]\n",
      " [0.27151216 0.72996738 0.04784023 0.40009131]]\n"
     ]
    }
   ],
   "source": [
    "ones_arr = np.ones((4,6))\n",
    "print(ones_arr)\n",
    "zeros_arr = np.zeros((2,3))\n",
    "print(zeros_arr)\n",
    "eyes_arr = np.eye(3)\n",
    "print(eyes_arr)\n",
    "rand_arr = np.random.rand(3,4)\n",
    "print(rand_arr)\n"
   ]
  },
  {
   "cell_type": "markdown",
   "metadata": {},
   "source": [
    "## 可以使用reshape()函数对NumPy数组进行重构。需要指出的是，重构数组中的行和列的乘积必须等于原始数组中的行和列的乘积。例如，在以下示例中，原始数组包含4行6列，即4 x 6 = 24。重构后的数组包含3行8列，即3 x 8 = 24。"
   ]
  },
  {
   "cell_type": "code",
   "execution_count": null,
   "metadata": {},
   "outputs": [],
   "source": [
    "rand_arr = np.random.rand(4,6)\n",
    "rand_arr = rand_arr.reshape(3,8)\n",
    "print(rand_arr)\n"
   ]
  },
  {
   "cell_type": "markdown",
   "metadata": {},
   "source": [
    "# NumPy数组可以被索引和切片。对数组进行切片意味着将数组分成多个部分。NumPy数组像普通列表一样被索引。NumPy 数组中的索引从0开始，以下脚本创建了一个包含前8个正整数的简单NumPy数组。"
   ]
  },
  {
   "cell_type": "code",
   "execution_count": null,
   "metadata": {},
   "outputs": [],
   "source": [
    "arr_slicing = np.arange(1,15)\n",
    "print(arr_slicing[1])\n",
    "print(arr_slicing[:9])\n",
    "print(arr_slicing[6:])\n",
    "print(arr_slicing[1:12:2])\n",
    "print(rand_arr[:2,:4])\n",
    "print(rand_arr[1:,2:])\n"
   ]
  },
  {
   "cell_type": "markdown",
   "metadata": {},
   "source": [
    "## 那么NumPy的数组和list有什么区别呢，如果list嵌套的化，看起来也是一个2为数组。list和NumPy的数组有一个重要的区别。对于初学者来说，NumPy 数组只能保存相同类型的对象(例如，所有数字)，而python列表可以保存混合类型的对象。如果尝试创建混合类型的数组："
   ]
  },
  {
   "cell_type": "code",
   "execution_count": null,
   "metadata": {},
   "outputs": [],
   "source": [
    "np.array([[1, 2, 3], [\"a\", \"b\", \"c\"]])"
   ]
  },
  {
   "cell_type": "markdown",
   "metadata": {},
   "source": [
    "### NumPy不会抛出错误。相反，类型被转换为互相匹配。在本例中，NumPy将每个元素转换为一个字符串。你在上面输出中看到的dtype='<U11'意味着这个数组只能存储长度最多为11个字节的Unicode字符串。一方面，数据类型的自动转换可以帮助我们，但它也可能是一个潜在的错误来源，如果数据类型并没有按照所期望的方式转变。因此，在初始化之前主动处理类型转换通常是一个更好的一个好主意，这样就可以确保数据类型存储在数组中时符合预期的期望。"
   ]
  },
  {
   "cell_type": "markdown",
   "metadata": {},
   "source": [
    "## NumPy数组提供了多种函数来执行算术运算。例如求平方根、对数、指数、三角函数等。"
   ]
  },
  {
   "cell_type": "code",
   "execution_count": null,
   "metadata": {},
   "outputs": [],
   "source": [
    "nums = [1,2,4,8,16]\n",
    "print(np.sqrt(nums))\n",
    "print(np.exp(nums))\n",
    "print(np.log(nums))\n",
    "print(np.sin(nums))\n"
   ]
  },
  {
   "cell_type": "markdown",
   "metadata": {},
   "source": [
    "### Numpy以快速有效的方式执行线性代数函数，线性代数在数据分析中使用广泛，而Numpy则成为数据科学中最常用的库之一。 求2个矩阵乘积："
   ]
  },
  {
   "cell_type": "code",
   "execution_count": null,
   "metadata": {},
   "outputs": [],
   "source": [
    "nums1 = np.array([[1,2,3],[11,14,13],[2,8,9]])\n",
    "nums2 = np.ones((3,3))\n",
    "print(np.dot(nums1,nums2))\n"
   ]
  },
  {
   "cell_type": "markdown",
   "metadata": {},
   "source": [
    "矩阵的哈达玛积(hadamard product)：两个相乘的矩阵维度一致，逐元素相乘（也叫矩阵点乘，element-wise product,entrywise product）:"
   ]
  },
  {
   "cell_type": "code",
   "execution_count": null,
   "metadata": {},
   "outputs": [],
   "source": [
    "print(np.multiply(nums1,nums1))"
   ]
  },
  {
   "cell_type": "markdown",
   "metadata": {},
   "source": [
    "## 常用的还有求逆矩阵、矩阵的行列式、矩阵的迹等"
   ]
  },
  {
   "cell_type": "code",
   "execution_count": null,
   "metadata": {},
   "outputs": [],
   "source": [
    "print(np.linalg.inv(nums1))\n",
    "print(np.linalg.det(nums1))\n",
    "print(np.trace(nums1))\n"
   ]
  }
 ],
 "metadata": {
  "kernelspec": {
   "display_name": "Python 3",
   "language": "python",
   "name": "python3"
  },
  "language_info": {
   "codemirror_mode": {
    "name": "ipython",
    "version": 3
   },
   "file_extension": ".py",
   "mimetype": "text/x-python",
   "name": "python",
   "nbconvert_exporter": "python",
   "pygments_lexer": "ipython3",
   "version": "3.11.4"
  }
 },
 "nbformat": 4,
 "nbformat_minor": 2
}
