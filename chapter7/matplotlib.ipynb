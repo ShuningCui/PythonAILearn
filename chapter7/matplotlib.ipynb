{
 "cells": [
  {
   "cell_type": "code",
   "execution_count": null,
   "metadata": {},
   "outputs": [],
   "source": [
    "from matplotlib import pyplot as plt\n",
    "plt.plot([1, 2, 3, 4, 5])\n",
    "plt.show()\n"
   ]
  },
  {
   "cell_type": "markdown",
   "metadata": {},
   "source": [
    "### plt.plot([1, 2, 3, 4, 5])创建了一条经过点(0,1)、(1,2)、(2,3)、(3,4)和(4,5)的直线。传递给plt.plot()函数的列表[1,2,3,4,5]表示图形中点的y值。由于没有指定任何x值，matplotlib自动使用列表元素的下标，因为Python从0开始计数，所以这些下标是0、1、2、3和4。创建的图形如图7-26："
   ]
  },
  {
   "cell_type": "markdown",
   "metadata": {},
   "source": [
    "### 一般情况下，如在通常的脚本中，plt.plot()创建了图形，但并不会显示出来。直到我们调用了plt.show()才会把图形显示出来。但是在vscode的jupyther中，并不需要plt.show()也会显示绘图结果，当然，加上也没什么影响。"
   ]
  },
  {
   "cell_type": "markdown",
   "metadata": {},
   "source": [
    "## 可以通过向plt.plot()函数传递两个列表来指定图形中各点的x值。当给plt.plot()提供两个参数时，第一个列表指定x值，第二个列表指定y值（图7-27）:"
   ]
  },
  {
   "cell_type": "code",
   "execution_count": null,
   "metadata": {},
   "outputs": [],
   "source": [
    "xs = [1, 2, 3, 4, 5]\n",
    "ys = [3, -1, 4, 0, 6]\n",
    "plt.plot(xs, ys)\n"
   ]
  },
  {
   "cell_type": "markdown",
   "metadata": {},
   "source": [
    "## 也可以在数据点上做出标记"
   ]
  },
  {
   "cell_type": "code",
   "execution_count": null,
   "metadata": {},
   "outputs": [],
   "source": [
    "plt.plot([2, 4, 6, 8, 10], \"g-o\")"
   ]
  },
  {
   "cell_type": "markdown",
   "metadata": {},
   "source": [
    "> ### 也可以使用其他的标记，只需要更换第2个参数如：”g-x”，”g-+”等。使用”g--\"可以画出一条虚线。更多的使用标记请参考matplotlib的官方网站：https://matplotlib.org/stable/"
   ]
  },
  {
   "cell_type": "markdown",
   "metadata": {},
   "source": [
    "## 要在一个窗口中画多个图形，可以这样做"
   ]
  },
  {
   "cell_type": "code",
   "execution_count": null,
   "metadata": {},
   "outputs": [],
   "source": [
    "xs = [0, 1, 2, 3, 4] \n",
    "y1 = [1, 3, 5, 7, 9] \n",
    "y2 = [0, 1, 4, 9, 16] \n",
    "plt.plot(xs, y1,\"g-o\", xs, y2,\"b-^\")\n"
   ]
  },
  {
   "cell_type": "markdown",
   "metadata": {},
   "source": [
    "## 也可以用plot分别绘制，然后用plot.show()显示"
   ]
  },
  {
   "cell_type": "code",
   "execution_count": null,
   "metadata": {},
   "outputs": [],
   "source": [
    "plt.plot(xs, y1, \"g-o\")\n",
    "plt.plot(xs, y2, \"b-^\")\n",
    "plt.show()\n"
   ]
  },
  {
   "cell_type": "markdown",
   "metadata": {},
   "source": [
    "### plot也可以和上一节讲述的numpy结合使用。当传递给plot一个一维数组时，会将这个数组的值按y值来绘出。如果传递给plot一个2维数组，则会将数组的所有列视为y值绘出"
   ]
  },
  {
   "cell_type": "code",
   "execution_count": null,
   "metadata": {},
   "outputs": [],
   "source": [
    "from matplotlib import pyplot as plt\n",
    "import numpy as np\n",
    "data = np.arange(1, 21).reshape(5, 4)\n",
    "plt.plot(data)\n"
   ]
  },
  {
   "cell_type": "markdown",
   "metadata": {},
   "source": [
    "### np.arange(1,21)产生了1到20的整数，随后被重新调整为一个5行4列的数组。因为有4列，所以画了4条直线。因为没有指定x轴数据，所以5个点的x轴数据默认从0到4。"
   ]
  },
  {
   "cell_type": "markdown",
   "metadata": {},
   "source": [
    "### 我们可以使用xlabel()函数来指定一个x轴的标记，以及ylabel()指定y轴的图标，title()指定图的图标，xticks()指定x轴的坐标间隔，以下是关于这几个函数的一个示例"
   ]
  },
  {
   "cell_type": "code",
   "execution_count": null,
   "metadata": {},
   "outputs": [],
   "source": [
    "x = np.arange(-10,10,0.1)\n",
    "y = np.sin(x)\n",
    "y2 = np.cos(x)\n",
    "plt.xticks(np.arange(-10,12,2))\n",
    "plt.xlabel(\"x\")\n",
    "plt.ylabel(\"y\")\n",
    "plt.title(\"sin(x) & cos(x)\")\n",
    "plt.plot(x,y,x,y2)\n",
    "plt.legend([\"sin\",\"cos\"])\n"
   ]
  },
  {
   "cell_type": "markdown",
   "metadata": {},
   "source": [
    "### xticks指定了x轴的间隔，xlabel、ylabel和title指定了x轴的名字，y轴的名字和图名，legend则用于显示图例"
   ]
  }
 ],
 "metadata": {
  "kernelspec": {
   "display_name": "Python 3",
   "language": "python",
   "name": "python3"
  },
  "language_info": {
   "codemirror_mode": {
    "name": "ipython",
    "version": 3
   },
   "file_extension": ".py",
   "mimetype": "text/x-python",
   "name": "python",
   "nbconvert_exporter": "python",
   "pygments_lexer": "ipython3",
   "version": "3.11.4"
  }
 },
 "nbformat": 4,
 "nbformat_minor": 2
}
