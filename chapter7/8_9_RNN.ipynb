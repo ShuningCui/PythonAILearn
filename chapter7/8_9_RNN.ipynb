{
 "cells": [
  {
   "cell_type": "code",
   "execution_count": 1,
   "metadata": {},
   "outputs": [],
   "source": [
    "import numpy as np\n",
    "import torch\n",
    "import torch.nn as nn\n",
    "import torch.optim as optim\n",
    "import matplotlib.pyplot as plt\n",
    "\n",
    "from torch.utils.data import DataLoader, TensorDataset\n",
    "from sklearn.model_selection import train_test_split"
   ]
  },
  {
   "cell_type": "code",
   "execution_count": null,
   "metadata": {},
   "outputs": [],
   "source": [
    "def generate_sine_wave_data(num_samples=100, noise=0.1):\n",
    "    \"\"\"\n",
    "    Generate sine wave data with noise.\n",
    "    \"\"\"\n",
    "    # 选择一个随机的起始点\n",
    "    start = np.random.uniform(0, 2 * np.pi)\n",
    "    # 生成均匀分布的x值\n",
    "    x = np.linspace(start, start + 2*np.pi, num_samples)\n",
    "    y = np.sin(x) + np.random.normal(0, noise, num_samples)\n",
    "    return x, y"
   ]
  },
  {
   "cell_type": "code",
   "execution_count": 3,
   "metadata": {},
   "outputs": [],
   "source": [
    "# 生成随机噪声序列\n",
    "def generate_random_noise(num_samples=100, noise=0.1):\n",
    "    \"\"\"\n",
    "    Generate random noise data.\n",
    "    \"\"\"\n",
    "    x = np.linspace(0, 2 * np.pi, num_samples)\n",
    "    y = np.random.normal(0, noise, num_samples)\n",
    "    return x, y"
   ]
  },
  {
   "cell_type": "code",
   "execution_count": 4,
   "metadata": {},
   "outputs": [],
   "source": [
    "# 生成数据\n",
    "def generate_sequences(n_samples_per_class, sequence_length):\n",
    "    \"\"\"\n",
    "    Generate sequences of sine waves and random noise.\n",
    "    \"\"\"\n",
    "    sequences_wave = [generate_sine_wave_data(sequence_length)[1] for _ in range(n_samples_per_class)]\n",
    "    sequences_noise = [generate_random_noise(sequence_length)[1] for _ in range(n_samples_per_class)]\n",
    "    sequences = np.array(sequences_wave + sequences_noise)\n",
    "    labels = np.array([0] * n_samples_per_class + [1] * n_samples_per_class)\n",
    "    return sequences, labels\n",
    "    \n",
    "# 数据处理\n",
    "n_samples_per_class = 1000\n",
    "sequence_length = 100\n",
    "sequences, labels = generate_sequences(n_samples_per_class, sequence_length)"
   ]
  },
  {
   "cell_type": "code",
   "execution_count": 5,
   "metadata": {},
   "outputs": [],
   "source": [
    "# 划分训练集和测试集\n",
    "X_train, X_test, y_train, y_test = train_test_split(sequences, labels, test_size=0.2)\n",
    "\n",
    "# 转换为PyTorch张量\n",
    "X_train = torch.tensor(X_train, dtype=torch.float32).unsqueeze(2)\n",
    "y_train = torch.tensor(y_train, dtype=torch.float32).reshape(-1, 1)\n",
    "X_test = torch.tensor(X_test, dtype=torch.float32).unsqueeze(2)\n",
    "y_test = torch.tensor(y_test, dtype=torch.float32).reshape(-1, 1)"
   ]
  },
  {
   "cell_type": "code",
   "execution_count": 6,
   "metadata": {},
   "outputs": [],
   "source": [
    "train_dataset = TensorDataset(X_train, y_train)\n",
    "train_loader = DataLoader(train_dataset, batch_size=32, shuffle=True)\n",
    "test_dataset = TensorDataset(X_test, y_test)\n",
    "test_loader = DataLoader(test_dataset, batch_size=32)"
   ]
  },
  {
   "cell_type": "code",
   "execution_count": 7,
   "metadata": {},
   "outputs": [],
   "source": [
    "# 构建RNN模型\n",
    "class SimpleRNN(nn.Module):\n",
    "    def __init__(self, input_size, hidden_size, num_classes):\n",
    "        super().__init__()\n",
    "        self.hidden_size = hidden_size\n",
    "        self.num_classes = num_classes\n",
    "        self.rnn = nn.RNN(input_size, hidden_size, batch_first=True)\n",
    "        self.fc = nn.Linear(hidden_size, num_classes)\n",
    "\n",
    "    def forward(self, x):\n",
    "        output, _ = self.rnn(x)\n",
    "        # output的形状是 (N, L, H)，其中N是批大小，L是序列长度，H是隐藏层大小    \n",
    "        # 输出序列的最后1项时 (N, 1, H)\n",
    "        last_output = output[:, -1]\n",
    "        # 分类器将输出 (N, 1, num_classes)\n",
    "        out = self.fc(last_output)\n",
    "        # 最后的输出是(N, num_classes)\n",
    "        return out.view(-1, self.num_classes)"
   ]
  },
  {
   "cell_type": "code",
   "execution_count": 8,
   "metadata": {},
   "outputs": [],
   "source": [
    "def mini_batch_train(data_loader,model,optimizer,loss_fn):\n",
    "    mini_batch_losses = []\n",
    "    for x_batch, y_batch in data_loader:\n",
    "        # 置为训练状态\n",
    "        model.train()\n",
    "        # Step 1 - 前向计算预测值\n",
    "        yhat = model(x_batch)\n",
    "        # Step 2 - 计算损失\n",
    "        mini_batch_loss = loss_fn(yhat, y_batch)\n",
    "        # Step 3 - 计算梯度\n",
    "        mini_batch_loss.backward()\n",
    "        # Step 4 - 参数更新\n",
    "        optimizer.step()\n",
    "        optimizer.zero_grad()\n",
    "\n",
    "        mini_batch_losses.append(mini_batch_loss.item())\n",
    "                  \n",
    "    loss = np.mean(mini_batch_losses)\n",
    "    return loss"
   ]
  },
  {
   "cell_type": "code",
   "execution_count": 9,
   "metadata": {},
   "outputs": [],
   "source": [
    "def mini_batch_val(data_loader,model,loss_fn):\n",
    "    mini_batch_losses = []\n",
    "    for x_batch, y_batch in data_loader:\n",
    "        # 置为验证状态\n",
    "        model.eval()\n",
    "        # Step 1 - 前向计算预测值\n",
    "        yhat = model(x_batch)\n",
    "        # Step 2 - 计算损失\n",
    "        mini_batch_loss = loss_fn(yhat, y_batch)\n",
    "        mini_batch_losses.append(mini_batch_loss.item())\n",
    "                  \n",
    "    loss = np.mean(mini_batch_losses)\n",
    "    return loss"
   ]
  },
  {
   "cell_type": "code",
   "execution_count": 10,
   "metadata": {},
   "outputs": [],
   "source": [
    "def train(model, train_loader, test_loader, loss_fn, optimizer, epochs):\n",
    "    # 指定随机数种子，可以再现数据\n",
    "    np.random.seed(23)\n",
    "    torch.manual_seed(23)\n",
    "\n",
    "    # 循环轮数计数\n",
    "    total_epochs = 0\n",
    "\n",
    "    losses = []  # 每轮训练的损失\n",
    "    val_losses = [] #  每轮验证数据的损失\n",
    "\n",
    "    for epoch in range(epochs):\n",
    "        model.train()\n",
    "        total_epochs += 1\n",
    "\n",
    "        # 进入mini-batch的内循环\n",
    "        loss = mini_batch_train(train_loader,model,optimizer,loss_fn)\n",
    "        losses.append(loss)\n",
    "\n",
    "        # 验证数据集（验证不需要计算梯度）\n",
    "        with torch.no_grad():\n",
    "            # 验证集的 mini_batch\n",
    "            val_loss = mini_batch_val(test_loader,model,loss_fn)\n",
    "            val_losses.append(val_loss)\n",
    "    \n",
    "    return losses, val_losses"
   ]
  },
  {
   "cell_type": "code",
   "execution_count": 11,
   "metadata": {},
   "outputs": [],
   "source": [
    "# 初始化模型、损失函数和优化器\n",
    "input_size = 1\n",
    "hidden_size = 32\n",
    "num_classes = 1\n",
    "epochs = 1000\n",
    "model = SimpleRNN(input_size, hidden_size, num_classes)\n",
    "loss_fn = nn.BCEWithLogitsLoss()\n",
    "optimizer = optim.Adam(model.parameters(), lr=0.001)\n",
    "train_loss, val_loss = train(model, train_loader, test_loader, loss_fn, optimizer, epochs)"
   ]
  },
  {
   "cell_type": "code",
   "execution_count": 14,
   "metadata": {},
   "outputs": [
    {
     "name": "stdout",
     "output_type": "stream",
     "text": [
      "Accuracy: 100.00%\n"
     ]
    }
   ],
   "source": [
    "with torch.inference_mode():\n",
    "    outputs = model(X_test)\n",
    "    predicted = torch.sigmoid(outputs).round()\n",
    "    # 计算准确率\n",
    "    accuracy = (predicted == y_test).float().mean()\n",
    "    print(f'Accuracy: {accuracy.item() * 100:.2f}%')"
   ]
  }
 ],
 "metadata": {
  "kernelspec": {
   "display_name": "GPUPyTorch",
   "language": "python",
   "name": "python3"
  },
  "language_info": {
   "codemirror_mode": {
    "name": "ipython",
    "version": 3
   },
   "file_extension": ".py",
   "mimetype": "text/x-python",
   "name": "python",
   "nbconvert_exporter": "python",
   "pygments_lexer": "ipython3",
   "version": "3.12.8"
  },
  "orig_nbformat": 4
 },
 "nbformat": 4,
 "nbformat_minor": 2
}
