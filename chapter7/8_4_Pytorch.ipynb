{
 "cells": [
  {
   "cell_type": "code",
   "execution_count": null,
   "metadata": {},
   "outputs": [],
   "source": [
    "import numpy as np\n",
    "import torch\n",
    "import torch.nn as nn\n",
    "import torch.optim as optim"
   ]
  },
  {
   "cell_type": "code",
   "execution_count": null,
   "metadata": {},
   "outputs": [],
   "source": [
    "true_b = -1\n",
    "true_k = 3\n",
    "N = 100\n",
    "# 数据生成\n",
    "np.random.seed(42)\n",
    "x = np.random.rand(N, 1)\n",
    "epsilon = (.1 * np.random.randn(N, 1))\n",
    "y = true_b + true_k * x + epsilon"
   ]
  },
  {
   "cell_type": "code",
   "execution_count": null,
   "metadata": {},
   "outputs": [],
   "source": [
    "# 索引乱序\n",
    "idx = np.arange(N)\n",
    "np.random.shuffle(idx)\n",
    "\n",
    "# 使用80个随机的数据用作训练\n",
    "train_idx = idx[:int(N*.8)]\n",
    "# 剩余的20个数据用作验证\n",
    "val_idx = idx[int(N*.8):]\n",
    "\n",
    "# 产生训练和验证数据集\n",
    "x_train, y_train = x[train_idx], y[train_idx]\n",
    "x_val, y_val = x[val_idx], y[val_idx]"
   ]
  },
  {
   "cell_type": "code",
   "execution_count": null,
   "metadata": {},
   "outputs": [],
   "source": [
    "# 转换为张量\n",
    "x_train_tensor = torch.as_tensor(x_train, dtype=torch.float32)\n",
    "y_train_tensor = torch.as_tensor(y_train, dtype=torch.float32)\n",
    "\n",
    "# 学习率\n",
    "lr = 0.1\n",
    "\n",
    "# 指定随机种子数方便比较\n",
    "torch.manual_seed(23)\n"
   ]
  },
  {
   "cell_type": "code",
   "execution_count": null,
   "metadata": {},
   "outputs": [],
   "source": [
    "# 定义模型\n",
    "class MyLinearRegression(nn.Module):\n",
    "    def __init__(self):\n",
    "        super().__init__()\n",
    "        self.linear = nn.Linear(1, 1)  # 输入和输出的维度都是1\n",
    "\n",
    "    def forward(self, x):\n",
    "        return self.linear(x)\n",
    "\n",
    "# 实例化模型\n",
    "model = MyLinearRegression()\n"
   ]
  },
  {
   "cell_type": "code",
   "execution_count": null,
   "metadata": {},
   "outputs": [],
   "source": [
    "# 定义一个SGD优化器来更新参数\n",
    "optimizer = torch.optim.SGD(model.parameters(), lr=lr)\n",
    "\n",
    "# 定义损失函数\n",
    "loss_fn = nn.MSELoss(reduction='mean')"
   ]
  },
  {
   "cell_type": "code",
   "execution_count": null,
   "metadata": {},
   "outputs": [],
   "source": [
    "# 训练\n",
    "# 定义训练轮数\n",
    "epochs = 1000\n",
    "\n",
    "for epoch in range(epochs):\n",
    "    # 将模型设置为训练模式\n",
    "    model.train()\n",
    "    # step 1 计算模型的预测值\n",
    "    yhat = model(x_train_tensor)\n",
    "\n",
    "    # step 2 计算损失\n",
    "    loss = loss_fn(yhat, y_train_tensor)\n",
    "    \n",
    "    # step 3 计算梯度\n",
    "    loss.backward()\n",
    "\n",
    "    # step 4 更新参数和清零梯度\n",
    "    optimizer.step()\n",
    "    optimizer.zero_grad()\n",
    "\n",
    "# 输出结果\n",
    "print(model.state_dict())"
   ]
  }
 ],
 "metadata": {
  "kernelspec": {
   "display_name": "GPUPyTorch",
   "language": "python",
   "name": "python3"
  },
  "language_info": {
   "codemirror_mode": {
    "name": "ipython",
    "version": 3
   },
   "file_extension": ".py",
   "mimetype": "text/x-python",
   "name": "python",
   "nbconvert_exporter": "python",
   "pygments_lexer": "ipython3",
   "version": "3.12.8"
  },
  "orig_nbformat": 4
 },
 "nbformat": 4,
 "nbformat_minor": 2
}
