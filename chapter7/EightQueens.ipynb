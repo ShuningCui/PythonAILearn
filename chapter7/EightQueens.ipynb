{
 "cells": [
  {
   "cell_type": "markdown",
   "metadata": {},
   "source": [
    "### Eight Queens\n",
    "> Using a genetic algorithm (GA) for optimizing the 8 Queen Puzzle. Starting from an initial state of the puzzle where some queens may be attacking each other, the goal is to evolve such a state using GA to find a state in which no 2 queens are attacking each other."
   ]
  },
  {
   "cell_type": "markdown",
   "metadata": {},
   "source": [
    "## Encoder\n",
    "<img src=\"./queens.png\" width=\"400\">"
   ]
  },
  {
   "cell_type": "markdown",
   "metadata": {},
   "source": [
    "# Example: 04752613"
   ]
  },
  {
   "cell_type": "code",
   "execution_count": 1,
   "metadata": {},
   "outputs": [],
   "source": [
    "# Initialize population\n",
    "import random\n",
    "\n",
    "\n",
    "def init_population(population_size=8, queen_size=8):\n",
    "    population = []\n",
    "    for i in range(population_size):\n",
    "        individual = [random.randint(0,7) for x in range(queen_size)]\n",
    "        population.append(individual)\n",
    "    return population\n"
   ]
  },
  {
   "cell_type": "code",
   "execution_count": 2,
   "metadata": {},
   "outputs": [],
   "source": [
    "# Fitness function\n",
    "def fitness(individual):\n",
    "    non_conflicts = 0\n",
    "    for i in range(len(individual)):\n",
    "        for j in range(i+1, len(individual)):\n",
    "            if individual[i] != individual[j]:\n",
    "                if abs(i-j) != abs(individual[i] - individual[j]):\n",
    "                    non_conflicts += 1\n",
    "    return non_conflicts\n",
    "    "
   ]
  },
  {
   "cell_type": "code",
   "execution_count": 3,
   "metadata": {},
   "outputs": [],
   "source": [
    "# 计算所有种群的适应度\n",
    "def fitness_all(population):\n",
    "    for i in range(len(population)):\n",
    "        population[i].append(fitness(population[i]))\n"
   ]
  },
  {
   "cell_type": "code",
   "execution_count": 4,
   "metadata": {},
   "outputs": [],
   "source": [
    "# 将适应度转换为概率\n",
    "\n",
    "def fitness_probability(population):\n",
    "    total = sum([x[-1] for x in population])\n",
    "    for i in range(len(population)):\n",
    "        population[i].append(population[i][-1]/total)\n"
   ]
  },
  {
   "cell_type": "code",
   "execution_count": 5,
   "metadata": {},
   "outputs": [],
   "source": [
    "# 选择下一代 next generation population\n",
    "import numpy as np\n",
    "\n",
    "\n",
    "def select_next_generation(population, population_size):\n",
    "    select_prob = [x[-1] for x in population]\n",
    "    selected_index = np.random.choice(range(len(population)), \n",
    "                    population_size, replace=False, p=select_prob)\n",
    "    next_generation = [population[i][:-2] for i in selected_index]\n",
    "    return next_generation\n"
   ]
  },
  {
   "cell_type": "markdown",
   "metadata": {},
   "source": [
    "## crossover\n",
    "<img src=\"./GA.png\" width=600>"
   ]
  },
  {
   "cell_type": "code",
   "execution_count": 6,
   "metadata": {},
   "outputs": [],
   "source": [
    "def crossover(individual1, individual2):\n",
    "    crossover_point = random.randint(1, len(individual1)-1)\n",
    "    return (individual1[:crossover_point] + individual2[crossover_point:],\n",
    "    individual2[:crossover_point] + individual1[crossover_point:])"
   ]
  },
  {
   "cell_type": "code",
   "execution_count": 7,
   "metadata": {},
   "outputs": [],
   "source": [
    "def crossover_all(population):\n",
    "    crossovered_population = []\n",
    "    for i in range(0, len(population), 2):\n",
    "        corssed1, crossed2 = crossover(population[i], population[i+1])\n",
    "        crossovered_population.extend([corssed1,crossed2])\n",
    "    return crossovered_population"
   ]
  },
  {
   "cell_type": "code",
   "execution_count": 8,
   "metadata": {},
   "outputs": [],
   "source": [
    "# mutation function\n",
    "def mutation(individual, mutation_rate=0.1):\n",
    "    if random.random() < mutation_rate:\n",
    "        mutate_point = random.randint(0, len(individual)-1)\n",
    "        individual[mutate_point] = random.randint(0, len(individual)-1)\n",
    "    return individual"
   ]
  },
  {
   "cell_type": "code",
   "execution_count": 9,
   "metadata": {},
   "outputs": [],
   "source": [
    "# mutation all\n",
    "def mutation_all(population, mutation_rate=0.1):\n",
    "    mutated_population = [mutation(x, mutation_rate) for x in population]\n",
    "    return mutated_population"
   ]
  },
  {
   "cell_type": "code",
   "execution_count": 10,
   "metadata": {},
   "outputs": [],
   "source": [
    "def output_board(individual):\n",
    "    for i in range(len(individual)):\n",
    "        print(\" \".join([\"Q\" if x == individual[i] else \"*\" \n",
    "                        for x in range(len(individual))]))"
   ]
  },
  {
   "cell_type": "code",
   "execution_count": 11,
   "metadata": {},
   "outputs": [
    {
     "name": "stdout",
     "output_type": "stream",
     "text": [
      "Find 2 target in 1 generations\n",
      "* * * Q * * * *\n",
      "* * * * * * Q *\n",
      "Q * * * * * * *\n",
      "* * * * * * * Q\n",
      "* * * * Q * * *\n",
      "* Q * * * * * *\n",
      "* * * * * Q * *\n",
      "* * Q * * * * *\n",
      "\n",
      "\n",
      "\n",
      "* * * Q * * * *\n",
      "* * * * * * * Q\n",
      "Q * * * * * * *\n",
      "* * * * Q * * *\n",
      "* * * * * * Q *\n",
      "* Q * * * * * *\n",
      "* * * * * Q * *\n",
      "* * Q * * * * *\n",
      "\n",
      "\n",
      "\n"
     ]
    }
   ],
   "source": [
    "# main\n",
    "# initialize population\n",
    "population_size = 100000\n",
    "queen_size = 8\n",
    "population = init_population(population_size, queen_size)\n",
    "\n",
    "num_generations = 1\n",
    "target = 28\n",
    "outs = []\n",
    "target_lists = []\n",
    "while True:\n",
    "    # calculate fitness\n",
    "    fitness_all(population)\n",
    "    target_lists = [x for x in population if x[-1] == target]\n",
    "    if len(target_lists) > 0:\n",
    "        break\n",
    "    # calculate probability\n",
    "    fitness_probability(population)\n",
    "    # select next generation\n",
    "    next_generation = select_next_generation(population, population_size//2)\n",
    "    # crossover\n",
    "    crossovered_population = crossover_all(next_generation)\n",
    "    random.shuffle(next_generation)\n",
    "    crossovered_population.extend(crossover_all(next_generation))\n",
    "    # mutation\n",
    "    population = mutation_all(crossovered_population)\n",
    "    num_generations += 1\n",
    "\n",
    "print(f\"Find {len(target_lists)} target in {num_generations} generations\")\n",
    "for target in target_lists:\n",
    "    # print(target)\n",
    "    output_board(target[:-1])\n",
    "    print(\"\\n\\n\")"
   ]
  }
 ],
 "metadata": {
  "kernelspec": {
   "display_name": "Python 3",
   "language": "python",
   "name": "python3"
  },
  "language_info": {
   "codemirror_mode": {
    "name": "ipython",
    "version": 3
   },
   "file_extension": ".py",
   "mimetype": "text/x-python",
   "name": "python",
   "nbconvert_exporter": "python",
   "pygments_lexer": "ipython3",
   "version": "3.11.4"
  }
 },
 "nbformat": 4,
 "nbformat_minor": 2
}
