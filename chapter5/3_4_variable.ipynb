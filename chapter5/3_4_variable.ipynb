{
 "cells": [
  {
   "cell_type": "markdown",
   "metadata": {},
   "source": [
    "# print函数\n",
    "### Python的<font color=\"purple\">**print()函数**</font>接受一些文本作为输入，然后将这些文本显示在屏幕上。\n",
    "### \"Hello, world\"是传递给print()的参数。**“Hello, world”<font color=\"purple\">必须使用引号**</font>，以便Python将其解释为文本，而不是其他内容。"
   ]
  },
  {
   "cell_type": "code",
   "execution_count": null,
   "metadata": {},
   "outputs": [],
   "source": [
    "print(\"Hello, world\")"
   ]
  },
  {
   "cell_type": "markdown",
   "metadata": {},
   "source": [
    "# 变量\n",
    "+ ### 在Python中变量是<font color=\"purple\">**可以赋值的标识符**</font>，并在整个代码中用于引用该值。\n",
    "+ ### 通常赋值操作符与变量一起使用。也就是说，我们使用称为赋值运算符的特殊符号“=”赋值给变量。\n",
    "+ ### 赋值操作符是运算符的一种，运算符是一个符号，如=或+，它对一个或多个值执行某种操作。"
   ]
  },
  {
   "cell_type": "code",
   "execution_count": 1,
   "metadata": {},
   "outputs": [
    {
     "name": "stdout",
     "output_type": "stream",
     "text": [
      "Hello World\n"
     ]
    }
   ],
   "source": [
    "string = \"Hello World\"\n",
    "print(string)"
   ]
  },
  {
   "cell_type": "markdown",
   "metadata": {},
   "source": [
    "+ ### **变量名是区分大小写的**，因此名为string的变量与名为String的变量是不同的"
   ]
  },
  {
   "cell_type": "code",
   "execution_count": 4,
   "metadata": {},
   "outputs": [
    {
     "name": "stdout",
     "output_type": "stream",
     "text": [
      "Hello World\n"
     ]
    }
   ],
   "source": [
    "string = \"Hello World\"\n",
    "print(string)"
   ]
  },
  {
   "cell_type": "markdown",
   "metadata": {},
   "source": [
    "## 变量命名规则\n",
    "### 变量名可以根据自己的喜好长短而定，但有一些规则必须遵守。变量名只能包含大小写字母(A-Z, A-Z)、数字(0-9)和下划线(_)。但是，变量名不能以数字开头。\n",
    "> ### Python变量名可以包含有效的Unicode字符。这意味着变量名可以包含来自非英语字母的字母，比如éand ü这样的装饰字母，也可以包括中文、日文和阿拉伯符号。然而，并不是每个系统都可以显示装饰字符或者中文、日文，所以如果你的代码要与许多不同地区的人共享，最好避免使用这些字符。"
   ]
  },
  {
   "cell_type": "markdown",
   "metadata": {},
   "source": [
    "## 好的变量名\n",
    "### **描述性的名字比简短的名字更好**。描述性变量名是必不可少的，特别是对于复杂的程序。通常，描述性名称需要使用多个单词。不要害怕使用冗长的变量名。"
   ]
  },
  {
   "cell_type": "code",
   "execution_count": null,
   "metadata": {},
   "outputs": [],
   "source": [
    "s = 3600\n",
    "Seconds = 3600\n",
    "Seconds_per_hour = 3600"
   ]
  },
  {
   "cell_type": "markdown",
   "metadata": {},
   "source": [
    "## Python变量命名规范\n",
    "### Camel\n",
    ">### 除了第一个字母，每个单词的第一个字母都是大写的，其他字母都是小写的。小写字母和大写字母并置，看起来就像骆驼上的驼峰。如numStudents和listOfNames\n",
    "### Snake\n",
    ">### 每个字母都是小写，每个单词之间用下划线分隔。比如num_students和list_of_names\n",
    "### PEP 8 广泛认为是官方风格指南"
   ]
  },
  {
   "cell_type": "markdown",
   "metadata": {},
   "source": [
    "## 检查变量的值"
   ]
  },
  {
   "cell_type": "code",
   "execution_count": 5,
   "metadata": {},
   "outputs": [
    {
     "data": {
      "text/plain": [
       "'Hello World'"
      ]
     },
     "execution_count": 5,
     "metadata": {},
     "output_type": "execute_result"
    }
   ],
   "source": [
    "string = \"Hello World\"\n",
    "string"
   ]
  },
  {
   "cell_type": "markdown",
   "metadata": {},
   "source": [
    "### 看到这个输出和print输出的区别了吗？<font color=\"purple\">**print输出的Hello  World周围没有任何单引号。**</font>\n",
    "+ ### 当你输入string并按回车键时，是在告诉Python检查变量string。显示的输出是赋给变量的值的表示。在这个例子中，string被赋值字符串“Hello, world”，因此输出被单引号包围，**表明string是字符串**。\n",
    "+ ### 另一方面，当执行print()输出一个变量时，**Python会以更可读的方式显示该变量的值**。\n",
    "+ ### 有时，打印变量和检查变量的输出是相同的，如输出是数字的时候。而大多数时候，**检查变量会比print()提供更多有用的信息**。"
   ]
  },
  {
   "cell_type": "code",
   "execution_count": 6,
   "metadata": {},
   "outputs": [
    {
     "name": "stdout",
     "output_type": "stream",
     "text": [
      "2\n",
      "2\n"
     ]
    },
    {
     "data": {
      "text/plain": [
       "(2, '2')"
      ]
     },
     "execution_count": 6,
     "metadata": {},
     "output_type": "execute_result"
    }
   ],
   "source": [
    "x = 2\n",
    "y = \"2\"\n",
    "print(x)\n",
    "print(y)\n",
    "x,y\n"
   ]
  },
  {
   "cell_type": "markdown",
   "metadata": {},
   "source": [
    "# 注释\n",
    "### 编写注释最常见的方式是在代码中以#字符开始新一行。代码运行时，任何以#开头的行都会被忽略。以新行开始的注释称为**块注释**。也可以写**行内注释**，即与某些代码出现在同一行的注释。只需要在代码行的末尾加上一个#，后面跟着注释中的文字即可。"
   ]
  },
  {
   "cell_type": "code",
   "execution_count": null,
   "metadata": {},
   "outputs": [],
   "source": [
    "# This is a block comment. 块注释\n",
    "string = \"Hello World.\"\n",
    "print(string)   # This is an in-line comment. 行内注释"
   ]
  },
  {
   "cell_type": "markdown",
   "metadata": {},
   "source": [
    "## 多行注释\n",
    ">### 一般来说，保持注释尽可能短是一个好主意，但有时需要写的内容超过了单行的大小。在这种情况下，可以在同样以#符号开头的新行上继续注释\n",
    ">### 根据PEP8，注释应该总是以**完整句子的形式写在#后面**。#和第一个字之间有**一个空格**。对于内联注释，PEP8建议代码和#符号之间**至少有两个空格**。一般来说，PEP8建议少使用注释。只有当注释为代码增加价值时，才使用注释，因为注释可以让你更容易理解为什么某些事情是用某种方式完成的。**描述某事做什么的注释通常可以通过使用更具描述性的变量名来完成**。"
   ]
  },
  {
   "cell_type": "code",
   "execution_count": null,
   "metadata": {},
   "outputs": [],
   "source": [
    "# 这是我的第一个程序\n",
    "# 他输出短语，你好，世界\n",
    "# 这注释比脚本都长\n",
    "string = \"Hello World.\"\n",
    "print(string)"
   ]
  },
  {
   "cell_type": "markdown",
   "metadata": {},
   "source": [
    "# 字符串\n",
    "### 字符串是Python的基本**数据类型**之一。数据类型这个术语指的是一个值代表的数据**属于哪种类型**。一般编程语言都提供了一些基本的**内置类型**。字符串用来表示**文本**。"
   ]
  },
  {
   "cell_type": "markdown",
   "metadata": {},
   "source": [
    ">### 字符串是一种基本的数据类型，它们不能被分解成不同类型的更小的值。并不是所有的数据类型都是基本的。复合数据类型可以分解成更小的类型。 \n",
    ">### 字符串数据类型在Python中有一个特殊的缩写名称**str**。可以使用**type()函数**来查看这一点，该函数用于确定给定值的数据类型。"
   ]
  },
  {
   "cell_type": "code",
   "execution_count": 8,
   "metadata": {},
   "outputs": [
    {
     "data": {
      "text/plain": [
       "str"
      ]
     },
     "execution_count": 8,
     "metadata": {},
     "output_type": "execute_result"
    }
   ],
   "source": [
    "type(\"Hello, World\")\n",
    "\n",
    "string = \"Hello World\"\n",
    "type(string)"
   ]
  },
  {
   "cell_type": "code",
   "execution_count": 10,
   "metadata": {},
   "outputs": [
    {
     "data": {
      "text/plain": [
       "float"
      ]
     },
     "execution_count": 10,
     "metadata": {},
     "output_type": "execute_result"
    }
   ],
   "source": [
    "x=89.0\n",
    "type(x)"
   ]
  },
  {
   "cell_type": "markdown",
   "metadata": {},
   "source": [
    "## 字符串常量\n",
    "### 可以通过用引号包围一些文本来创建一个字符串。<font color=\"purple\">**无论是单引号(string1)还是双引号(string2)**</font>都可以用来创建字符串，只要两个引号的类型相同。"
   ]
  },
  {
   "cell_type": "code",
   "execution_count": null,
   "metadata": {},
   "outputs": [],
   "source": [
    "string1 = \"Hello World\"\n",
    "string2 = '1234'"
   ]
  },
  {
   "cell_type": "markdown",
   "metadata": {},
   "source": [
    ">### 通过用引号包围文本来创建字符串时，这个字符串就被称为**字符串常量**。字符串常量的名称表明这个字符串是在你的代码中写出来的。然而并非所有的字符串都是常量值，例如从键盘输入的字符串就不是一个常量。包围字符串的引号称为**分隔符(delimiter)**，它们告诉Python字符串从哪里开始和在哪里结束。当一种类型的引号用作分隔符时，另一种类型的引号可以在字符串内部使用"
   ]
  },
  {
   "cell_type": "code",
   "execution_count": 11,
   "metadata": {},
   "outputs": [],
   "source": [
    "string3 = \"We're #1!\"\n",
    "string4 = 'I said, \"Put it over by the llama.\"'"
   ]
  },
  {
   "cell_type": "markdown",
   "metadata": {},
   "source": [
    "## 确定字符串的长度\n",
    "### 字符串中包含的**字符数(包括空格)称为字符串长度**。例如，字符串“abc”的长度是3，字符串“Don’t Panic”的长度是11要确定字符串的长度，可以使用Python内置的**len()函数**"
   ]
  },
  {
   "cell_type": "code",
   "execution_count": 12,
   "metadata": {},
   "outputs": [
    {
     "data": {
      "text/plain": [
       "3"
      ]
     },
     "execution_count": 12,
     "metadata": {},
     "output_type": "execute_result"
    }
   ],
   "source": [
    "len(\"abc\")"
   ]
  },
  {
   "cell_type": "markdown",
   "metadata": {},
   "source": []
  },
  {
   "cell_type": "markdown",
   "metadata": {},
   "source": []
  },
  {
   "cell_type": "code",
   "execution_count": 14,
   "metadata": {},
   "outputs": [
    {
     "data": {
      "text/plain": [
       "5"
      ]
     },
     "execution_count": 14,
     "metadata": {},
     "output_type": "execute_result"
    }
   ],
   "source": [
    "letters = \"Happy\"\n",
    "num_letters = len(letters)\n",
    "num_letters"
   ]
  },
  {
   "cell_type": "markdown",
   "metadata": {},
   "source": [
    "## 多行字符串\n",
    "### PEP8风格指南建议每行Python代码包含不超过79个字符（包括空格）。要处理长字符串，可以跨多行将字符串分解为多行字符串。\n",
    "+ ### 将字符串分成多行，并在除最后一行之外的所有行末尾放一个反斜杠( \\\\ )。要符合PEP8，包括反斜杠在内的行总长度必须小于等于79个字符。\n",
    "+ ### 使用三引号（单引号或者双引号）作为分隔符"
   ]
  },
  {
   "cell_type": "code",
   "execution_count": null,
   "metadata": {},
   "outputs": [],
   "source": [
    "paragraph = \"广大青年要坚定不移听党话、跟党走，怀抱梦想又脚踏实地，\\\n",
    "敢想敢为又善作善成，立志做有理想、敢担当、能吃苦、\\\n",
    "肯奋斗的新时代好青年，让青春在全面建设社会主义现代化\\\n",
    "国家的火热实践中绽放绚丽之花。\""
   ]
  },
  {
   "cell_type": "code",
   "execution_count": null,
   "metadata": {},
   "outputs": [],
   "source": [
    "paragraph = '''广大青年要坚定不移听党话、跟党走，怀抱梦想又脚踏实地，\n",
    "敢想敢为又善作善成，立志做有理想、敢担当、能吃苦、\n",
    "肯奋斗的新时代好青年，让青春在全面建设社会主义现代化国家的火热实践中绽放绚丽之花。'''"
   ]
  },
  {
   "cell_type": "markdown",
   "metadata": {},
   "source": [
    "## 字符串连接\n",
    "### 两个字符串可以使用+操作符进行组合或连接"
   ]
  },
  {
   "cell_type": "code",
   "execution_count": 15,
   "metadata": {},
   "outputs": [
    {
     "data": {
      "text/plain": [
       "'abc123'"
      ]
     },
     "execution_count": 15,
     "metadata": {},
     "output_type": "execute_result"
    }
   ],
   "source": [
    "str1 = \"abc\"\n",
    "str2 = \"123\"\n",
    "str3 = str1+str2\n",
    "str3"
   ]
  },
  {
   "cell_type": "markdown",
   "metadata": {},
   "source": [
    "## 字符串索引\n",
    "### 可以通过输入数字来访问第n个位置的字符。字符串中的每个字符都有一个位置编号，称为**索引**。第N个位置的索引紧跟在字符串后面的两个方括号[ ]之间\n",
    ">### 注意在Python和大多数其他编程语言中，**计数总是从0开始**。所以位置1得到的是第2个字符，要获取字符串开头的字符，你需要访问位置0的字符。<font color=\"red\">**如果访问的位置超出了界限 Python将引发IndexError。</font> 字符串中最大的索引总是比字符串的长度小1**。"
   ]
  },
  {
   "cell_type": "code",
   "execution_count": 11,
   "metadata": {},
   "outputs": [
    {
     "data": {
      "text/plain": [
       "'g'"
      ]
     },
     "execution_count": 11,
     "metadata": {},
     "output_type": "execute_result"
    }
   ],
   "source": [
    "my_name = \"CuiShuning\"\n",
    "my_name[9]"
   ]
  },
  {
   "cell_type": "code",
   "execution_count": 12,
   "metadata": {},
   "outputs": [
    {
     "data": {
      "text/plain": [
       "10"
      ]
     },
     "execution_count": 12,
     "metadata": {},
     "output_type": "execute_result"
    }
   ],
   "source": [
    "len(my_name)"
   ]
  },
  {
   "cell_type": "markdown",
   "metadata": {},
   "source": [
    "### 字符串也支持负索引，字符字符串中最后一个字符的索引是-1，对于“CuiShuning”来说是字母g，倒数第二个字符i的索引是-2，以此类推"
   ]
  },
  {
   "cell_type": "code",
   "execution_count": 13,
   "metadata": {},
   "outputs": [
    {
     "data": {
      "text/plain": [
       "'n'"
      ]
     },
     "execution_count": 13,
     "metadata": {},
     "output_type": "execute_result"
    }
   ],
   "source": [
    "my_name[-2]"
   ]
  },
  {
   "cell_type": "markdown",
   "metadata": {},
   "source": [
    "## 字符串分割\n",
    "### 可以通过在方括号内的两个索引数之间插入冒号来提取字符串的一部分，称为子字符串\n",
    ">### my_name[0:3]返回字符串的前3个字符，从索引0的字符开始，一直到索引3 **（<font color=\"red\">注意不包括索引3的字符！</font>）**。字符串切片可能会令人困惑，因为切片返回的子字符串包含下标为第一个数字的字符，但不包含下标为第二个数字的字符。"
   ]
  },
  {
   "cell_type": "code",
   "execution_count": 14,
   "metadata": {},
   "outputs": [
    {
     "data": {
      "text/plain": [
       "'Cui'"
      ]
     },
     "execution_count": 14,
     "metadata": {},
     "output_type": "execute_result"
    }
   ],
   "source": [
    "my_name = \"CuiShuning\"\n",
    "my_name[0:3]"
   ]
  },
  {
   "cell_type": "markdown",
   "metadata": {},
   "source": [
    "+ ### 如果开始的索引是0，则0可以省略\n",
    "+ ### 如果省略了切片中的第二个下标，Python假定程序返回子字符串以指定的索引开始，以最后一个字符结束\n",
    "+ ### 如果在切片中同时省略了第一个和第二个数字，就会得到一个以索引为0的字符开始，以最后一个字符结束的字符串。换句话说，在切片中省略这两个数字将返回整个字符串。\n",
    ">### 需要注意的是，与字符串索引不同，试图在边界之前或之后进行切片时，Python**不会**引发IndexError 。任何不存在的索引都会被忽略，并**返回整个字符串**。试图得到一个整个范围都超出界限的切片时将**返回空字符串\"\"**，而不是抛出一个错误。\n",
    ">### 我们可以在切片中**使用负数**。负数切片的规则与正数切片的规则完全相同"
   ]
  },
  {
   "cell_type": "code",
   "execution_count": 15,
   "metadata": {},
   "outputs": [
    {
     "data": {
      "text/plain": [
       "'Cui'"
      ]
     },
     "execution_count": 15,
     "metadata": {},
     "output_type": "execute_result"
    }
   ],
   "source": [
    "my_name[:3]"
   ]
  },
  {
   "cell_type": "code",
   "execution_count": 16,
   "metadata": {},
   "outputs": [
    {
     "data": {
      "text/plain": [
       "'ning'"
      ]
     },
     "execution_count": 16,
     "metadata": {},
     "output_type": "execute_result"
    }
   ],
   "source": [
    "my_name[6:]"
   ]
  },
  {
   "cell_type": "code",
   "execution_count": 17,
   "metadata": {},
   "outputs": [
    {
     "data": {
      "text/plain": [
       "'CuiShuning'"
      ]
     },
     "execution_count": 17,
     "metadata": {},
     "output_type": "execute_result"
    }
   ],
   "source": [
    "my_name[:]"
   ]
  },
  {
   "cell_type": "code",
   "execution_count": 18,
   "metadata": {},
   "outputs": [
    {
     "data": {
      "text/plain": [
       "'CuiShuning'"
      ]
     },
     "execution_count": 18,
     "metadata": {},
     "output_type": "execute_result"
    }
   ],
   "source": [
    "my_name[0:20]"
   ]
  },
  {
   "cell_type": "code",
   "execution_count": 19,
   "metadata": {},
   "outputs": [
    {
     "data": {
      "text/plain": [
       "''"
      ]
     },
     "execution_count": 19,
     "metadata": {},
     "output_type": "execute_result"
    }
   ],
   "source": [
    "my_name[-3:1]"
   ]
  },
  {
   "cell_type": "code",
   "execution_count": 20,
   "metadata": {},
   "outputs": [
    {
     "data": {
      "text/plain": [
       "'ning'"
      ]
     },
     "execution_count": 20,
     "metadata": {},
     "output_type": "execute_result"
    }
   ],
   "source": [
    "my_name[-4:]"
   ]
  },
  {
   "cell_type": "markdown",
   "metadata": {},
   "source": [
    "## 用方法操作字符串\n",
    "### 字符串附带了一些特殊的函数，称为字符串方法，可以用来处理和操作字符串。可用的字符串方法有很多，但我们将重点介绍一些最常用的方法"
   ]
  },
  {
   "cell_type": "markdown",
   "metadata": {},
   "source": [
    "### 要将字符串全部转换为小写字母，可以使用字符串的**lower()方法**\n",
    ">### 和lower()函数相反的是**upper()函数**，将所有的字母转为大写。\n",
    ">### 注意区分lower()、upper()函数和len()的区别。len()函数是一个**独立的内置函数**。如果你想确定字符串的长度，可以直接调用len()函数。"
   ]
  },
  {
   "cell_type": "code",
   "execution_count": 21,
   "metadata": {},
   "outputs": [
    {
     "data": {
      "text/plain": [
       "'international'"
      ]
     },
     "execution_count": 21,
     "metadata": {},
     "output_type": "execute_result"
    }
   ],
   "source": [
    "\"INterNational\".lower()"
   ]
  },
  {
   "cell_type": "code",
   "execution_count": 22,
   "metadata": {},
   "outputs": [
    {
     "data": {
      "text/plain": [
       "'cuishuning'"
      ]
     },
     "execution_count": 22,
     "metadata": {},
     "output_type": "execute_result"
    }
   ],
   "source": [
    "my_name = \"CuiShuning\"\n",
    "my_name.lower()"
   ]
  },
  {
   "cell_type": "code",
   "execution_count": 23,
   "metadata": {},
   "outputs": [
    {
     "data": {
      "text/plain": [
       "'CUISHUNING'"
      ]
     },
     "execution_count": 23,
     "metadata": {},
     "output_type": "execute_result"
    }
   ],
   "source": [
    "my_name.upper()"
   ]
  },
  {
   "cell_type": "markdown",
   "metadata": {},
   "source": [
    "## 删除字符串中的空格\n",
    "### 有三种字符串方法可以用来删除字符串中的空白字符:\n",
    "### 1. rstrip()\n",
    "### 2. lstrip () \n",
    "### 3. strip()\n",
    ">### rstrip()删除字符串右侧的空格，lstrip()删除字符串左侧的空格，要同时删除字符串左右两边的空白，可以使用strip()。rstrip()、lstrip()和strip()都<font color=\"red\">**不会删除字符串中间的空白**。</font>"
   ]
  },
  {
   "cell_type": "code",
   "execution_count": 24,
   "metadata": {},
   "outputs": [
    {
     "data": {
      "text/plain": [
       "'This is a string with a lot of spaces.'"
      ]
     },
     "execution_count": 24,
     "metadata": {},
     "output_type": "execute_result"
    }
   ],
   "source": [
    "string = \"   This is a string with a lot of spaces.    \"\n",
    "string.strip()"
   ]
  },
  {
   "cell_type": "code",
   "execution_count": 25,
   "metadata": {},
   "outputs": [
    {
     "data": {
      "text/plain": [
       "'   This is a string with a lot of spaces.'"
      ]
     },
     "execution_count": 25,
     "metadata": {},
     "output_type": "execute_result"
    }
   ],
   "source": [
    "string.rstrip()"
   ]
  },
  {
   "cell_type": "code",
   "execution_count": 26,
   "metadata": {},
   "outputs": [
    {
     "data": {
      "text/plain": [
       "'This is a string with a lot of spaces.    '"
      ]
     },
     "execution_count": 26,
     "metadata": {},
     "output_type": "execute_result"
    }
   ],
   "source": [
    "string.lstrip()"
   ]
  },
  {
   "cell_type": "markdown",
   "metadata": {},
   "source": [
    "## 确定一个字符串是否以一个特定的字符串开始或结束\n",
    "### 处理文本时，有时需要确定一个给定的字符串是以某些字符开始还是以某些字符结束。可以使用这两个字符串方法来解决这个问题：startswith()和endswith()\n",
    ">### 注意startswith()函数是<font color=\"purple\">**区分大小写**</font>的。endswith()用于确定字符串是否以某个字符串结尾就像startswith()一样endswith()方法也是区分大小写的。"
   ]
  },
  {
   "cell_type": "code",
   "execution_count": 28,
   "metadata": {},
   "outputs": [
    {
     "data": {
      "text/plain": [
       "False"
      ]
     },
     "execution_count": 28,
     "metadata": {},
     "output_type": "execute_result"
    }
   ],
   "source": [
    "string = \"Enterpris\"\n",
    "string.startswith(\"en\")"
   ]
  },
  {
   "cell_type": "code",
   "execution_count": 29,
   "metadata": {},
   "outputs": [
    {
     "data": {
      "text/plain": [
       "True"
      ]
     },
     "execution_count": 29,
     "metadata": {},
     "output_type": "execute_result"
    }
   ],
   "source": [
    "string.upper().startswith(\"EN\")"
   ]
  },
  {
   "cell_type": "markdown",
   "metadata": {},
   "source": [
    "## 字符串方法和不变性\n",
    "### 字符串是<font color=\"red\">**不可变的。**</font>它们一旦创建就**不能更改**。大多数修改字符串的方法，比如upper()和lower()，实际上返回的是经过适当修改的**原始字符串的副本**."
   ]
  },
  {
   "cell_type": "code",
   "execution_count": 30,
   "metadata": {},
   "outputs": [
    {
     "data": {
      "text/plain": [
       "'ABCD'"
      ]
     },
     "execution_count": 30,
     "metadata": {},
     "output_type": "execute_result"
    }
   ],
   "source": [
    "string = \"abcd\"\n",
    "string.upper()"
   ]
  },
  {
   "cell_type": "code",
   "execution_count": 31,
   "metadata": {},
   "outputs": [
    {
     "data": {
      "text/plain": [
       "'abcd'"
      ]
     },
     "execution_count": 31,
     "metadata": {},
     "output_type": "execute_result"
    }
   ],
   "source": [
    "string"
   ]
  },
  {
   "cell_type": "code",
   "execution_count": 32,
   "metadata": {},
   "outputs": [
    {
     "data": {
      "text/plain": [
       "'ABCD'"
      ]
     },
     "execution_count": 32,
     "metadata": {},
     "output_type": "execute_result"
    }
   ],
   "source": [
    "string = \"abcd\"\n",
    "string = string.upper()\n",
    "string\n"
   ]
  },
  {
   "cell_type": "markdown",
   "metadata": {},
   "source": [
    "# 与用户输入进行交互\n",
    "## input()函数"
   ]
  },
  {
   "cell_type": "code",
   "execution_count": null,
   "metadata": {},
   "outputs": [],
   "source": [
    "input()"
   ]
  },
  {
   "cell_type": "markdown",
   "metadata": {},
   "source": [
    ">### 为了让input()对用户更友好一些，可以给它一个提示，在输入的时候显示这个提示。提示只是一个字符串，放在input()的括号中。提示字符串可以是任何东西:一个单词、一个符号、一个短语，任何有效的Python字符串。"
   ]
  },
  {
   "cell_type": "code",
   "execution_count": 33,
   "metadata": {},
   "outputs": [
    {
     "name": "stdout",
     "output_type": "stream",
     "text": [
      "you said: nothing\n"
     ]
    }
   ],
   "source": [
    "prompt = \"Hey, What's up?\"\n",
    "user_input = input(prompt)\n",
    "print(\"you said:\",user_input)"
   ]
  },
  {
   "cell_type": "markdown",
   "metadata": {},
   "source": [
    "## 处理字符串和数字\n",
    "### 使用input()函数得到用户输入时，结果总是**一个字符串**。有时输入以字符串的形式提供给程序。有时，这些字符串包含需要进行计算的数字。已经看到string对象可以保存多种类型的字符，包括数字。但是，**不要把字符串中的数字和实际的数字混淆**。"
   ]
  },
  {
   "cell_type": "code",
   "execution_count": 34,
   "metadata": {},
   "outputs": [
    {
     "data": {
      "text/plain": [
       "'22'"
      ]
     },
     "execution_count": 34,
     "metadata": {},
     "output_type": "execute_result"
    }
   ],
   "source": [
    "num = \"2\"\n",
    "num+num"
   ]
  },
  {
   "cell_type": "markdown",
   "metadata": {},
   "source": [
    ">### 运算符+将两个字符串连接在一起。所以，“2”+“2”的结果是“22”，而不是“4”。 字符串可以与一个数字“相乘”，只要<font color=\"purple\">**这个数字是一个整数.**</font>"
   ]
  },
  {
   "cell_type": "code",
   "execution_count": 35,
   "metadata": {},
   "outputs": [
    {
     "data": {
      "text/plain": [
       "'121212'"
      ]
     },
     "execution_count": 35,
     "metadata": {},
     "output_type": "execute_result"
    }
   ],
   "source": [
    "num = \"12\"\n",
    "num*3"
   ]
  },
  {
   "cell_type": "markdown",
   "metadata": {},
   "source": [
    "### 要对包含在字符串中的数字执行算术运算，必须首先将它们<font color=\"purple\">**从字符串类型转换为数字类型。**</font>有两个方法可以做到这一点：**int()和float()。** int()表示转换为整数，而float()表示将对象转换为为带有小数点的实数。 "
   ]
  },
  {
   "cell_type": "code",
   "execution_count": 37,
   "metadata": {},
   "outputs": [
    {
     "name": "stdout",
     "output_type": "stream",
     "text": [
      "double num is 123123\n"
     ]
    }
   ],
   "source": [
    "num=input(\"pls input a number\")\n",
    "num=num*2\n",
    "print(\"double num is\", num)"
   ]
  },
  {
   "cell_type": "code",
   "execution_count": 38,
   "metadata": {},
   "outputs": [
    {
     "name": "stdout",
     "output_type": "stream",
     "text": [
      "46.4\n"
     ]
    }
   ],
   "source": [
    "num = input(\"输入一个要加倍的数字:\")\n",
    "doubled_num = float(num) * 2\n",
    "print(doubled_num)  "
   ]
  },
  {
   "cell_type": "markdown",
   "metadata": {},
   "source": [
    "### 使用 **str()** 将数字转换为字符串。在使用str()时，并不局限于数字。可以向它传递各种对象来获得它们的字符串表示"
   ]
  },
  {
   "cell_type": "code",
   "execution_count": 39,
   "metadata": {},
   "outputs": [
    {
     "data": {
      "text/plain": [
       "'Only 2 cakes left'"
      ]
     },
     "execution_count": 39,
     "metadata": {},
     "output_type": "execute_result"
    }
   ],
   "source": [
    "total_cakes = 10\n",
    "cakes_eaten = 8\n",
    "\"Only \"+ str(total_cakes-cakes_eaten) +\" cakes left\""
   ]
  },
  {
   "cell_type": "markdown",
   "metadata": {},
   "source": [
    "## 格式化输出\n",
    "### 假设有一个字符串name =“法相”和两个整数，head = 3，arm = 6。希望在下面一行中显示它们: 法相有3个头和6个手臂。这被称为字符串插值，表示想在字符串的特定位置插入一些变量。"
   ]
  },
  {
   "cell_type": "code",
   "execution_count": 40,
   "metadata": {},
   "outputs": [
    {
     "name": "stdout",
     "output_type": "stream",
     "text": [
      "法相 有 3 个头和 6 个手臂。\n"
     ]
    }
   ],
   "source": [
    "name = \"法相\"\n",
    "heads = 3\n",
    "arms = 6\n",
    "print(name, \"有\", str(heads), \"个头和\", str(arms), \"个手臂。\")"
   ]
  },
  {
   "cell_type": "code",
   "execution_count": 41,
   "metadata": {},
   "outputs": [
    {
     "name": "stdout",
     "output_type": "stream",
     "text": [
      "法相有3个头和6个手臂。\n"
     ]
    }
   ],
   "source": [
    "print(name + \"有\" + str(heads) + \"个头和\" + str(arms) + \"个手臂。\")"
   ]
  },
  {
   "cell_type": "markdown",
   "metadata": {},
   "source": [
    "## **f** 字符串\n",
    ">### 在字符串的引号之前有一个字符f。\n",
    ">### 不用str()，用大括号括起来的变量名({ })替换成对应的值。\n",
    ">### 也可以在大括号之间插入Python表达式。这些表达式会被替换为它们在字符串中的结果。"
   ]
  },
  {
   "cell_type": "code",
   "execution_count": 42,
   "metadata": {},
   "outputs": [
    {
     "name": "stdout",
     "output_type": "stream",
     "text": [
      "法相有3个头和6个手臂。\n"
     ]
    }
   ],
   "source": [
    "print(f\"{name}有{heads}个头和{arms}个手臂。\")"
   ]
  },
  {
   "cell_type": "markdown",
   "metadata": {},
   "source": [
    "## find()和Replace()\n",
    "+ ### 最有用的字符串方法之一就是find()。顾名思义，可以使用这个方法找到一个字符串在另一个字符串中的位置，通常称为子字符串。要使用find()，可以把需要查找的字符串放在变量或字符串常量中，并传递给find()想要查找的字符串\n",
    "+ ### find()返回的值是传递给它的字符串<font color=\"purple\">**第一次**</font>出现的索引。如果find()没有找到所需的子字符串，它将返回 **-1**。 这种匹配是<font color=\"red\">**精确地逐字符进行的，并且区分大小写。**</font>\n",
    "+ ### find()方法,<font color=\"red\">**只返回第一次**</font>出现的索引，从字符串的开头开始。\n",
    "+ ### find()方法只接受一个字符串作为输入。如果想在一个字符串中找一个整数，需要将这个**整数作为字符串**传递给find()。\n",
    "+ ### 字符串对象有一个replace()方法，可以将子字符串的每个实例替换为另一个字符串 "
   ]
  },
  {
   "cell_type": "code",
   "execution_count": 43,
   "metadata": {},
   "outputs": [
    {
     "data": {
      "text/plain": [
       "4"
      ]
     },
     "execution_count": 43,
     "metadata": {},
     "output_type": "execute_result"
    }
   ],
   "source": [
    "string = \"西安交通大学位于西安市\"\n",
    "string.find(\"大学\", 4, -1)"
   ]
  },
  {
   "cell_type": "code",
   "execution_count": 44,
   "metadata": {},
   "outputs": [
    {
     "data": {
      "text/plain": [
       "0"
      ]
     },
     "execution_count": 44,
     "metadata": {},
     "output_type": "execute_result"
    }
   ],
   "source": [
    "string.find(\"西安\")"
   ]
  },
  {
   "cell_type": "code",
   "execution_count": 45,
   "metadata": {},
   "outputs": [
    {
     "data": {
      "text/plain": [
       "'北京交通大学位于北京市'"
      ]
     },
     "execution_count": 45,
     "metadata": {},
     "output_type": "execute_result"
    }
   ],
   "source": [
    "string.replace(\"西安\",\"北京\")"
   ]
  }
 ],
 "metadata": {
  "kernelspec": {
   "display_name": "GPUPyTorch",
   "language": "python",
   "name": "python3"
  },
  "language_info": {
   "codemirror_mode": {
    "name": "ipython",
    "version": 3
   },
   "file_extension": ".py",
   "mimetype": "text/x-python",
   "name": "python",
   "nbconvert_exporter": "python",
   "pygments_lexer": "ipython3",
   "version": "3.12.8"
  },
  "orig_nbformat": 4
 },
 "nbformat": 4,
 "nbformat_minor": 2
}
