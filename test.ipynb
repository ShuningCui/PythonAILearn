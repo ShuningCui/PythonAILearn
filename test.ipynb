{
 "cells": [
  {
   "cell_type": "code",
   "execution_count": 3,
   "metadata": {},
   "outputs": [
    {
     "name": "stdout",
     "output_type": "stream",
     "text": [
      "def\n"
     ]
    }
   ],
   "source": [
    "string=input().split()\n",
    "k=int(string[1])\n",
    "string1=string[0]\n",
    "out=[]\n",
    "for i in string1:\n",
    "    if i.isupper():\n",
    "        i=chr((ord(i)-65+k)%26+65)\n",
    "    if i.islower():\n",
    "        i=chr((ord(i)-97+k)%26+97)\n",
    "    out.append(i)\n",
    "print(''.join(out))"
   ]
  }
 ],
 "metadata": {
  "kernelspec": {
   "display_name": "GPUpytorch",
   "language": "python",
   "name": "python3"
  },
  "language_info": {
   "codemirror_mode": {
    "name": "ipython",
    "version": 3
   },
   "file_extension": ".py",
   "mimetype": "text/x-python",
   "name": "python",
   "nbconvert_exporter": "python",
   "pygments_lexer": "ipython3",
   "version": "3.12.8"
  }
 },
 "nbformat": 4,
 "nbformat_minor": 2
}
