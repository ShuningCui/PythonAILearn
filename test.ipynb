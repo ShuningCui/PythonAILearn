{
 "cells": [
  {
   "cell_type": "code",
   "execution_count": 2,
   "metadata": {},
   "outputs": [
    {
     "name": "stdout",
     "output_type": "stream",
     "text": [
      "ehwfhweijfi**\n"
     ]
    }
   ],
   "source": [
    "shuru = input().split()\n",
    "j = len(shuru[0])-1\n",
    "while shuru[0][j] ==\"*\":\n",
    "    j = j-1\n",
    "if len(shuru[0][j+1:]) > int(shuru[1]):\n",
    "    shuru[0] = shuru[0][:j+1] + shuru[0][j+1:j+1+int(shuru[1])] \n",
    "else:\n",
    "    shuru[0] = shuru[0]\n",
    "print(shuru[0])"
   ]
  }
 ],
 "metadata": {
  "kernelspec": {
   "display_name": "Python 3",
   "language": "python",
   "name": "python3"
  },
  "language_info": {
   "codemirror_mode": {
    "name": "ipython",
    "version": 3
   },
   "file_extension": ".py",
   "mimetype": "text/x-python",
   "name": "python",
   "nbconvert_exporter": "python",
   "pygments_lexer": "ipython3",
   "version": "3.11.4"
  }
 },
 "nbformat": 4,
 "nbformat_minor": 2
}
