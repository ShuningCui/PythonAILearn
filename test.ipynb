{
   "cells": [
      {
         "cell_type": "code",
         "execution_count": 3,
         "execution_count": 2,
         "metadata": {},
         "outputs": [
            {
               "name": "stdout",
               "output_type": "stream",
               "text": [
                  "def\n""yingying of restaurant,yingying of restaurant\n"
               ]
            }
         ],
         "source": [
            "class Restaurant:\n",
            "    def __init__(self,restaurant_name,restaurant_type):\n",
            "        self.restaurant_name = restaurant_name\n",
            "        self.restaurant_type = restaurant_type\n",
            "\n",
            "    def describe_restaurant(self):\n",
            "        print(f\"{self.restaurant_name}  {self.restaurant_type}\")\n",
            "\n",
            "    def open_restaurant(self):\n",
            "        print(\"The restaurant is opening\")\n",
            "\n",
            "this_restaurant = Restaurant('yingying of restaurant','rice')\n",
            "print (f\"{this_restaurant.restaurant_name},{this_restaurant.restaurant_name}\")"
         ]
      }
   ],
   "metadata": {
      "kernelspec": {
         "display_name": "GPUpytorch",
         "language": "python",
         "name": "python3"
      },
      "language_info": {
         "codemirror_mode": {
            "name": "ipython",
            "version": 3
         },
         "file_extension": ".py",
         "mimetype": "text/x-python",
         "name": "python",
         "nbconvert_exporter": "python",
         "pygments_lexer": "ipython3",
         "version": "3.12.8"
      }
   },
   "nbformat": 4,
   "nbformat_minor": 2
}