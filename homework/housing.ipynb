{
 "cells": [
  {
   "cell_type": "code",
   "execution_count": 1,
   "metadata": {},
   "outputs": [],
   "source": [
    "from sklearn.datasets import fetch_california_housing\n",
    "from sklearn.model_selection import train_test_split\n",
    "import numpy as np\n",
    "import matplotlib.pyplot as plt\n",
    "import torch\n",
    "import torch.nn as nn\n",
    "import torch.nn.functional as F\n",
    "import torch.optim as optim\n",
    "from torch.utils.data import DataLoader, TensorDataset"
   ]
  },
  {
   "cell_type": "code",
   "execution_count": 3,
   "metadata": {},
   "outputs": [
    {
     "data": {
      "text/plain": [
       "(array([[ 8.32520000e+00,  4.10000000e+01,  6.98412698e+00,\n",
       "          1.02380952e+00,  3.22000000e+02,  2.55555556e+00,\n",
       "          3.78800000e+01, -1.22230000e+02],\n",
       "        [ 8.30140000e+00,  2.10000000e+01,  6.23813708e+00,\n",
       "          9.71880492e-01,  2.40100000e+03,  2.10984183e+00,\n",
       "          3.78600000e+01, -1.22220000e+02],\n",
       "        [ 7.25740000e+00,  5.20000000e+01,  8.28813559e+00,\n",
       "          1.07344633e+00,  4.96000000e+02,  2.80225989e+00,\n",
       "          3.78500000e+01, -1.22240000e+02],\n",
       "        [ 5.64310000e+00,  5.20000000e+01,  5.81735160e+00,\n",
       "          1.07305936e+00,  5.58000000e+02,  2.54794521e+00,\n",
       "          3.78500000e+01, -1.22250000e+02],\n",
       "        [ 3.84620000e+00,  5.20000000e+01,  6.28185328e+00,\n",
       "          1.08108108e+00,  5.65000000e+02,  2.18146718e+00,\n",
       "          3.78500000e+01, -1.22250000e+02]]),\n",
       " array([4.526, 3.585, 3.521, 3.413, 3.422]))"
      ]
     },
     "execution_count": 3,
     "metadata": {},
     "output_type": "execute_result"
    }
   ],
   "source": [
    "X, y = fetch_california_housing(return_X_y=True)\n",
    "X[:5], y[:5]"
   ]
  },
  {
   "cell_type": "code",
   "execution_count": 4,
   "metadata": {},
   "outputs": [
    {
     "data": {
      "text/plain": [
       "(20640, 20640)"
      ]
     },
     "execution_count": 4,
     "metadata": {},
     "output_type": "execute_result"
    }
   ],
   "source": [
    "len(X), len(y)\n"
   ]
  },
  {
   "cell_type": "code",
   "execution_count": 5,
   "metadata": {},
   "outputs": [
    {
     "data": {
      "text/plain": [
       "8"
      ]
     },
     "execution_count": 5,
     "metadata": {},
     "output_type": "execute_result"
    }
   ],
   "source": [
    "len(X[0])"
   ]
  },
  {
   "cell_type": "code",
   "execution_count": 6,
   "metadata": {},
   "outputs": [],
   "source": [
    "X_train, X_test, y_train, y_test = train_test_split(X, y, test_size=0.3)\n",
    "X_train = torch.tensor(X_train, dtype=torch.float32)\n",
    "X_test = torch.tensor(X_test, dtype=torch.float32)\n",
    "y_train = torch.tensor(y_train, dtype=torch.float32)\n",
    "y_test = torch.tensor(y_test, dtype=torch.float32)\n",
    "\n",
    "# Datasets\n",
    "train_dataset = TensorDataset(X_train, y_train)\n",
    "test_dataset = TensorDataset(X_test, y_test)\n",
    "#Loaders\n",
    "train_loader = DataLoader(train_dataset, batch_size=16, shuffle=True)\n",
    "test_loader = DataLoader(test_dataset, batch_size=16, shuffle=False)"
   ]
  },
  {
   "cell_type": "code",
   "execution_count": 7,
   "metadata": {},
   "outputs": [],
   "source": [
    "# model\n",
    "class Regression(nn.Module):\n",
    "    def __init__(self):\n",
    "        super().__init__()\n",
    "        self.fc1 = nn.Linear(8, 64)\n",
    "        self.fc2 = nn.Linear(64, 128)\n",
    "        self.fc3 = nn.Linear(128, 64)\n",
    "        self.fc4 = nn.Linear(64, 1)\n",
    "\n",
    "    def forward(self, x):\n",
    "        x = F.relu(self.fc1(x))\n",
    "        x = F.relu(self.fc2(x))\n",
    "        x = F.relu(self.fc3(x))\n",
    "        x = self.fc4(x)\n",
    "        return x"
   ]
  },
  {
   "cell_type": "code",
   "execution_count": 8,
   "metadata": {},
   "outputs": [],
   "source": [
    "# mini-batch training\n",
    "def mini_batch_train(model, train_loader, optimizer, loss_fn):\n",
    "    mini_batch_losses = []\n",
    "    for x_batch, y_batch in train_loader:\n",
    "        model.train()\n",
    "        # step 1 前向计算预测值\n",
    "        yhat = model(x_batch)\n",
    "        # step 2 计算损失\n",
    "        mini_batch_loss = loss_fn(yhat, y_batch)\n",
    "        # step 3 计算梯度\n",
    "        mini_batch_loss.backward()\n",
    "        # step 4 更新参数\n",
    "        optimizer.step()\n",
    "        # 清空梯度\n",
    "        optimizer.zero_grad()\n",
    "        # 记录损失\n",
    "        mini_batch_losses.append(mini_batch_loss.item())\n",
    "    \n",
    "    return np.mean(mini_batch_losses)"
   ]
  },
  {
   "cell_type": "code",
   "execution_count": 9,
   "metadata": {},
   "outputs": [],
   "source": [
    "# 测试\n",
    "def mini_batch_val(model, test_loader, optimizer, loss_fn):\n",
    "    mini_batch_losses = []\n",
    "    for x_batch, y_batch in test_loader:\n",
    "        # 置为验证状态\n",
    "        model.eval()\n",
    "        # Step 1 - 前向计算预测值\n",
    "        yhat = model(x_batch)\n",
    "        # Step 2 - 计算损失\n",
    "        mini_batch_loss = loss_fn(yhat, y_batch)\n",
    "        mini_batch_losses.append(mini_batch_loss.item())\n",
    "    \n",
    "    return np.mean(mini_batch_losses)"
   ]
  },
  {
   "cell_type": "code",
   "execution_count": 10,
   "metadata": {},
   "outputs": [],
   "source": [
    "# 训练\n",
    "def train(model, train_loader, test_loader, optimizer, loss_fn, epochs):\n",
    "    # 指定随机数种子，可以再现数据\n",
    "    np.random.seed(23)\n",
    "    torch.manual_seed(23)\n",
    "\n",
    "    # 循环轮数计数\n",
    "    total_epochs = 0\n",
    "    # 记录训练和验证损失\n",
    "    train_losses = []\n",
    "    val_losses = []\n",
    "    for epoch in range(epochs):\n",
    "        # 训练\n",
    "        model.train()\n",
    "        total_epochs += 1\n",
    "        train_loss = mini_batch_train(model, train_loader, optimizer, loss_fn)\n",
    "        train_losses.append(train_loss)\n",
    "        # 验证\n",
    "        with torch.no_grad():\n",
    "            val_loss = mini_batch_val(model, test_loader, optimizer, loss_fn)\n",
    "            val_losses.append(val_loss)\n",
    "        \n",
    "        print(f\"Epoch {epoch+1}/{epochs}, train_loss: {train_loss:.4f}, val_loss: {val_loss:.4f}\")\n",
    "    \n",
    "    return train_losses, val_losses"
   ]
  },
  {
   "cell_type": "code",
   "execution_count": 11,
   "metadata": {},
   "outputs": [
    {
     "name": "stderr",
     "output_type": "stream",
     "text": [
      "c:\\Users\\CuiShuning\\AppData\\Local\\Programs\\Python\\Python312\\Lib\\site-packages\\torch\\nn\\modules\\loss.py:535: UserWarning: Using a target size (torch.Size([16])) that is different to the input size (torch.Size([16, 1])). This will likely lead to incorrect results due to broadcasting. Please ensure they have the same size.\n",
      "  return F.mse_loss(input, target, reduction=self.reduction)\n"
     ]
    },
    {
     "name": "stdout",
     "output_type": "stream",
     "text": [
      "Epoch 1/100, train_loss: 3.7837, val_loss: 1.3388\n",
      "Epoch 2/100, train_loss: 1.8150, val_loss: 1.5369\n",
      "Epoch 3/100, train_loss: 1.4955, val_loss: 1.3536\n",
      "Epoch 4/100, train_loss: 1.4134, val_loss: 1.3307\n",
      "Epoch 5/100, train_loss: 1.3978, val_loss: 1.3144\n",
      "Epoch 6/100, train_loss: 1.4142, val_loss: 1.3161\n",
      "Epoch 7/100, train_loss: 1.4113, val_loss: 1.3508\n",
      "Epoch 8/100, train_loss: 1.3980, val_loss: 1.3226\n",
      "Epoch 9/100, train_loss: 1.4073, val_loss: 1.3623\n",
      "Epoch 10/100, train_loss: 1.3783, val_loss: 1.3075\n",
      "Epoch 11/100, train_loss: 1.3905, val_loss: 1.3907\n",
      "Epoch 12/100, train_loss: 1.3729, val_loss: 1.3064\n",
      "Epoch 13/100, train_loss: 1.3826, val_loss: 1.3070\n",
      "Epoch 14/100, train_loss: 1.3703, val_loss: 1.3313\n",
      "Epoch 15/100, train_loss: 1.3665, val_loss: 1.3079\n",
      "Epoch 16/100, train_loss: 1.3613, val_loss: 1.3173\n",
      "Epoch 17/100, train_loss: 1.3591, val_loss: 1.3214\n",
      "Epoch 18/100, train_loss: 1.3618, val_loss: 1.3361\n",
      "Epoch 19/100, train_loss: 1.3588, val_loss: 1.3051\n",
      "Epoch 20/100, train_loss: 1.3601, val_loss: 1.3049\n",
      "Epoch 21/100, train_loss: 1.3582, val_loss: 1.3183\n",
      "Epoch 22/100, train_loss: 1.3583, val_loss: 1.3067\n",
      "Epoch 23/100, train_loss: 1.3598, val_loss: 1.3038\n",
      "Epoch 24/100, train_loss: 1.3544, val_loss: 1.3039\n",
      "Epoch 25/100, train_loss: 1.3572, val_loss: 1.3199\n",
      "Epoch 26/100, train_loss: 1.3572, val_loss: 1.3033\n",
      "Epoch 27/100, train_loss: 1.3554, val_loss: 1.3125\n",
      "Epoch 28/100, train_loss: 1.3544, val_loss: 1.3132\n",
      "Epoch 29/100, train_loss: 1.3523, val_loss: 1.3051\n",
      "Epoch 30/100, train_loss: 1.3531, val_loss: 1.3036\n",
      "Epoch 31/100, train_loss: 1.3511, val_loss: 1.3589\n",
      "Epoch 32/100, train_loss: 1.3503, val_loss: 1.3262\n",
      "Epoch 33/100, train_loss: 1.3506, val_loss: 1.3241\n",
      "Epoch 34/100, train_loss: 1.3489, val_loss: 1.3067\n",
      "Epoch 35/100, train_loss: 1.3503, val_loss: 1.3082\n",
      "Epoch 36/100, train_loss: 1.3489, val_loss: 1.3062\n",
      "Epoch 37/100, train_loss: 1.3497, val_loss: 1.3115\n",
      "Epoch 38/100, train_loss: 1.3492, val_loss: 1.3075\n",
      "Epoch 39/100, train_loss: 1.3491, val_loss: 1.3050\n",
      "Epoch 40/100, train_loss: 1.3479, val_loss: 1.3347\n",
      "Epoch 41/100, train_loss: 1.3480, val_loss: 1.3035\n",
      "Epoch 42/100, train_loss: 1.3474, val_loss: 1.3102\n",
      "Epoch 43/100, train_loss: 1.3486, val_loss: 1.3040\n",
      "Epoch 44/100, train_loss: 1.3493, val_loss: 1.3116\n",
      "Epoch 45/100, train_loss: 1.3482, val_loss: 1.3114\n",
      "Epoch 46/100, train_loss: 1.3479, val_loss: 1.3040\n",
      "Epoch 47/100, train_loss: 1.3480, val_loss: 1.3100\n",
      "Epoch 48/100, train_loss: 1.3472, val_loss: 1.3032\n",
      "Epoch 49/100, train_loss: 1.3472, val_loss: 1.3076\n",
      "Epoch 50/100, train_loss: 1.3480, val_loss: 1.3239\n",
      "Epoch 51/100, train_loss: 1.3449, val_loss: 1.3036\n",
      "Epoch 52/100, train_loss: 1.3461, val_loss: 1.3035\n",
      "Epoch 53/100, train_loss: 1.3469, val_loss: 1.3032\n",
      "Epoch 54/100, train_loss: 1.3462, val_loss: 1.3112\n",
      "Epoch 55/100, train_loss: 1.3470, val_loss: 1.3102\n",
      "Epoch 56/100, train_loss: 1.3466, val_loss: 1.3060\n",
      "Epoch 57/100, train_loss: 1.3456, val_loss: 1.3040\n",
      "Epoch 58/100, train_loss: 1.3450, val_loss: 1.3030\n",
      "Epoch 59/100, train_loss: 1.3466, val_loss: 1.3065\n",
      "Epoch 60/100, train_loss: 1.3494, val_loss: 1.3029\n",
      "Epoch 61/100, train_loss: 1.3462, val_loss: 1.3029\n",
      "Epoch 62/100, train_loss: 1.3449, val_loss: 1.3027\n",
      "Epoch 63/100, train_loss: 1.3452, val_loss: 1.3027\n",
      "Epoch 64/100, train_loss: 1.3458, val_loss: 1.3083\n",
      "Epoch 65/100, train_loss: 1.3453, val_loss: 1.3082\n",
      "Epoch 66/100, train_loss: 1.3441, val_loss: 1.3026\n",
      "Epoch 67/100, train_loss: 1.3455, val_loss: 1.3027\n",
      "Epoch 68/100, train_loss: 1.3451, val_loss: 1.3027\n",
      "Epoch 69/100, train_loss: 1.3450, val_loss: 1.3152\n",
      "Epoch 70/100, train_loss: 1.3450, val_loss: 1.3042\n",
      "Epoch 71/100, train_loss: 1.3456, val_loss: 1.3034\n",
      "Epoch 72/100, train_loss: 1.3446, val_loss: 1.3035\n",
      "Epoch 73/100, train_loss: 1.3441, val_loss: 1.3070\n",
      "Epoch 74/100, train_loss: 1.3450, val_loss: 1.3034\n",
      "Epoch 75/100, train_loss: 1.3445, val_loss: 1.3079\n",
      "Epoch 76/100, train_loss: 1.3435, val_loss: 1.3058\n",
      "Epoch 77/100, train_loss: 1.3439, val_loss: 1.3073\n",
      "Epoch 78/100, train_loss: 1.3456, val_loss: 1.3029\n",
      "Epoch 79/100, train_loss: 1.3436, val_loss: 1.3034\n",
      "Epoch 80/100, train_loss: 1.3458, val_loss: 1.3033\n",
      "Epoch 81/100, train_loss: 1.3443, val_loss: 1.3078\n",
      "Epoch 82/100, train_loss: 1.3454, val_loss: 1.3049\n",
      "Epoch 83/100, train_loss: 1.3438, val_loss: 1.3036\n",
      "Epoch 84/100, train_loss: 1.3439, val_loss: 1.3041\n",
      "Epoch 85/100, train_loss: 1.3439, val_loss: 1.3031\n",
      "Epoch 86/100, train_loss: 1.3431, val_loss: 1.3054\n",
      "Epoch 87/100, train_loss: 1.3434, val_loss: 1.3044\n",
      "Epoch 88/100, train_loss: 1.3433, val_loss: 1.3046\n",
      "Epoch 89/100, train_loss: 1.3435, val_loss: 1.3040\n",
      "Epoch 90/100, train_loss: 1.3439, val_loss: 1.3046\n",
      "Epoch 91/100, train_loss: 1.3433, val_loss: 1.3033\n",
      "Epoch 92/100, train_loss: 1.3429, val_loss: 1.3039\n",
      "Epoch 93/100, train_loss: 1.3438, val_loss: 1.3033\n",
      "Epoch 94/100, train_loss: 1.3427, val_loss: 1.3041\n",
      "Epoch 95/100, train_loss: 1.3433, val_loss: 1.3047\n",
      "Epoch 96/100, train_loss: 1.3435, val_loss: 1.3031\n",
      "Epoch 97/100, train_loss: 1.3432, val_loss: 1.3031\n",
      "Epoch 98/100, train_loss: 1.3421, val_loss: 1.3212\n",
      "Epoch 99/100, train_loss: 1.3436, val_loss: 1.3029\n",
      "Epoch 100/100, train_loss: 1.3431, val_loss: 1.3029\n"
     ]
    }
   ],
   "source": [
    "model = Regression()\n",
    "loss = nn.MSELoss()\n",
    "lr = 0.001\n",
    "optimizer = optim.Adam(model.parameters(), lr=lr)\n",
    "epochs = 100\n",
    "train_losses, val_losses = train(model, train_loader, test_loader, optimizer, loss, epochs)\n"
   ]
  },
  {
   "cell_type": "code",
   "execution_count": 12,
   "metadata": {},
   "outputs": [
    {
     "data": {
      "image/png": "[encoded data removed]",
      "text/plain": [
       "<Figure size 1000x400 with 1 Axes>"
      ]
     },
     "metadata": {},
     "output_type": "display_data"
    }
   ],
   "source": [
    "plt.style.use('fivethirtyeight')\n",
    "def plot_losses():\n",
    "    fig = plt.figure(figsize=(10, 4))\n",
    "    plt.plot(train_losses, label='Training Loss', c='b')\n",
    "    plt.plot(val_losses, label='Validation Loss', c='r')\n",
    "    plt.yscale('log')\n",
    "    plt.xlabel('Epochs')\n",
    "    plt.ylabel('Loss')\n",
    "    plt.legend()\n",
    "    plt.tight_layout()\n",
    "    return fig\n",
    "\n",
    "fig=plot_losses()"
   ]
  },
  {
   "cell_type": "code",
   "execution_count": 13,
   "metadata": {},
   "outputs": [],
   "source": [
    "test_data, test_target = next(iter(test_loader))"
   ]
  },
  {
   "cell_type": "code",
   "execution_count": 14,
   "metadata": {},
   "outputs": [
    {
     "data": {
      "text/plain": [
       "(torch.Size([16, 8]), torch.Size([16]))"
      ]
     },
     "execution_count": 14,
     "metadata": {},
     "output_type": "execute_result"
    }
   ],
   "source": [
    "test_data.shape, test_target.shape"
   ]
  },
  {
   "cell_type": "code",
   "execution_count": 15,
   "metadata": {},
   "outputs": [
    {
     "name": "stdout",
     "output_type": "stream",
     "text": [
      "Predicted value: 2.0473, Actual value:           2.0580\n",
      "Predicted value: 2.0412, Actual value:           0.7330\n",
      "Predicted value: 2.0412, Actual value:           0.6720\n",
      "Predicted value: 2.0432, Actual value:           0.8190\n",
      "Predicted value: 2.0554, Actual value:           2.4890\n",
      "Predicted value: 2.0472, Actual value:           2.7110\n",
      "Predicted value: 2.0611, Actual value:           1.3510\n",
      "Predicted value: 2.0665, Actual value:           3.6170\n",
      "Predicted value: 2.0456, Actual value:           2.0710\n",
      "Predicted value: 2.0735, Actual value:           1.5320\n",
      "Predicted value: 2.0597, Actual value:           0.7130\n",
      "Predicted value: 2.0565, Actual value:           2.3560\n",
      "Predicted value: 2.0893, Actual value:           2.1800\n",
      "Predicted value: 2.0378, Actual value:           2.5980\n",
      "Predicted value: 2.0360, Actual value:           2.1420\n",
      "Predicted value: 2.0419, Actual value:           0.9380\n"
     ]
    },
    {
     "data": {
      "text/plain": [
       "Regression(\n",
       "  (fc1): Linear(in_features=8, out_features=64, bias=True)\n",
       "  (fc2): Linear(in_features=64, out_features=128, bias=True)\n",
       "  (fc3): Linear(in_features=128, out_features=64, bias=True)\n",
       "  (fc4): Linear(in_features=64, out_features=1, bias=True)\n",
       ")"
      ]
     },
     "execution_count": 15,
     "metadata": {},
     "output_type": "execute_result"
    }
   ],
   "source": [
    "model.eval()\n",
    "for i in range(16):\n",
    "    yhat = model(test_data[i])\n",
    "    print(f\"Predicted value: {yhat.item():.4f}, Actual value: \\\n",
    "          {test_target[i].item():.4f}\")\n",
    "model.train()"
   ]
  }
 ],
 "metadata": {
  "kernelspec": {
   "display_name": "Python 3",
   "language": "python",
   "name": "python3"
  },
  "language_info": {
   "codemirror_mode": {
    "name": "ipython",
    "version": 3
   },
   "file_extension": ".py",
   "mimetype": "text/x-python",
   "name": "python",
   "nbconvert_exporter": "python",
   "pygments_lexer": "ipython3",
   "version": "3.12.2"
  }
 },
 "nbformat": 4,
 "nbformat_minor": 2
}
