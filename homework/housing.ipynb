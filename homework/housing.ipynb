{
 "cells": [
  {
   "cell_type": "code",
   "execution_count": 1,
   "metadata": {},
   "outputs": [],
   "source": [
    "from sklearn.datasets import fetch_california_housing\n",
    "from sklearn.model_selection import train_test_split\n",
    "import numpy as np\n",
    "import matplotlib.pyplot as plt\n",
    "import torch\n",
    "import torch.nn as nn\n",
    "import torch.nn.functional as F\n",
    "import torch.optim as optim\n",
    "from torch.utils.data import DataLoader, TensorDataset"
   ]
  },
  {
   "cell_type": "code",
   "execution_count": 2,
   "metadata": {},
   "outputs": [],
   "source": [
    "X, y = fetch_california_housing(data_home=\"./\", return_X_y=True)"
   ]
  },
  {
   "cell_type": "code",
   "execution_count": 7,
   "metadata": {},
   "outputs": [],
   "source": [
    "X_train, X_test, y_train, y_test = train_test_split(X, y, test_size=0.3)\n",
    "X_train = torch.tensor(X_train, dtype=torch.float32)\n",
    "X_test = torch.tensor(X_test, dtype=torch.float32)\n",
    "y_train = torch.tensor(y_train, dtype=torch.float32).view(-1, 1)\n",
    "y_test = torch.tensor(y_test, dtype=torch.float32).view(-1,1)"
   ]
  },
  {
   "cell_type": "code",
   "execution_count": 4,
   "metadata": {},
   "outputs": [],
   "source": [
    "class MyLinearRegression(nn.Module):\n",
    "    def __init__(self):\n",
    "        super().__init__()\n",
    "        self.fc1 = nn.Linear(8,64)\n",
    "        self.fc2 = nn.Linear(64, 32)\n",
    "        self.fc3 = nn.Linear(32, 1)\n",
    " \n",
    "    def forward(self, x):\n",
    "        x = self.fc1(x)\n",
    "        x = F.relu(x)\n",
    "        x = self.fc2(x)\n",
    "        x = F.relu(x)\n",
    "        y = self.fc3(x)\n",
    "        return y\n",
    "\n",
    "model = MyLinearRegression()"
   ]
  },
  {
   "cell_type": "code",
   "execution_count": 5,
   "metadata": {},
   "outputs": [],
   "source": [
    "loss = nn.MSELoss()\n",
    "lr = 0.001\n",
    "optimizer = optim.Adam(model.parameters(), lr=lr)\n",
    "epochs = 10000"
   ]
  },
  {
   "cell_type": "code",
   "execution_count": 8,
   "metadata": {},
   "outputs": [],
   "source": [
    "# Datasets\n",
    "train_dataset = TensorDataset(X_train, y_train)\n",
    "test_dataset = TensorDataset(X_test, y_test)\n",
    "#Loaders\n",
    "train_loader = DataLoader(train_dataset, batch_size=400, shuffle=True)\n",
    "test_loader = DataLoader(test_dataset, batch_size=200, shuffle=False)"
   ]
  },
  {
   "cell_type": "code",
   "execution_count": null,
   "metadata": {},
   "outputs": [],
   "source": [
    "for epoch in range(epochs):\n",
    "    for x_batch,y_batch in train_loader:\n",
    "        yhat = model(x_batch)\n",
    "        losses = loss(yhat, y_batch)\n",
    "        losses.backward()\n",
    "        optimizer.step()\n",
    "        optimizer.zero_grad()\n",
    "        if epoch % 10 == 0:\n",
    "            print(f\"epoch: {epoch}, loss: {losses.item()}\")"
   ]
  },
  {
   "cell_type": "code",
   "execution_count": 9,
   "metadata": {},
   "outputs": [
    {
     "name": "stdout",
     "output_type": "stream",
     "text": [
      "torch.Size([400, 8]) torch.Size([400, 1])\n",
      "torch.Size([400, 8]) torch.Size([400, 1])\n",
      "torch.Size([400, 8]) torch.Size([400, 1])\n",
      "torch.Size([400, 8]) torch.Size([400, 1])\n",
      "torch.Size([400, 8]) torch.Size([400, 1])\n",
      "torch.Size([400, 8]) torch.Size([400, 1])\n",
      "torch.Size([400, 8]) torch.Size([400, 1])\n",
      "torch.Size([400, 8]) torch.Size([400, 1])\n",
      "torch.Size([400, 8]) torch.Size([400, 1])\n",
      "torch.Size([400, 8]) torch.Size([400, 1])\n",
      "torch.Size([400, 8]) torch.Size([400, 1])\n",
      "torch.Size([400, 8]) torch.Size([400, 1])\n",
      "torch.Size([400, 8]) torch.Size([400, 1])\n",
      "torch.Size([400, 8]) torch.Size([400, 1])\n",
      "torch.Size([400, 8]) torch.Size([400, 1])\n",
      "torch.Size([400, 8]) torch.Size([400, 1])\n",
      "torch.Size([400, 8]) torch.Size([400, 1])\n",
      "torch.Size([400, 8]) torch.Size([400, 1])\n",
      "torch.Size([400, 8]) torch.Size([400, 1])\n",
      "torch.Size([400, 8]) torch.Size([400, 1])\n",
      "torch.Size([400, 8]) torch.Size([400, 1])\n",
      "torch.Size([400, 8]) torch.Size([400, 1])\n",
      "torch.Size([400, 8]) torch.Size([400, 1])\n",
      "torch.Size([400, 8]) torch.Size([400, 1])\n",
      "torch.Size([400, 8]) torch.Size([400, 1])\n",
      "torch.Size([400, 8]) torch.Size([400, 1])\n",
      "torch.Size([400, 8]) torch.Size([400, 1])\n",
      "torch.Size([400, 8]) torch.Size([400, 1])\n",
      "torch.Size([400, 8]) torch.Size([400, 1])\n",
      "torch.Size([400, 8]) torch.Size([400, 1])\n",
      "torch.Size([400, 8]) torch.Size([400, 1])\n",
      "torch.Size([400, 8]) torch.Size([400, 1])\n",
      "torch.Size([400, 8]) torch.Size([400, 1])\n",
      "torch.Size([400, 8]) torch.Size([400, 1])\n",
      "torch.Size([400, 8]) torch.Size([400, 1])\n",
      "torch.Size([400, 8]) torch.Size([400, 1])\n",
      "torch.Size([48, 8]) torch.Size([48, 1])\n"
     ]
    }
   ],
   "source": [
    "for x_batch, y_batch in train_loader:\n",
    "    print(x_batch.shape, y_batch.shape)"
   ]
  },
  {
   "cell_type": "code",
   "execution_count": null,
   "metadata": {},
   "outputs": [],
   "source": [
    "# model\n",
    "class Regression(nn.Module):\n",
    "    def __init__(self):\n",
    "        super().__init__()\n",
    "        self.fc1 = nn.Linear(8, 64)\n",
    "        self.fc2 = nn.Linear(64, 128)\n",
    "        self.fc3 = nn.Linear(128, 64)\n",
    "        self.fc4 = nn.Linear(64, 1)\n",
    "\n",
    "    def forward(self, x):\n",
    "        x = F.relu(self.fc1(x))\n",
    "        x = F.relu(self.fc2(x))\n",
    "        x = F.relu(self.fc3(x))\n",
    "        x = self.fc4(x)\n",
    "        return x"
   ]
  },
  {
   "cell_type": "code",
   "execution_count": null,
   "metadata": {},
   "outputs": [],
   "source": [
    "# mini-batch training\n",
    "def mini_batch_train(model, train_loader, optimizer, loss_fn):\n",
    "    mini_batch_losses = []\n",
    "    for x_batch, y_batch in train_loader:\n",
    "        model.train()\n",
    "        # step 1 前向计算预测值\n",
    "        yhat = model(x_batch)\n",
    "        # step 2 计算损失\n",
    "        mini_batch_loss = loss_fn(yhat, y_batch)\n",
    "        # step 3 反向传播计算梯度\n",
    "        mini_batch_loss.backward()\n",
    "        # step 4 更新参数\n",
    "        optimizer.step()\n",
    "        # 清空梯度\n",
    "        optimizer.zero_grad()\n",
    "        # 记录损失\n",
    "        mini_batch_losses.append(mini_batch_loss.item())\n",
    "    \n",
    "    return np.mean(mini_batch_losses)"
   ]
  },
  {
   "cell_type": "code",
   "execution_count": null,
   "metadata": {},
   "outputs": [],
   "source": [
    "# 测试\n",
    "def mini_batch_val(model, test_loader, optimizer, loss_fn):\n",
    "    mini_batch_losses = []\n",
    "    for x_batch, y_batch in test_loader:\n",
    "        # 置为验证状态\n",
    "        model.eval()\n",
    "        # Step 1 - 前向计算预测值\n",
    "        yhat = model(x_batch)\n",
    "        # Step 2 - 计算损失\n",
    "        mini_batch_loss = loss_fn(yhat, y_batch)\n",
    "        mini_batch_losses.append(mini_batch_loss.item())\n",
    "    \n",
    "    return np.mean(mini_batch_losses)"
   ]
  },
  {
   "cell_type": "code",
   "execution_count": null,
   "metadata": {},
   "outputs": [],
   "source": [
    "# 训练\n",
    "def train(model, train_loader, test_loader, optimizer, loss_fn, epochs):\n",
    "    # 指定随机数种子，可以再现数据\n",
    "    np.random.seed(23)\n",
    "    torch.manual_seed(23)\n",
    "\n",
    "    # 循环轮数计数\n",
    "    total_epochs = 0\n",
    "    # 记录训练和验证损失\n",
    "    train_losses = []\n",
    "    val_losses = []\n",
    "    for epoch in range(epochs):\n",
    "        # 训练\n",
    "        model.train()\n",
    "        total_epochs += 1\n",
    "        train_loss = mini_batch_train(model, train_loader, optimizer, loss_fn)\n",
    "        train_losses.append(train_loss)\n",
    "        # 验证\n",
    "        with torch.no_grad():\n",
    "            val_loss = mini_batch_val(model, test_loader, optimizer, loss_fn)\n",
    "            val_losses.append(val_loss)\n",
    "        \n",
    "        print(f\"Epoch {epoch+1}/{epochs}, train_loss: {train_loss:.4f}, val_loss: {val_loss:.4f}\")\n",
    "    \n",
    "    return train_losses, val_losses"
   ]
  },
  {
   "cell_type": "code",
   "execution_count": null,
   "metadata": {},
   "outputs": [],
   "source": [
    "model = Regression()\n",
    "loss = nn.MSELoss()\n",
    "lr = 0.001\n",
    "optimizer = optim.Adam(model.parameters(), lr=lr)\n",
    "epochs = 10\n",
    "train_losses, val_losses = train(model, train_loader, test_loader, optimizer, loss, epochs)\n"
   ]
  },
  {
   "cell_type": "code",
   "execution_count": null,
   "metadata": {},
   "outputs": [],
   "source": [
    "plt.style.use('fivethirtyeight')\n",
    "def plot_losses():\n",
    "    fig = plt.figure(figsize=(10, 4))\n",
    "    plt.plot(train_losses, label='Training Loss', c='b')\n",
    "    plt.plot(val_losses, label='Validation Loss', c='r')\n",
    "    plt.yscale('log')\n",
    "    plt.xlabel('Epochs')\n",
    "    plt.ylabel('Loss')\n",
    "    plt.legend()\n",
    "    plt.tight_layout()\n",
    "    return fig\n",
    "\n",
    "fig=plot_losses()"
   ]
  },
  {
   "cell_type": "code",
   "execution_count": null,
   "metadata": {},
   "outputs": [],
   "source": [
    "test_data, test_target = next(iter(test_loader))"
   ]
  },
  {
   "cell_type": "code",
   "execution_count": null,
   "metadata": {},
   "outputs": [],
   "source": [
    "test_data.shape, test_target.shape"
   ]
  },
  {
   "cell_type": "code",
   "execution_count": null,
   "metadata": {},
   "outputs": [],
   "source": [
    "model.eval()\n",
    "for i in range(16):\n",
    "    yhat = model(test_data[i])\n",
    "    print(f\"Predicted value: {yhat.item():.4f}, Actual value: \\\n",
    "          {test_target[i].item():.4f}\")\n",
    "model.train()"
   ]
  }
 ],
 "metadata": {
  "kernelspec": {
   "display_name": "pytorch",
   "language": "python",
   "name": "python3"
  },
  "language_info": {
   "codemirror_mode": {
    "name": "ipython",
    "version": 3
   },
   "file_extension": ".py",
   "mimetype": "text/x-python",
   "name": "python",
   "nbconvert_exporter": "python",
   "pygments_lexer": "ipython3",
   "version": "3.12.4"
  }
 },
 "nbformat": 4,
 "nbformat_minor": 2
}
