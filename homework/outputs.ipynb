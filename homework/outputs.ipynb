{
 "cells": [
  {
   "cell_type": "code",
   "execution_count": null,
   "metadata": {},
   "outputs": [],
   "source": [
    "# print不换行\n",
    "print('a', end='')\n",
    "print('b', end='')\n",
    "print('c', end='')"
   ]
  },
  {
   "cell_type": "code",
   "execution_count": null,
   "metadata": {},
   "outputs": [],
   "source": [
    "# 使用列表或者元组输出\n",
    "list1=[1,2,3,4,5]\n",
    "print(list1)\n",
    "print(*list1)\n"
   ]
  },
  {
   "cell_type": "code",
   "execution_count": null,
   "metadata": {},
   "outputs": [],
   "source": [
    "# P031-按规则输出倒序字符串\n",
    "# 编写程序，按下列规则倒序输出子字符串。先输出最后的一个字符，\n",
    "# 再输出最后两个字符串，在再出后面三个字符..., 最后输出整个字符串。输入的字符串长度不超过100。\n",
    "# 输入：一个字符串（无空格，字符个数不超过100）\n",
    "# 输出：空格隔开的子字符串，用一个空格间隔。\n",
    "# 样例：\n",
    "# student\n",
    "# t nt ent dent udent tudent student\n",
    "\n",
    "\n",
    "string = input()\n",
    "out = [string[-i:] for i in range(1, len(string)+1)]\n",
    "print(*out)"
   ]
  },
  {
   "cell_type": "code",
   "execution_count": null,
   "metadata": {},
   "outputs": [],
   "source": [
    "# 使用字符串的join方法\n",
    "list1 = ['a', 'b', 'c']\n",
    "str1 = '+'.join(list1)\n",
    "str2 = ''.join(list1)\n",
    "str3 = ' '.join(list1)"
   ]
  },
  {
   "cell_type": "code",
   "execution_count": null,
   "metadata": {},
   "outputs": [],
   "source": [
    "# 求a+aa+aaa+aaaa+…+aa...a（n个），其中a为1～9之间的整数。\n",
    "# 例如：当a = 1, n = 3时，求1+11+111之和为123；\n",
    "# 输入：组成序列的数字a和求和项的数量n\n",
    "# 输出：算式和结果。\n",
    "num = [int(x) for x in input().split()]\n",
    "series = [num[0]]\n",
    "for i in range(1, num[1]):\n",
    "    series.append(series[i-1]*10+num[0])\n",
    "print('+'.join(str(s) for s in series)+\"=\"+str(sum(series)))"
   ]
  },
  {
   "cell_type": "code",
   "execution_count": null,
   "metadata": {},
   "outputs": [],
   "source": [
    "# p020-统计其中各个英文字母的出现次数\n",
    "# 输入一个可能带空格字符的字符串(长度不超过100)，统计其中各个英文字母的出现次数，\n",
    "# 不区分大小写。输出字母a～z的出现次数，数据间以英文逗号分隔。非英文字母不统计。\n",
    "# 输入：可能带空格的字符串。\n",
    "# 输出：26个整数，以英文逗号分隔。\n",
    "\n",
    "\n",
    "string = input().upper()\n",
    "count = [0] * 26\n",
    "for s in string:\n",
    "    if s.isalpha():\n",
    "        count[ord(s) - ord('A')] += 1\n",
    "print(','.join([str(i) for i in count]))"
   ]
  }
 ],
 "metadata": {
  "kernelspec": {
   "display_name": "Python 3",
   "language": "python",
   "name": "python3"
  },
  "language_info": {
   "codemirror_mode": {
    "name": "ipython",
    "version": 3
   },
   "file_extension": ".py",
   "mimetype": "text/x-python",
   "name": "python",
   "nbconvert_exporter": "python",
   "pygments_lexer": "ipython3",
   "version": "3.12.2"
  }
 },
 "nbformat": 4,
 "nbformat_minor": 2
}
