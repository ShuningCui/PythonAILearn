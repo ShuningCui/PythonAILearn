{
 "cells": [
  {
   "cell_type": "code",
   "execution_count": 1,
   "metadata": {},
   "outputs": [],
   "source": [
    "from sklearn.datasets import load_iris\n",
    "from sklearn.model_selection import train_test_split\n",
    "import numpy as np\n",
    "import matplotlib.pyplot as plt\n",
    "import torch\n",
    "import torch.nn as nn\n",
    "import torch.nn.functional as F\n",
    "import torch.optim as optim\n",
    "from torch.utils.data import DataLoader, TensorDataset\n"
   ]
  },
  {
   "cell_type": "code",
   "execution_count": 2,
   "metadata": {},
   "outputs": [],
   "source": [
    "X,y = load_iris(return_X_y=True)\n",
    "X_train, X_test, y_train, y_test = train_test_split(X,y,test_size=0.2,random_state=13)\n"
   ]
  },
  {
   "cell_type": "code",
   "execution_count": 3,
   "metadata": {},
   "outputs": [],
   "source": [
    "# 转换为tensor\n",
    "X_train_tensor = torch.as_tensor(X_train, dtype=torch.float32)\n",
    "y_train_tensor = torch.as_tensor(y_train, dtype=torch.int64)\n",
    "X_test_tensor = torch.as_tensor(X_test, dtype=torch.float32)\n",
    "y_test_tensor = torch.as_tensor(y_test, dtype=torch.int64)\n",
    "# 数据集\n",
    "train_dataset = TensorDataset(X_train_tensor, y_train_tensor)\n",
    "test_dataset = TensorDataset(X_test_tensor, y_test_tensor)\n",
    "# 数据加载器\n",
    "train_loader = DataLoader(train_dataset, batch_size=16, shuffle=True)\n",
    "test_loader = DataLoader(test_dataset, batch_size=16, shuffle=False)\n"
   ]
  },
  {
   "cell_type": "code",
   "execution_count": 4,
   "metadata": {},
   "outputs": [],
   "source": [
    "# 定义模型\n",
    "class Classification(nn.Module):\n",
    "    def __init__(self):\n",
    "        super().__init__()\n",
    "        self.fc1 = nn.Linear(4, 32)\n",
    "        self.fc2 = nn.Linear(32, 32)\n",
    "        self.fc3 = nn.Linear(32, 3)\n",
    "\n",
    "    def forward(self, x):\n",
    "        x = self.fc1(x)\n",
    "        x = F.relu(x)\n",
    "        x = self.fc2(x)\n",
    "        x = F.relu(x)\n",
    "        x = self.fc3(x)\n",
    "        return x"
   ]
  },
  {
   "cell_type": "code",
   "execution_count": 5,
   "metadata": {},
   "outputs": [],
   "source": [
    "# mini-batch training\n",
    "def mini_batch_train(model, train_loader, optimizer, loss_fn):\n",
    "    mini_batch_losses = []\n",
    "    for x_batch, y_batch in train_loader:\n",
    "        model.train()\n",
    "        # step 1 前向计算预测值\n",
    "        yhat = model(x_batch)\n",
    "        # step 2 计算损失\n",
    "        mini_batch_loss = loss_fn(yhat, y_batch)\n",
    "        # step 3 计算梯度\n",
    "        mini_batch_loss.backward()\n",
    "        # step 4 更新参数\n",
    "        optimizer.step()\n",
    "        # 清空梯度\n",
    "        optimizer.zero_grad()\n",
    "        # 记录损失\n",
    "        mini_batch_losses.append(mini_batch_loss.item())\n",
    "    \n",
    "    return np.mean(mini_batch_losses)\n"
   ]
  },
  {
   "cell_type": "code",
   "execution_count": 6,
   "metadata": {},
   "outputs": [],
   "source": [
    "# 测试\n",
    "def mini_batch_val(model, test_loader, optimizer, loss_fn):\n",
    "    mini_batch_losses = []\n",
    "    for x_batch, y_batch in test_loader:\n",
    "        model.eval()\n",
    "        # 置为验证状态\n",
    "        model.eval()\n",
    "        # Step 1 - 前向计算预测值\n",
    "        yhat = model(x_batch)\n",
    "        # Step 2 - 计算损失\n",
    "        mini_batch_loss = loss_fn(yhat, y_batch)\n",
    "        mini_batch_losses.append(mini_batch_loss.item())\n",
    "    \n",
    "    return np.mean(mini_batch_losses)\n"
   ]
  },
  {
   "cell_type": "code",
   "execution_count": 7,
   "metadata": {},
   "outputs": [],
   "source": [
    "# 训练\n",
    "def train(model, train_loader, test_loader, optimizer, loss_fn, epochs):\n",
    "    # 指定随机数种子，可以再现数据\n",
    "    np.random.seed(23)\n",
    "    torch.manual_seed(23)\n",
    "\n",
    "    # 循环轮数计数\n",
    "    total_epochs = 0\n",
    "    # 记录训练和验证损失\n",
    "    train_losses = []\n",
    "    val_losses = []\n",
    "    for epoch in range(epochs):\n",
    "        # 训练\n",
    "        model.train()\n",
    "        total_epochs += 1\n",
    "        train_loss = mini_batch_train(model, train_loader, optimizer, loss_fn)\n",
    "        train_losses.append(train_loss)\n",
    "        # 验证\n",
    "        with torch.no_grad():\n",
    "            val_loss = mini_batch_val(model, test_loader, optimizer, loss_fn)\n",
    "            val_losses.append(val_loss)\n",
    "        \n",
    "        print(f\"Epoch {epoch+1}/{epochs}, train_loss: {train_loss:.4f}, val_loss: {val_loss:.4f}\")\n",
    "    \n",
    "    return train_losses, val_losses"
   ]
  },
  {
   "cell_type": "code",
   "execution_count": 8,
   "metadata": {},
   "outputs": [
    {
     "name": "stdout",
     "output_type": "stream",
     "text": [
      "Epoch 1/100, train_loss: 1.1348, val_loss: 1.1186\n",
      "Epoch 2/100, train_loss: 1.0922, val_loss: 1.0762\n",
      "Epoch 3/100, train_loss: 1.0572, val_loss: 1.0395\n",
      "Epoch 4/100, train_loss: 1.0292, val_loss: 1.0183\n",
      "Epoch 5/100, train_loss: 1.0055, val_loss: 0.9947\n",
      "Epoch 6/100, train_loss: 0.9770, val_loss: 0.9615\n",
      "Epoch 7/100, train_loss: 0.9424, val_loss: 0.9171\n",
      "Epoch 8/100, train_loss: 0.9073, val_loss: 0.8743\n",
      "Epoch 9/100, train_loss: 0.8681, val_loss: 0.8334\n",
      "Epoch 10/100, train_loss: 0.8233, val_loss: 0.7874\n",
      "Epoch 11/100, train_loss: 0.7742, val_loss: 0.7388\n",
      "Epoch 12/100, train_loss: 0.7248, val_loss: 0.7039\n",
      "Epoch 13/100, train_loss: 0.6850, val_loss: 0.6569\n",
      "Epoch 14/100, train_loss: 0.6349, val_loss: 0.6180\n",
      "Epoch 15/100, train_loss: 0.6051, val_loss: 0.5787\n",
      "Epoch 16/100, train_loss: 0.5740, val_loss: 0.5501\n",
      "Epoch 17/100, train_loss: 0.5366, val_loss: 0.5307\n",
      "Epoch 18/100, train_loss: 0.5201, val_loss: 0.5036\n",
      "Epoch 19/100, train_loss: 0.4851, val_loss: 0.4833\n",
      "Epoch 20/100, train_loss: 0.4829, val_loss: 0.4688\n",
      "Epoch 21/100, train_loss: 0.4471, val_loss: 0.4571\n",
      "Epoch 22/100, train_loss: 0.4313, val_loss: 0.4370\n",
      "Epoch 23/100, train_loss: 0.4150, val_loss: 0.4253\n",
      "Epoch 24/100, train_loss: 0.3863, val_loss: 0.4025\n",
      "Epoch 25/100, train_loss: 0.3804, val_loss: 0.3872\n",
      "Epoch 26/100, train_loss: 0.3736, val_loss: 0.3771\n",
      "Epoch 27/100, train_loss: 0.3565, val_loss: 0.3567\n",
      "Epoch 28/100, train_loss: 0.3331, val_loss: 0.3491\n",
      "Epoch 29/100, train_loss: 0.3170, val_loss: 0.3358\n",
      "Epoch 30/100, train_loss: 0.3060, val_loss: 0.3204\n",
      "Epoch 31/100, train_loss: 0.2862, val_loss: 0.3123\n",
      "Epoch 32/100, train_loss: 0.2918, val_loss: 0.2989\n",
      "Epoch 33/100, train_loss: 0.2728, val_loss: 0.2932\n",
      "Epoch 34/100, train_loss: 0.2556, val_loss: 0.2797\n",
      "Epoch 35/100, train_loss: 0.2446, val_loss: 0.2703\n",
      "Epoch 36/100, train_loss: 0.2363, val_loss: 0.2622\n",
      "Epoch 37/100, train_loss: 0.2169, val_loss: 0.2503\n",
      "Epoch 38/100, train_loss: 0.2284, val_loss: 0.2425\n",
      "Epoch 39/100, train_loss: 0.2048, val_loss: 0.2329\n",
      "Epoch 40/100, train_loss: 0.2061, val_loss: 0.2256\n",
      "Epoch 41/100, train_loss: 0.1958, val_loss: 0.2215\n",
      "Epoch 42/100, train_loss: 0.1888, val_loss: 0.2163\n",
      "Epoch 43/100, train_loss: 0.1726, val_loss: 0.2059\n",
      "Epoch 44/100, train_loss: 0.1713, val_loss: 0.1992\n",
      "Epoch 45/100, train_loss: 0.1656, val_loss: 0.1973\n",
      "Epoch 46/100, train_loss: 0.1562, val_loss: 0.1889\n",
      "Epoch 47/100, train_loss: 0.1533, val_loss: 0.1854\n",
      "Epoch 48/100, train_loss: 0.1483, val_loss: 0.1793\n",
      "Epoch 49/100, train_loss: 0.1544, val_loss: 0.1737\n",
      "Epoch 50/100, train_loss: 0.1427, val_loss: 0.1790\n",
      "Epoch 51/100, train_loss: 0.1365, val_loss: 0.1656\n",
      "Epoch 52/100, train_loss: 0.1352, val_loss: 0.1641\n",
      "Epoch 53/100, train_loss: 0.1357, val_loss: 0.1584\n",
      "Epoch 54/100, train_loss: 0.1285, val_loss: 0.1656\n",
      "Epoch 55/100, train_loss: 0.1251, val_loss: 0.1555\n",
      "Epoch 56/100, train_loss: 0.1204, val_loss: 0.1491\n",
      "Epoch 57/100, train_loss: 0.1238, val_loss: 0.1512\n",
      "Epoch 58/100, train_loss: 0.1249, val_loss: 0.1444\n",
      "Epoch 59/100, train_loss: 0.1214, val_loss: 0.1553\n",
      "Epoch 60/100, train_loss: 0.1101, val_loss: 0.1385\n",
      "Epoch 61/100, train_loss: 0.1108, val_loss: 0.1379\n",
      "Epoch 62/100, train_loss: 0.1058, val_loss: 0.1352\n",
      "Epoch 63/100, train_loss: 0.1038, val_loss: 0.1341\n",
      "Epoch 64/100, train_loss: 0.1095, val_loss: 0.1332\n",
      "Epoch 65/100, train_loss: 0.0992, val_loss: 0.1317\n",
      "Epoch 66/100, train_loss: 0.0987, val_loss: 0.1301\n",
      "Epoch 67/100, train_loss: 0.0996, val_loss: 0.1254\n",
      "Epoch 68/100, train_loss: 0.1038, val_loss: 0.1280\n",
      "Epoch 69/100, train_loss: 0.0909, val_loss: 0.1203\n",
      "Epoch 70/100, train_loss: 0.0925, val_loss: 0.1240\n",
      "Epoch 71/100, train_loss: 0.1118, val_loss: 0.1267\n",
      "Epoch 72/100, train_loss: 0.0975, val_loss: 0.1208\n",
      "Epoch 73/100, train_loss: 0.0950, val_loss: 0.1139\n",
      "Epoch 74/100, train_loss: 0.0902, val_loss: 0.1230\n",
      "Epoch 75/100, train_loss: 0.0886, val_loss: 0.1218\n",
      "Epoch 76/100, train_loss: 0.0895, val_loss: 0.1085\n",
      "Epoch 77/100, train_loss: 0.0869, val_loss: 0.1147\n",
      "Epoch 78/100, train_loss: 0.0826, val_loss: 0.1152\n",
      "Epoch 79/100, train_loss: 0.0802, val_loss: 0.1075\n",
      "Epoch 80/100, train_loss: 0.0809, val_loss: 0.1062\n",
      "Epoch 81/100, train_loss: 0.0800, val_loss: 0.1136\n",
      "Epoch 82/100, train_loss: 0.0769, val_loss: 0.1063\n",
      "Epoch 83/100, train_loss: 0.0792, val_loss: 0.1061\n",
      "Epoch 84/100, train_loss: 0.0792, val_loss: 0.1020\n",
      "Epoch 85/100, train_loss: 0.0898, val_loss: 0.1094\n",
      "Epoch 86/100, train_loss: 0.0776, val_loss: 0.1109\n",
      "Epoch 87/100, train_loss: 0.0770, val_loss: 0.1039\n",
      "Epoch 88/100, train_loss: 0.0796, val_loss: 0.1076\n",
      "Epoch 89/100, train_loss: 0.0740, val_loss: 0.0945\n",
      "Epoch 90/100, train_loss: 0.0808, val_loss: 0.1065\n",
      "Epoch 91/100, train_loss: 0.0731, val_loss: 0.1045\n",
      "Epoch 92/100, train_loss: 0.0795, val_loss: 0.0984\n",
      "Epoch 93/100, train_loss: 0.0728, val_loss: 0.1059\n",
      "Epoch 94/100, train_loss: 0.0795, val_loss: 0.1007\n",
      "Epoch 95/100, train_loss: 0.0781, val_loss: 0.0897\n",
      "Epoch 96/100, train_loss: 0.0739, val_loss: 0.1129\n",
      "Epoch 97/100, train_loss: 0.0735, val_loss: 0.0971\n",
      "Epoch 98/100, train_loss: 0.0743, val_loss: 0.0990\n",
      "Epoch 99/100, train_loss: 0.0699, val_loss: 0.1117\n",
      "Epoch 100/100, train_loss: 0.0670, val_loss: 0.0954\n"
     ]
    }
   ],
   "source": [
    "model = Classification()\n",
    "loss = nn.CrossEntropyLoss()\n",
    "lr = 0.001\n",
    "optimizer = optim.Adam(model.parameters(), lr=lr)\n",
    "epochs = 100\n",
    "train_losses, val_losses = train(model, train_loader, test_loader, optimizer, loss, epochs)\n"
   ]
  },
  {
   "cell_type": "code",
   "execution_count": 9,
   "metadata": {},
   "outputs": [
    {
     "data": {
      "image/png": "[encoded data removed]",
      "text/plain": [
       "<Figure size 1000x400 with 1 Axes>"
      ]
     },
     "metadata": {},
     "output_type": "display_data"
    }
   ],
   "source": [
    "plt.style.use('fivethirtyeight')\n",
    "def plot_losses():\n",
    "    fig = plt.figure(figsize=(10, 4))\n",
    "    plt.plot(train_losses, label='Training Loss', c='b')\n",
    "    plt.plot(val_losses, label='Validation Loss', c='r')\n",
    "    plt.yscale('log')\n",
    "    plt.xlabel('Epochs')\n",
    "    plt.ylabel('Loss')\n",
    "    plt.legend()\n",
    "    plt.tight_layout()\n",
    "    return fig\n",
    "\n",
    "fig=plot_losses()"
   ]
  },
  {
   "cell_type": "code",
   "execution_count": 10,
   "metadata": {},
   "outputs": [],
   "source": [
    "def correct(model, test_loader):\n",
    "        predicteds = []\n",
    "        ylabels = []\n",
    "        for x, y in test_loader:\n",
    "                model.eval()\n",
    "                yhat = model(x)\n",
    "                predicted = torch.argmax(yhat, dim=1).detach().numpy()\n",
    "                predicteds.extend(predicted)\n",
    "                ylabels.extend(y.detach().numpy())\n",
    "        return predicteds, ylabels\n",
    "        "
   ]
  },
  {
   "cell_type": "code",
   "execution_count": 11,
   "metadata": {},
   "outputs": [],
   "source": [
    "predicteds, ylabels = correct(model, test_loader)"
   ]
  },
  {
   "cell_type": "code",
   "execution_count": 12,
   "metadata": {},
   "outputs": [
    {
     "name": "stdout",
     "output_type": "stream",
     "text": [
      "[1, 1, 0, 2, 2, 0, 2, 2, 0, 1, 2, 2, 1, 0, 2, 0, 2, 2, 1, 0, 1, 0, 0, 2, 1, 2, 0, 2, 1, 2]\n",
      "[1, 1, 0, 2, 2, 0, 2, 2, 0, 1, 2, 2, 1, 0, 2, 0, 2, 2, 1, 0, 1, 0, 0, 2, 1, 2, 0, 2, 1, 2]\n"
     ]
    }
   ],
   "source": [
    "print(predicteds)\n",
    "print(ylabels)"
   ]
  },
  {
   "cell_type": "code",
   "execution_count": 13,
   "metadata": {},
   "outputs": [
    {
     "name": "stdout",
     "output_type": "stream",
     "text": [
      "1.0\n"
     ]
    }
   ],
   "source": [
    "sum = 0\n",
    "for i in range(len(predicteds)):\n",
    "        if predicteds[i] == ylabels[i]:\n",
    "            sum += 1\n",
    "\n",
    "print(sum/len(predicteds))"
   ]
  }
 ],
 "metadata": {
  "kernelspec": {
   "display_name": "Python 3",
   "language": "python",
   "name": "python3"
  },
  "language_info": {
   "codemirror_mode": {
    "name": "ipython",
    "version": 3
   },
   "file_extension": ".py",
   "mimetype": "text/x-python",
   "name": "python",
   "nbconvert_exporter": "python",
   "pygments_lexer": "ipython3",
   "version": "3.11.4"
  }
 },
 "nbformat": 4,
 "nbformat_minor": 2
}
