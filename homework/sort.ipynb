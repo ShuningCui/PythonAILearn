{
 "cells": [
  {
   "cell_type": "code",
   "execution_count": null,
   "metadata": {},
   "outputs": [],
   "source": [
    "# list自带的sort方法是对原列表进行排序，不会返回新的列表\n",
    "# sorted函数会返回一个新的列表，原列表不变\n",
    "list1 = [1, 3, 2, 4, 5]\n",
    "list2 = sorted(list1)\n",
    "print(list1)"
   ]
  },
  {
   "cell_type": "code",
   "execution_count": null,
   "metadata": {},
   "outputs": [],
   "source": [
    "list1.sort()\n",
    "print(list1)"
   ]
  },
  {
   "cell_type": "code",
   "execution_count": null,
   "metadata": {},
   "outputs": [],
   "source": [
    "# 降序排序\n",
    "list2 = [1, 3, 2, 4, 5]\n",
    "list3 = sorted(list2, reverse=True)\n",
    "list2.sort(reverse=True)"
   ]
  },
  {
   "cell_type": "code",
   "execution_count": null,
   "metadata": {},
   "outputs": [],
   "source": [
    "# P006-电话簿排序\n",
    "# 编写一个程序，读入n个用户姓名和电话号码，按姓名的字典顺序排列后，\n",
    "# 输出用户的姓名和电话号码，n从键盘输入。\n",
    "# 样例：\n",
    "# 输入：\n",
    "# \n",
    "# 3\n",
    "# zhang 122\n",
    "# wang 233\n",
    "# li 567\n",
    "# 输出：\n",
    "# li 567\n",
    "# wang 233\n",
    "# zhang 122\n",
    "\n",
    "\n",
    "n = int(input())\n",
    "phone_list = []\n",
    "for _ in range(n):\n",
    "    phone_list.append(input())\n",
    "phone_list.sort()\n",
    "for phone in phone_list:\n",
    "    print(phone)\n"
   ]
  },
  {
   "cell_type": "code",
   "execution_count": null,
   "metadata": {},
   "outputs": [],
   "source": [
    "# P007-学生成绩排序\n",
    "# 有n名学生，每个学生的数据包含学号、姓名、三门课的成绩。\n",
    "# 可以从键盘输入n个学生的数据，按总成绩从小到大排序，\n",
    "# 打印包含学号、姓名、三门课成绩和总成绩的成绩单。（测试时，数据从键盘输入。）\n",
    "# 输入：第1行为整数n，后面n行表示n个人的信息，包括学号、姓名、和三门课的成绩，每行的数据间用空格隔开。\n",
    "# 输出：n行，表示n个人的信息，包括学号、姓名、三门课的成绩和总成绩，数据间一个空格，末尾无空格。\n",
    "# 样例：\n",
    "# 输入：\n",
    "# 2\n",
    "# 2021001 li 60 80 70\n",
    "# 2021002 wang 100 90 80\n",
    "# 输出：\n",
    "# 2021001 li 60 70 80 210\n",
    "# 2021002 wang 100 90 80 270\n",
    "\n",
    "n = int(input())\n",
    "student_list = []\n",
    "for i in range(n):\n",
    "    student_list.append(input().split())\n",
    "    student_list[i].append(sum([int(x) for x in student_list[i][-3:]]))\n",
    "student_list.sort(key=lambda x: x[-1])\n",
    "for student in student_list:\n",
    "    print(*student)"
   ]
  },
  {
   "cell_type": "code",
   "execution_count": null,
   "metadata": {},
   "outputs": [],
   "source": [
    "# P024-统计字母次数\n",
    "# 输入一个可能含空格的字符串，分别统计其中26个英文字母出现的次数\n",
    "# （不区分大、小写字母），并按字母出现的次数，从高到低进行排序。\n",
    "# 若次数相同，按字母顺序排列。字母输出格式举例，\n",
    "# 例如：A-3，表示字母A出现3次，C-0表示字母C没有出现过。\n",
    "# 输入：\n",
    "# 第一行为输入，占一行\n",
    "# 输出：\n",
    "# 第二行为输出，占一行。按照字母输出格式从高到低输出，各字母输出之间用一个空格字符进行分隔。\n",
    "# 样例：\n",
    "# 123abcAABXxwvUu+\n",
    "# A-3 B-2 U-2 X-2 C-1 V-1 W-1 D-0 E-0 F-0 G-0 H-0 I-0 J-0 K-0 L-0 M-0 N-0 O-0 P-0 Q-0 R-0 S-0 T-0 Y-0 Z-0\n",
    "\n",
    "\n",
    "string = [s for s in input().upper() if s.isalpha()]\n",
    "count = []\n",
    "for i in range(26):\n",
    "    count.append((chr(65+i),string.count(chr(65+i))))\n",
    "count.sort(key=lambda x:x[1],reverse=True)\n",
    "out = [f'{s[0]}-{s[1]}' for s in count]\n",
    "print(*out)"
   ]
  }
 ],
 "metadata": {
  "language_info": {
   "name": "python"
  }
 },
 "nbformat": 4,
 "nbformat_minor": 2
}
