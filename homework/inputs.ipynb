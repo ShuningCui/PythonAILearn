{
 "cells": [
  {
   "cell_type": "markdown",
   "metadata": {},
   "source": [
    "## 一次输入一个值"
   ]
  },
  {
   "cell_type": "code",
   "execution_count": null,
   "metadata": {},
   "outputs": [],
   "source": [
    "# 输入的是一个字符串\n",
    "input_str = input()\n",
    "input_str\n"
   ]
  },
  {
   "cell_type": "code",
   "execution_count": null,
   "metadata": {},
   "outputs": [],
   "source": [
    "# 输入2个字符串, 以空格分隔\n",
    "input_str = input().split(' ')\n",
    "input_str"
   ]
  },
  {
   "cell_type": "code",
   "execution_count": null,
   "metadata": {},
   "outputs": [],
   "source": [
    "# 输入2个字符串, 以空格分隔\n",
    "str1,str2 = input().split(' ')\n",
    "str1,str2"
   ]
  },
  {
   "cell_type": "code",
   "execution_count": null,
   "metadata": {},
   "outputs": [],
   "source": [
    "# 输入一个整数\n",
    "input_int = int(input())\n",
    "input_int"
   ]
  },
  {
   "cell_type": "code",
   "execution_count": null,
   "metadata": {},
   "outputs": [],
   "source": [
    "# 输入2个整数, 以空格分隔\n",
    "a, b = [int (x) for x in input().split(' ')]"
   ]
  },
  {
   "cell_type": "code",
   "execution_count": null,
   "metadata": {},
   "outputs": [],
   "source": [
    "# 输入若干整数, 以空格分隔\n",
    "input_list = [int(x) for x in input().split(' ')]"
   ]
  },
  {
   "cell_type": "code",
   "execution_count": null,
   "metadata": {},
   "outputs": [],
   "source": [
    "# 编写一个程序，读入n个用户姓名和电话号码，按姓名的字典顺序排列后，\n",
    "# 输出用户的姓名和电话号码，n从键盘输入。\n",
    "# 样例：\n",
    "# 输入：\n",
    "# \n",
    "# 3\n",
    "# zhang 122\n",
    "# wang 233\n",
    "# li 567\n",
    "n = int(input())\n",
    "data = []\n",
    "for i in range(n):\n",
    "    name, phone = input().split(' ')\n",
    "    data.append((name, phone))"
   ]
  }
 ],
 "metadata": {
  "language_info": {
   "name": "python"
  }
 },
 "nbformat": 4,
 "nbformat_minor": 2
}
